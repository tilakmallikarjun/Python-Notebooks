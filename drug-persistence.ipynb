{
 "cells": [
  {
   "cell_type": "code",
   "execution_count": 1,
   "id": "064b51a2",
   "metadata": {
    "_cell_guid": "b1076dfc-b9ad-4769-8c92-a6c4dae69d19",
    "_uuid": "8f2839f25d086af736a60e9eeb907d3b93b6e0e5",
    "execution": {
     "iopub.execute_input": "2022-02-22T18:37:59.128999Z",
     "iopub.status.busy": "2022-02-22T18:37:59.127805Z",
     "iopub.status.idle": "2022-02-22T18:37:59.151413Z",
     "shell.execute_reply": "2022-02-22T18:37:59.151917Z",
     "shell.execute_reply.started": "2022-02-22T18:35:20.080004Z"
    },
    "papermill": {
     "duration": 0.072131,
     "end_time": "2022-02-22T18:37:59.152378",
     "exception": false,
     "start_time": "2022-02-22T18:37:59.080247",
     "status": "completed"
    },
    "tags": []
   },
   "outputs": [
    {
     "name": "stdout",
     "output_type": "stream",
     "text": [
      "/kaggle/input/healthcare-drug-data/data_drug_persistence.csv\n",
      "/kaggle/input/drug-persistence-healthcare/Case Study Data scientist Challenge_dataset_Persistent_Non_Persistent (1).xlsx\n"
     ]
    }
   ],
   "source": [
    "# This Python 3 environment comes with many helpful analytics libraries installed\n",
    "# It is defined by the kaggle/python Docker image: https://github.com/kaggle/docker-python\n",
    "# For example, here's several helpful packages to load\n",
    "\n",
    "import numpy as np # linear algebra\n",
    "import pandas as pd # data processing, CSV file I/O (e.g. pd.read_csv)\n",
    "\n",
    "# Input data files are available in the read-only \"../input/\" directory\n",
    "# For example, running this (by clicking run or pressing Shift+Enter) will list all files under the input directory\n",
    "\n",
    "import os\n",
    "for dirname, _, filenames in os.walk('/kaggle/input'):\n",
    "    for filename in filenames:\n",
    "        print(os.path.join(dirname, filename))\n",
    "\n",
    "# You can write up to 20GB to the current directory (/kaggle/working/) that gets preserved as output when you create a version using \"Save & Run All\" \n",
    "# You can also write temporary files to /kaggle/temp/, but they won't be saved outside of the current session"
   ]
  },
  {
   "cell_type": "code",
   "execution_count": 2,
   "id": "48a5d445",
   "metadata": {
    "execution": {
     "iopub.execute_input": "2022-02-22T18:37:59.248832Z",
     "iopub.status.busy": "2022-02-22T18:37:59.248157Z",
     "iopub.status.idle": "2022-02-22T18:38:00.450075Z",
     "shell.execute_reply": "2022-02-22T18:38:00.450635Z",
     "shell.execute_reply.started": "2022-02-22T18:35:20.101058Z"
    },
    "papermill": {
     "duration": 1.25394,
     "end_time": "2022-02-22T18:38:00.450808",
     "exception": false,
     "start_time": "2022-02-22T18:37:59.196868",
     "status": "completed"
    },
    "tags": []
   },
   "outputs": [],
   "source": [
    "import itertools\n",
    "import numpy as np\n",
    "import matplotlib.pyplot as plt\n",
    "from matplotlib.ticker import NullFormatter\n",
    "import pandas as pd\n",
    "import numpy as np\n",
    "import matplotlib.ticker as ticker\n",
    "from sklearn import preprocessing\n",
    "%matplotlib inline\n",
    "import numpy as np # linear algebra\n",
    "import pandas as pd # data processing, CSV file I/O (e.g. pd.read_csv)\n",
    "# use the inline backend to generate the plots within the browser\n",
    "%matplotlib inline\n",
    "import matplotlib as mpl\n",
    "import matplotlib.pyplot as plt\n",
    "import seaborn as sns\n",
    "from scipy.stats import norm\n",
    "from sklearn.preprocessing import StandardScaler\n",
    "from scipy import stats\n",
    "import warnings\n",
    "from sklearn.preprocessing import LabelEncoder\n",
    "warnings.filterwarnings('ignore')\n",
    "%matplotlib inline\n",
    "mpl.style.use('ggplot')  # optional: for ggplot-like style"
   ]
  },
  {
   "cell_type": "code",
   "execution_count": 3,
   "id": "0161a518",
   "metadata": {
    "execution": {
     "iopub.execute_input": "2022-02-22T18:38:00.543654Z",
     "iopub.status.busy": "2022-02-22T18:38:00.542995Z",
     "iopub.status.idle": "2022-02-22T18:38:00.632726Z",
     "shell.execute_reply": "2022-02-22T18:38:00.633326Z",
     "shell.execute_reply.started": "2022-02-22T18:35:20.122777Z"
    },
    "papermill": {
     "duration": 0.138861,
     "end_time": "2022-02-22T18:38:00.633523",
     "exception": false,
     "start_time": "2022-02-22T18:38:00.494662",
     "status": "completed"
    },
    "tags": []
   },
   "outputs": [
    {
     "data": {
      "text/html": [
       "<div>\n",
       "<style scoped>\n",
       "    .dataframe tbody tr th:only-of-type {\n",
       "        vertical-align: middle;\n",
       "    }\n",
       "\n",
       "    .dataframe tbody tr th {\n",
       "        vertical-align: top;\n",
       "    }\n",
       "\n",
       "    .dataframe thead th {\n",
       "        text-align: right;\n",
       "    }\n",
       "</style>\n",
       "<table border=\"1\" class=\"dataframe\">\n",
       "  <thead>\n",
       "    <tr style=\"text-align: right;\">\n",
       "      <th></th>\n",
       "      <th>Ptid</th>\n",
       "      <th>Persistency_Flag</th>\n",
       "      <th>Gender</th>\n",
       "      <th>Race</th>\n",
       "      <th>Ethnicity</th>\n",
       "      <th>Region</th>\n",
       "      <th>Age_Bucket</th>\n",
       "      <th>Ntm_Speciality</th>\n",
       "      <th>Ntm_Specialist_Flag</th>\n",
       "      <th>Ntm_Speciality_Bucket</th>\n",
       "      <th>...</th>\n",
       "      <th>Risk_Family_History_Of_Osteoporosis</th>\n",
       "      <th>Risk_Low_Calcium_Intake</th>\n",
       "      <th>Risk_Vitamin_D_Insufficiency</th>\n",
       "      <th>Risk_Poor_Health_Frailty</th>\n",
       "      <th>Risk_Excessive_Thinness</th>\n",
       "      <th>Risk_Hysterectomy_Oophorectomy</th>\n",
       "      <th>Risk_Estrogen_Deficiency</th>\n",
       "      <th>Risk_Immobilization</th>\n",
       "      <th>Risk_Recurring_Falls</th>\n",
       "      <th>Count_Of_Risks</th>\n",
       "    </tr>\n",
       "  </thead>\n",
       "  <tbody>\n",
       "    <tr>\n",
       "      <th>0</th>\n",
       "      <td>P1</td>\n",
       "      <td>Persistent</td>\n",
       "      <td>Male</td>\n",
       "      <td>Caucasian</td>\n",
       "      <td>Not Hispanic</td>\n",
       "      <td>West</td>\n",
       "      <td>&gt;75</td>\n",
       "      <td>GENERAL PRACTITIONER</td>\n",
       "      <td>Others</td>\n",
       "      <td>OB/GYN/Others/PCP/Unknown</td>\n",
       "      <td>...</td>\n",
       "      <td>N</td>\n",
       "      <td>N</td>\n",
       "      <td>N</td>\n",
       "      <td>N</td>\n",
       "      <td>N</td>\n",
       "      <td>N</td>\n",
       "      <td>N</td>\n",
       "      <td>N</td>\n",
       "      <td>N</td>\n",
       "      <td>0</td>\n",
       "    </tr>\n",
       "    <tr>\n",
       "      <th>1</th>\n",
       "      <td>P2</td>\n",
       "      <td>Non-Persistent</td>\n",
       "      <td>Male</td>\n",
       "      <td>Asian</td>\n",
       "      <td>Not Hispanic</td>\n",
       "      <td>West</td>\n",
       "      <td>55-65</td>\n",
       "      <td>GENERAL PRACTITIONER</td>\n",
       "      <td>Others</td>\n",
       "      <td>OB/GYN/Others/PCP/Unknown</td>\n",
       "      <td>...</td>\n",
       "      <td>N</td>\n",
       "      <td>N</td>\n",
       "      <td>N</td>\n",
       "      <td>N</td>\n",
       "      <td>N</td>\n",
       "      <td>N</td>\n",
       "      <td>N</td>\n",
       "      <td>N</td>\n",
       "      <td>N</td>\n",
       "      <td>0</td>\n",
       "    </tr>\n",
       "    <tr>\n",
       "      <th>2</th>\n",
       "      <td>P3</td>\n",
       "      <td>Non-Persistent</td>\n",
       "      <td>Female</td>\n",
       "      <td>Other/Unknown</td>\n",
       "      <td>Hispanic</td>\n",
       "      <td>Midwest</td>\n",
       "      <td>65-75</td>\n",
       "      <td>GENERAL PRACTITIONER</td>\n",
       "      <td>Others</td>\n",
       "      <td>OB/GYN/Others/PCP/Unknown</td>\n",
       "      <td>...</td>\n",
       "      <td>N</td>\n",
       "      <td>Y</td>\n",
       "      <td>N</td>\n",
       "      <td>N</td>\n",
       "      <td>N</td>\n",
       "      <td>N</td>\n",
       "      <td>N</td>\n",
       "      <td>N</td>\n",
       "      <td>N</td>\n",
       "      <td>2</td>\n",
       "    </tr>\n",
       "    <tr>\n",
       "      <th>3</th>\n",
       "      <td>P4</td>\n",
       "      <td>Non-Persistent</td>\n",
       "      <td>Female</td>\n",
       "      <td>Caucasian</td>\n",
       "      <td>Not Hispanic</td>\n",
       "      <td>Midwest</td>\n",
       "      <td>&gt;75</td>\n",
       "      <td>GENERAL PRACTITIONER</td>\n",
       "      <td>Others</td>\n",
       "      <td>OB/GYN/Others/PCP/Unknown</td>\n",
       "      <td>...</td>\n",
       "      <td>N</td>\n",
       "      <td>N</td>\n",
       "      <td>N</td>\n",
       "      <td>N</td>\n",
       "      <td>N</td>\n",
       "      <td>N</td>\n",
       "      <td>N</td>\n",
       "      <td>N</td>\n",
       "      <td>N</td>\n",
       "      <td>1</td>\n",
       "    </tr>\n",
       "    <tr>\n",
       "      <th>4</th>\n",
       "      <td>P5</td>\n",
       "      <td>Non-Persistent</td>\n",
       "      <td>Female</td>\n",
       "      <td>Caucasian</td>\n",
       "      <td>Not Hispanic</td>\n",
       "      <td>Midwest</td>\n",
       "      <td>&gt;75</td>\n",
       "      <td>GENERAL PRACTITIONER</td>\n",
       "      <td>Others</td>\n",
       "      <td>OB/GYN/Others/PCP/Unknown</td>\n",
       "      <td>...</td>\n",
       "      <td>N</td>\n",
       "      <td>N</td>\n",
       "      <td>N</td>\n",
       "      <td>N</td>\n",
       "      <td>N</td>\n",
       "      <td>N</td>\n",
       "      <td>N</td>\n",
       "      <td>N</td>\n",
       "      <td>N</td>\n",
       "      <td>1</td>\n",
       "    </tr>\n",
       "  </tbody>\n",
       "</table>\n",
       "<p>5 rows × 69 columns</p>\n",
       "</div>"
      ],
      "text/plain": [
       "  Ptid Persistency_Flag  Gender           Race     Ethnicity   Region  \\\n",
       "0   P1       Persistent    Male      Caucasian  Not Hispanic     West   \n",
       "1   P2   Non-Persistent    Male          Asian  Not Hispanic     West   \n",
       "2   P3   Non-Persistent  Female  Other/Unknown      Hispanic  Midwest   \n",
       "3   P4   Non-Persistent  Female      Caucasian  Not Hispanic  Midwest   \n",
       "4   P5   Non-Persistent  Female      Caucasian  Not Hispanic  Midwest   \n",
       "\n",
       "  Age_Bucket        Ntm_Speciality Ntm_Specialist_Flag  \\\n",
       "0        >75  GENERAL PRACTITIONER              Others   \n",
       "1      55-65  GENERAL PRACTITIONER              Others   \n",
       "2      65-75  GENERAL PRACTITIONER              Others   \n",
       "3        >75  GENERAL PRACTITIONER              Others   \n",
       "4        >75  GENERAL PRACTITIONER              Others   \n",
       "\n",
       "       Ntm_Speciality_Bucket  ... Risk_Family_History_Of_Osteoporosis  \\\n",
       "0  OB/GYN/Others/PCP/Unknown  ...                                   N   \n",
       "1  OB/GYN/Others/PCP/Unknown  ...                                   N   \n",
       "2  OB/GYN/Others/PCP/Unknown  ...                                   N   \n",
       "3  OB/GYN/Others/PCP/Unknown  ...                                   N   \n",
       "4  OB/GYN/Others/PCP/Unknown  ...                                   N   \n",
       "\n",
       "  Risk_Low_Calcium_Intake  Risk_Vitamin_D_Insufficiency  \\\n",
       "0                       N                             N   \n",
       "1                       N                             N   \n",
       "2                       Y                             N   \n",
       "3                       N                             N   \n",
       "4                       N                             N   \n",
       "\n",
       "  Risk_Poor_Health_Frailty Risk_Excessive_Thinness  \\\n",
       "0                        N                       N   \n",
       "1                        N                       N   \n",
       "2                        N                       N   \n",
       "3                        N                       N   \n",
       "4                        N                       N   \n",
       "\n",
       "  Risk_Hysterectomy_Oophorectomy Risk_Estrogen_Deficiency Risk_Immobilization  \\\n",
       "0                              N                        N                   N   \n",
       "1                              N                        N                   N   \n",
       "2                              N                        N                   N   \n",
       "3                              N                        N                   N   \n",
       "4                              N                        N                   N   \n",
       "\n",
       "  Risk_Recurring_Falls Count_Of_Risks  \n",
       "0                    N              0  \n",
       "1                    N              0  \n",
       "2                    N              2  \n",
       "3                    N              1  \n",
       "4                    N              1  \n",
       "\n",
       "[5 rows x 69 columns]"
      ]
     },
     "execution_count": 3,
     "metadata": {},
     "output_type": "execute_result"
    }
   ],
   "source": [
    "df = pd.read_csv('../input/healthcare-drug-data/data_drug_persistence.csv')\n",
    "df.head()"
   ]
  },
  {
   "cell_type": "code",
   "execution_count": 4,
   "id": "67c223cc",
   "metadata": {
    "execution": {
     "iopub.execute_input": "2022-02-22T18:38:00.726651Z",
     "iopub.status.busy": "2022-02-22T18:38:00.725911Z",
     "iopub.status.idle": "2022-02-22T18:38:00.730810Z",
     "shell.execute_reply": "2022-02-22T18:38:00.731425Z",
     "shell.execute_reply.started": "2022-02-22T18:35:20.225042Z"
    },
    "papermill": {
     "duration": 0.053067,
     "end_time": "2022-02-22T18:38:00.731599",
     "exception": false,
     "start_time": "2022-02-22T18:38:00.678532",
     "status": "completed"
    },
    "tags": []
   },
   "outputs": [
    {
     "data": {
      "text/plain": [
       "(3424, 69)"
      ]
     },
     "execution_count": 4,
     "metadata": {},
     "output_type": "execute_result"
    }
   ],
   "source": [
    "df.shape"
   ]
  },
  {
   "cell_type": "code",
   "execution_count": 5,
   "id": "877bb364",
   "metadata": {
    "execution": {
     "iopub.execute_input": "2022-02-22T18:38:00.826207Z",
     "iopub.status.busy": "2022-02-22T18:38:00.825544Z",
     "iopub.status.idle": "2022-02-22T18:38:00.831471Z",
     "shell.execute_reply": "2022-02-22T18:38:00.830926Z",
     "shell.execute_reply.started": "2022-02-22T18:35:20.234235Z"
    },
    "papermill": {
     "duration": 0.0547,
     "end_time": "2022-02-22T18:38:00.831607",
     "exception": false,
     "start_time": "2022-02-22T18:38:00.776907",
     "status": "completed"
    },
    "tags": []
   },
   "outputs": [
    {
     "data": {
      "text/plain": [
       "Index(['Ptid', 'Persistency_Flag', 'Gender', 'Race', 'Ethnicity', 'Region',\n",
       "       'Age_Bucket', 'Ntm_Speciality', 'Ntm_Specialist_Flag',\n",
       "       'Ntm_Speciality_Bucket', 'Gluco_Record_Prior_Ntm',\n",
       "       'Gluco_Record_During_Rx', 'Dexa_Freq_During_Rx', 'Dexa_During_Rx',\n",
       "       'Frag_Frac_Prior_Ntm', 'Frag_Frac_During_Rx', 'Risk_Segment_Prior_Ntm',\n",
       "       'Tscore_Bucket_Prior_Ntm', 'Risk_Segment_During_Rx',\n",
       "       'Tscore_Bucket_During_Rx', 'Change_T_Score', 'Change_Risk_Segment',\n",
       "       'Adherent_Flag', 'Idn_Indicator', 'Injectable_Experience_During_Rx',\n",
       "       'Comorb_Encounter_For_Screening_For_Malignant_Neoplasms',\n",
       "       'Comorb_Encounter_For_Immunization',\n",
       "       'Comorb_Encntr_For_General_Exam_W_O_Complaint,_Susp_Or_Reprtd_Dx',\n",
       "       'Comorb_Vitamin_D_Deficiency',\n",
       "       'Comorb_Other_Joint_Disorder_Not_Elsewhere_Classified',\n",
       "       'Comorb_Encntr_For_Oth_Sp_Exam_W_O_Complaint_Suspected_Or_Reprtd_Dx',\n",
       "       'Comorb_Long_Term_Current_Drug_Therapy', 'Comorb_Dorsalgia',\n",
       "       'Comorb_Personal_History_Of_Other_Diseases_And_Conditions',\n",
       "       'Comorb_Other_Disorders_Of_Bone_Density_And_Structure',\n",
       "       'Comorb_Disorders_of_lipoprotein_metabolism_and_other_lipidemias',\n",
       "       'Comorb_Osteoporosis_without_current_pathological_fracture',\n",
       "       'Comorb_Personal_history_of_malignant_neoplasm',\n",
       "       'Comorb_Gastro_esophageal_reflux_disease',\n",
       "       'Concom_Cholesterol_And_Triglyceride_Regulating_Preparations',\n",
       "       'Concom_Narcotics', 'Concom_Systemic_Corticosteroids_Plain',\n",
       "       'Concom_Anti_Depressants_And_Mood_Stabilisers',\n",
       "       'Concom_Fluoroquinolones', 'Concom_Cephalosporins',\n",
       "       'Concom_Macrolides_And_Similar_Types',\n",
       "       'Concom_Broad_Spectrum_Penicillins', 'Concom_Anaesthetics_General',\n",
       "       'Concom_Viral_Vaccines', 'Risk_Type_1_Insulin_Dependent_Diabetes',\n",
       "       'Risk_Osteogenesis_Imperfecta', 'Risk_Rheumatoid_Arthritis',\n",
       "       'Risk_Untreated_Chronic_Hyperthyroidism',\n",
       "       'Risk_Untreated_Chronic_Hypogonadism', 'Risk_Untreated_Early_Menopause',\n",
       "       'Risk_Patient_Parent_Fractured_Their_Hip', 'Risk_Smoking_Tobacco',\n",
       "       'Risk_Chronic_Malnutrition_Or_Malabsorption',\n",
       "       'Risk_Chronic_Liver_Disease', 'Risk_Family_History_Of_Osteoporosis',\n",
       "       'Risk_Low_Calcium_Intake', 'Risk_Vitamin_D_Insufficiency',\n",
       "       'Risk_Poor_Health_Frailty', 'Risk_Excessive_Thinness',\n",
       "       'Risk_Hysterectomy_Oophorectomy', 'Risk_Estrogen_Deficiency',\n",
       "       'Risk_Immobilization', 'Risk_Recurring_Falls', 'Count_Of_Risks'],\n",
       "      dtype='object')"
      ]
     },
     "execution_count": 5,
     "metadata": {},
     "output_type": "execute_result"
    }
   ],
   "source": [
    "df.columns"
   ]
  },
  {
   "cell_type": "code",
   "execution_count": 6,
   "id": "7ce1b7c0",
   "metadata": {
    "execution": {
     "iopub.execute_input": "2022-02-22T18:38:00.926271Z",
     "iopub.status.busy": "2022-02-22T18:38:00.925616Z",
     "iopub.status.idle": "2022-02-22T18:38:00.938071Z",
     "shell.execute_reply": "2022-02-22T18:38:00.938581Z",
     "shell.execute_reply.started": "2022-02-22T18:35:20.249486Z"
    },
    "papermill": {
     "duration": 0.060845,
     "end_time": "2022-02-22T18:38:00.938746",
     "exception": false,
     "start_time": "2022-02-22T18:38:00.877901",
     "status": "completed"
    },
    "tags": []
   },
   "outputs": [
    {
     "data": {
      "text/plain": [
       "Non-Persistent    2135\n",
       "Persistent        1289\n",
       "Name: Persistency_Flag, dtype: int64"
      ]
     },
     "execution_count": 6,
     "metadata": {},
     "output_type": "execute_result"
    }
   ],
   "source": [
    "df['Persistency_Flag'].value_counts()"
   ]
  },
  {
   "cell_type": "markdown",
   "id": "eceb65fb",
   "metadata": {
    "papermill": {
     "duration": 0.04577,
     "end_time": "2022-02-22T18:38:01.029453",
     "exception": false,
     "start_time": "2022-02-22T18:38:00.983683",
     "status": "completed"
    },
    "tags": []
   },
   "source": [
    "We have a data set that contains 2135 Non-Persistent and 1289 persistent outcomes"
   ]
  },
  {
   "cell_type": "code",
   "execution_count": 7,
   "id": "4eb74f14",
   "metadata": {
    "execution": {
     "iopub.execute_input": "2022-02-22T18:38:01.124539Z",
     "iopub.status.busy": "2022-02-22T18:38:01.123785Z",
     "iopub.status.idle": "2022-02-22T18:38:01.218959Z",
     "shell.execute_reply": "2022-02-22T18:38:01.219442Z",
     "shell.execute_reply.started": "2022-02-22T18:35:20.265426Z"
    },
    "papermill": {
     "duration": 0.144347,
     "end_time": "2022-02-22T18:38:01.219632",
     "exception": false,
     "start_time": "2022-02-22T18:38:01.075285",
     "status": "completed"
    },
    "tags": []
   },
   "outputs": [
    {
     "data": {
      "text/html": [
       "<div>\n",
       "<style scoped>\n",
       "    .dataframe tbody tr th:only-of-type {\n",
       "        vertical-align: middle;\n",
       "    }\n",
       "\n",
       "    .dataframe tbody tr th {\n",
       "        vertical-align: top;\n",
       "    }\n",
       "\n",
       "    .dataframe thead th {\n",
       "        text-align: right;\n",
       "    }\n",
       "</style>\n",
       "<table border=\"1\" class=\"dataframe\">\n",
       "  <thead>\n",
       "    <tr style=\"text-align: right;\">\n",
       "      <th></th>\n",
       "      <th>Total</th>\n",
       "      <th>Percent</th>\n",
       "    </tr>\n",
       "  </thead>\n",
       "  <tbody>\n",
       "    <tr>\n",
       "      <th>Ptid</th>\n",
       "      <td>0</td>\n",
       "      <td>0.0</td>\n",
       "    </tr>\n",
       "    <tr>\n",
       "      <th>Concom_Cephalosporins</th>\n",
       "      <td>0</td>\n",
       "      <td>0.0</td>\n",
       "    </tr>\n",
       "    <tr>\n",
       "      <th>Risk_Osteogenesis_Imperfecta</th>\n",
       "      <td>0</td>\n",
       "      <td>0.0</td>\n",
       "    </tr>\n",
       "    <tr>\n",
       "      <th>Risk_Type_1_Insulin_Dependent_Diabetes</th>\n",
       "      <td>0</td>\n",
       "      <td>0.0</td>\n",
       "    </tr>\n",
       "    <tr>\n",
       "      <th>Concom_Viral_Vaccines</th>\n",
       "      <td>0</td>\n",
       "      <td>0.0</td>\n",
       "    </tr>\n",
       "    <tr>\n",
       "      <th>Concom_Anaesthetics_General</th>\n",
       "      <td>0</td>\n",
       "      <td>0.0</td>\n",
       "    </tr>\n",
       "    <tr>\n",
       "      <th>Concom_Broad_Spectrum_Penicillins</th>\n",
       "      <td>0</td>\n",
       "      <td>0.0</td>\n",
       "    </tr>\n",
       "    <tr>\n",
       "      <th>Concom_Macrolides_And_Similar_Types</th>\n",
       "      <td>0</td>\n",
       "      <td>0.0</td>\n",
       "    </tr>\n",
       "    <tr>\n",
       "      <th>Concom_Fluoroquinolones</th>\n",
       "      <td>0</td>\n",
       "      <td>0.0</td>\n",
       "    </tr>\n",
       "    <tr>\n",
       "      <th>Comorb_Disorders_of_lipoprotein_metabolism_and_other_lipidemias</th>\n",
       "      <td>0</td>\n",
       "      <td>0.0</td>\n",
       "    </tr>\n",
       "    <tr>\n",
       "      <th>Concom_Anti_Depressants_And_Mood_Stabilisers</th>\n",
       "      <td>0</td>\n",
       "      <td>0.0</td>\n",
       "    </tr>\n",
       "    <tr>\n",
       "      <th>Concom_Systemic_Corticosteroids_Plain</th>\n",
       "      <td>0</td>\n",
       "      <td>0.0</td>\n",
       "    </tr>\n",
       "    <tr>\n",
       "      <th>Concom_Narcotics</th>\n",
       "      <td>0</td>\n",
       "      <td>0.0</td>\n",
       "    </tr>\n",
       "    <tr>\n",
       "      <th>Concom_Cholesterol_And_Triglyceride_Regulating_Preparations</th>\n",
       "      <td>0</td>\n",
       "      <td>0.0</td>\n",
       "    </tr>\n",
       "    <tr>\n",
       "      <th>Comorb_Gastro_esophageal_reflux_disease</th>\n",
       "      <td>0</td>\n",
       "      <td>0.0</td>\n",
       "    </tr>\n",
       "    <tr>\n",
       "      <th>Comorb_Personal_history_of_malignant_neoplasm</th>\n",
       "      <td>0</td>\n",
       "      <td>0.0</td>\n",
       "    </tr>\n",
       "    <tr>\n",
       "      <th>Risk_Rheumatoid_Arthritis</th>\n",
       "      <td>0</td>\n",
       "      <td>0.0</td>\n",
       "    </tr>\n",
       "    <tr>\n",
       "      <th>Risk_Untreated_Chronic_Hyperthyroidism</th>\n",
       "      <td>0</td>\n",
       "      <td>0.0</td>\n",
       "    </tr>\n",
       "    <tr>\n",
       "      <th>Risk_Untreated_Chronic_Hypogonadism</th>\n",
       "      <td>0</td>\n",
       "      <td>0.0</td>\n",
       "    </tr>\n",
       "    <tr>\n",
       "      <th>Risk_Untreated_Early_Menopause</th>\n",
       "      <td>0</td>\n",
       "      <td>0.0</td>\n",
       "    </tr>\n",
       "  </tbody>\n",
       "</table>\n",
       "</div>"
      ],
      "text/plain": [
       "                                                    Total  Percent\n",
       "Ptid                                                    0      0.0\n",
       "Concom_Cephalosporins                                   0      0.0\n",
       "Risk_Osteogenesis_Imperfecta                            0      0.0\n",
       "Risk_Type_1_Insulin_Dependent_Diabetes                  0      0.0\n",
       "Concom_Viral_Vaccines                                   0      0.0\n",
       "Concom_Anaesthetics_General                             0      0.0\n",
       "Concom_Broad_Spectrum_Penicillins                       0      0.0\n",
       "Concom_Macrolides_And_Similar_Types                     0      0.0\n",
       "Concom_Fluoroquinolones                                 0      0.0\n",
       "Comorb_Disorders_of_lipoprotein_metabolism_and_...      0      0.0\n",
       "Concom_Anti_Depressants_And_Mood_Stabilisers            0      0.0\n",
       "Concom_Systemic_Corticosteroids_Plain                   0      0.0\n",
       "Concom_Narcotics                                        0      0.0\n",
       "Concom_Cholesterol_And_Triglyceride_Regulating_...      0      0.0\n",
       "Comorb_Gastro_esophageal_reflux_disease                 0      0.0\n",
       "Comorb_Personal_history_of_malignant_neoplasm           0      0.0\n",
       "Risk_Rheumatoid_Arthritis                               0      0.0\n",
       "Risk_Untreated_Chronic_Hyperthyroidism                  0      0.0\n",
       "Risk_Untreated_Chronic_Hypogonadism                     0      0.0\n",
       "Risk_Untreated_Early_Menopause                          0      0.0"
      ]
     },
     "execution_count": 7,
     "metadata": {},
     "output_type": "execute_result"
    }
   ],
   "source": [
    "total = df.isnull().sum().sort_values(ascending=False)\n",
    "percent = (df.isnull().sum()/df.isnull().count()).sort_values(ascending=False)\n",
    "missing_data = pd.concat([total, percent], axis=1, keys=['Total', 'Percent'])\n",
    "missing_data.head(20)"
   ]
  },
  {
   "cell_type": "code",
   "execution_count": 8,
   "id": "7600574e",
   "metadata": {
    "execution": {
     "iopub.execute_input": "2022-02-22T18:38:01.315841Z",
     "iopub.status.busy": "2022-02-22T18:38:01.315243Z",
     "iopub.status.idle": "2022-02-22T18:38:01.321639Z",
     "shell.execute_reply": "2022-02-22T18:38:01.322249Z",
     "shell.execute_reply.started": "2022-02-22T18:35:20.368020Z"
    },
    "papermill": {
     "duration": 0.055544,
     "end_time": "2022-02-22T18:38:01.322416",
     "exception": false,
     "start_time": "2022-02-22T18:38:01.266872",
     "status": "completed"
    },
    "tags": []
   },
   "outputs": [
    {
     "data": {
      "text/plain": [
       "Ptid                              object\n",
       "Persistency_Flag                  object\n",
       "Gender                            object\n",
       "Race                              object\n",
       "Ethnicity                         object\n",
       "                                   ...  \n",
       "Risk_Hysterectomy_Oophorectomy    object\n",
       "Risk_Estrogen_Deficiency          object\n",
       "Risk_Immobilization               object\n",
       "Risk_Recurring_Falls              object\n",
       "Count_Of_Risks                     int64\n",
       "Length: 69, dtype: object"
      ]
     },
     "execution_count": 8,
     "metadata": {},
     "output_type": "execute_result"
    }
   ],
   "source": [
    "df.dtypes"
   ]
  },
  {
   "cell_type": "markdown",
   "id": "c8e7e57d",
   "metadata": {
    "papermill": {
     "duration": 0.045668,
     "end_time": "2022-02-22T18:38:01.414274",
     "exception": false,
     "start_time": "2022-02-22T18:38:01.368606",
     "status": "completed"
    },
    "tags": []
   },
   "source": [
    "It is evident that there are no missing values in the given data set. Great sign!!\n",
    "Let us go ahead and explore the data further"
   ]
  },
  {
   "cell_type": "code",
   "execution_count": 9,
   "id": "d211633b",
   "metadata": {
    "execution": {
     "iopub.execute_input": "2022-02-22T18:38:01.510479Z",
     "iopub.status.busy": "2022-02-22T18:38:01.509799Z",
     "iopub.status.idle": "2022-02-22T18:38:57.119525Z",
     "shell.execute_reply": "2022-02-22T18:38:57.118758Z",
     "shell.execute_reply.started": "2022-02-22T18:35:20.379164Z"
    },
    "papermill": {
     "duration": 55.658744,
     "end_time": "2022-02-22T18:38:57.119689",
     "exception": false,
     "start_time": "2022-02-22T18:38:01.460945",
     "status": "completed"
    },
    "tags": []
   },
   "outputs": [
    {
     "name": "stdout",
     "output_type": "stream",
     "text": [
      "Collecting package metadata (current_repodata.json): - \b\b\\ \b\b| \b\b/ \b\b- \b\b\\ \b\b| \b\b/ \b\b- \b\b\\ \b\b| \b\b/ \b\b- \b\b\\ \b\b| \b\b/ \b\b- \b\b\\ \b\b| \b\b/ \b\b- \b\b\\ \b\b| \b\b/ \b\b- \b\b\\ \b\b| \b\b/ \b\b- \b\b\\ \b\b| \b\b/ \b\b- \b\b\\ \b\b| \b\b/ \b\b- \b\b\\ \b\b| \b\b/ \b\b- \b\b\\ \b\b| \b\b/ \b\b- \b\b\\ \b\b| \b\b/ \b\b- \b\b\\ \b\b| \b\b/ \b\b- \b\b\\ \b\b| \b\b/ \b\b- \b\b\\ \b\b| \b\b/ \b\b- \b\b\\ \b\b| \b\b/ \b\b- \b\b\\ \b\b| \b\b/ \b\b- \b\b\\ \b\b| \b\b/ \b\b- \b\b\\ \b\b| \b\b/ \b\b- \b\b\\ \b\b| \b\b/ \b\b- \b\b\\ \b\b| \b\b/ \b\b- \b\b\\ \b\b| \b\b/ \b\b- \b\b\\ \b\b| \b\b/ \b\b- \b\b\\ \b\b| \b\b/ \b\b- \b\b\\ \b\b| \b\b/ \b\b- \b\b\\ \b\b| \b\b/ \b\b- \b\b\\ \b\b| \b\b/ \b\b- \b\b\\ \b\b| \b\b/ \b\b- \b\b\\ \b\b| \b\b/ \b\b- \b\b\\ \b\b| \b\b/ \b\b- \b\b\\ \b\b| \b\b/ \b\b- \b\b\\ \b\b| \b\b/ \b\b- \b\b\\ \b\b| \b\b/ \b\b- \b\b\\ \b\b| \b\b/ \b\b- \b\b\\ \b\b| \b\b/ \b\b- \b\b\\ \b\b| \b\b/ \b\b- \b\b\\ \b\b| \b\b/ \b\b- \b\b\\ \b\b| \b\bdone\r\n",
      "Solving environment: - \b\b\\ \b\b| \b\b/ \b\b- \b\b\\ \b\b| \b\b/ \b\b- \b\b\\ \b\b| \b\b/ \b\b- \b\b\\ \b\b| \b\b/ \b\b- \b\b\\ \b\b| \b\b/ \b\b- \b\b\\ \b\b| \b\b/ \b\b- \b\b\\ \b\b| \b\b/ \b\b- \b\b\\ \b\b| \b\b/ \b\b- \b\b\\ \b\b| \b\b/ \b\b- \b\b\\ \b\b| \b\b/ \b\b- \b\b\\ \b\b| \b\b/ \b\b- \b\b\\ \b\b| \b\b/ \b\b- \b\b\\ \b\b| \b\b/ \b\b- \b\b\\ \b\b| \b\b/ \b\b- \b\b\\ \b\b| \b\b/ \b\b- \b\b\\ \b\b| \b\b/ \b\b- \b\b\\ \b\b| \b\b/ \b\b- \b\b\\ \b\b| \b\b/ \b\b- \b\b\\ \b\b| \b\b/ \b\b- \b\b\\ \b\b| \b\b/ \b\b- \b\b\\ \b\b| \b\b/ \b\b- \b\b\\ \b\b| \b\b/ \b\b- \b\b\\ \b\b| \b\b/ \b\b- \b\b\\ \b\b| \b\b/ \b\b- \b\b\\ \b\b| \b\b/ \b\b- \b\b\\ \b\bdone\r\n",
      "\r\n",
      "## Package Plan ##\r\n",
      "\r\n",
      "  environment location: /opt/conda\r\n",
      "\r\n",
      "  added / updated specs:\r\n",
      "    - seaborn\r\n",
      "\r\n",
      "\r\n",
      "The following packages will be downloaded:\r\n",
      "\r\n",
      "    package                    |            build\r\n",
      "    ---------------------------|-----------------\r\n",
      "    ca-certificates-2020.10.14 |                0         128 KB  anaconda\r\n",
      "    certifi-2020.6.20          |           py37_0         159 KB  anaconda\r\n",
      "    ------------------------------------------------------------\r\n",
      "                                           Total:         287 KB\r\n",
      "\r\n",
      "The following packages will be SUPERSEDED by a higher-priority channel:\r\n",
      "\r\n",
      "  ca-certificates    conda-forge::ca-certificates-2021.10.~ --> anaconda::ca-certificates-2020.10.14-0\r\n",
      "  certifi            conda-forge::certifi-2021.10.8-py37h8~ --> anaconda::certifi-2020.6.20-py37_0\r\n",
      "\r\n",
      "\r\n",
      "\r\n",
      "Downloading and Extracting Packages\r\n",
      "certifi-2020.6.20    | 159 KB    | ##################################### | 100% \r\n",
      "ca-certificates-2020 | 128 KB    | ##################################### | 100% \r\n",
      "Preparing transaction: / \b\bdone\r\n",
      "Verifying transaction: \\ \b\bdone\r\n",
      "Executing transaction: / \b\b- \b\bdone\r\n"
     ]
    }
   ],
   "source": [
    "# notice: installing seaborn might takes a few minutes\n",
    "!conda install -c anaconda seaborn -y"
   ]
  },
  {
   "cell_type": "code",
   "execution_count": 10,
   "id": "c2f17706",
   "metadata": {
    "execution": {
     "iopub.execute_input": "2022-02-22T18:38:57.407185Z",
     "iopub.status.busy": "2022-02-22T18:38:57.406523Z",
     "iopub.status.idle": "2022-02-22T18:38:57.409796Z",
     "shell.execute_reply": "2022-02-22T18:38:57.409245Z",
     "shell.execute_reply.started": "2022-02-22T18:35:58.026869Z"
    },
    "papermill": {
     "duration": 0.149729,
     "end_time": "2022-02-22T18:38:57.409930",
     "exception": false,
     "start_time": "2022-02-22T18:38:57.260201",
     "status": "completed"
    },
    "tags": []
   },
   "outputs": [
    {
     "data": {
      "text/plain": [
       "array(['>75', '55-65', '65-75', '<55'], dtype=object)"
      ]
     },
     "execution_count": 10,
     "metadata": {},
     "output_type": "execute_result"
    }
   ],
   "source": [
    "df['Age_Bucket'].unique()"
   ]
  },
  {
   "cell_type": "markdown",
   "id": "e8df7a8b",
   "metadata": {
    "papermill": {
     "duration": 0.139743,
     "end_time": "2022-02-22T18:38:57.689440",
     "exception": false,
     "start_time": "2022-02-22T18:38:57.549697",
     "status": "completed"
    },
    "tags": []
   },
   "source": [
    "The variable \"Age-Bucket\" has been stored as object type variable and the values \">75\",\"65-75\" cannot be amenable to mathematical modelling. So let us convert the values in Age_Bucket column to reflect the nature of their values as shown below that is the highesr age bucket will have higher value that respresents the age in the scale of 1-10 as shown below. "
   ]
  },
  {
   "cell_type": "code",
   "execution_count": 11,
   "id": "5fe5a895",
   "metadata": {
    "execution": {
     "iopub.execute_input": "2022-02-22T18:38:57.998900Z",
     "iopub.status.busy": "2022-02-22T18:38:57.997853Z",
     "iopub.status.idle": "2022-02-22T18:38:58.002086Z",
     "shell.execute_reply": "2022-02-22T18:38:58.001451Z",
     "shell.execute_reply.started": "2022-02-22T18:35:58.037553Z"
    },
    "papermill": {
     "duration": 0.17258,
     "end_time": "2022-02-22T18:38:58.002235",
     "exception": false,
     "start_time": "2022-02-22T18:38:57.829655",
     "status": "completed"
    },
    "tags": []
   },
   "outputs": [
    {
     "data": {
      "text/plain": [
       "array([8, 6, 7, 5])"
      ]
     },
     "execution_count": 11,
     "metadata": {},
     "output_type": "execute_result"
    }
   ],
   "source": [
    "mapper = {'>75': 8, '65-75': 7, '55-65':6, '<55': 5}\n",
    "df['Age_Bucket'] = df['Age_Bucket'].map(mapper)\n",
    "df['Age_Bucket'].unique()\n"
   ]
  },
  {
   "cell_type": "markdown",
   "id": "5592c11a",
   "metadata": {
    "papermill": {
     "duration": 0.142445,
     "end_time": "2022-02-22T18:38:58.286607",
     "exception": false,
     "start_time": "2022-02-22T18:38:58.144162",
     "status": "completed"
    },
    "tags": []
   },
   "source": [
    "Similarly, we will go ahead and modify the values for the variables '**Tscore_Bucket_Prior_Ntm**' and '**Tscore_Bucket_During_Rx**'"
   ]
  },
  {
   "cell_type": "code",
   "execution_count": 12,
   "id": "1ab982d9",
   "metadata": {
    "execution": {
     "iopub.execute_input": "2022-02-22T18:38:58.574010Z",
     "iopub.status.busy": "2022-02-22T18:38:58.573111Z",
     "iopub.status.idle": "2022-02-22T18:38:58.577207Z",
     "shell.execute_reply": "2022-02-22T18:38:58.576621Z",
     "shell.execute_reply.started": "2022-02-22T18:35:58.062704Z"
    },
    "papermill": {
     "duration": 0.150191,
     "end_time": "2022-02-22T18:38:58.577350",
     "exception": false,
     "start_time": "2022-02-22T18:38:58.427159",
     "status": "completed"
    },
    "tags": []
   },
   "outputs": [
    {
     "data": {
      "text/plain": [
       "array(['>-2.5', '<=-2.5'], dtype=object)"
      ]
     },
     "execution_count": 12,
     "metadata": {},
     "output_type": "execute_result"
    }
   ],
   "source": [
    "df['Tscore_Bucket_Prior_Ntm'].unique()"
   ]
  },
  {
   "cell_type": "code",
   "execution_count": 13,
   "id": "3e7b71f0",
   "metadata": {
    "execution": {
     "iopub.execute_input": "2022-02-22T18:38:58.875638Z",
     "iopub.status.busy": "2022-02-22T18:38:58.874607Z",
     "iopub.status.idle": "2022-02-22T18:38:58.877043Z",
     "shell.execute_reply": "2022-02-22T18:38:58.876545Z",
     "shell.execute_reply.started": "2022-02-22T18:35:58.072861Z"
    },
    "papermill": {
     "duration": 0.158428,
     "end_time": "2022-02-22T18:38:58.877199",
     "exception": false,
     "start_time": "2022-02-22T18:38:58.718771",
     "status": "completed"
    },
    "tags": []
   },
   "outputs": [],
   "source": [
    "df['Tscore_Bucket_Prior_Ntm'].replace(to_replace=['>-2.5', '<=-2.5'], value=[1,0],inplace=True)\n",
    "df['Tscore_Bucket_During_Rx'].replace(to_replace=['>-2.5', '<=-2.5'], value=[1,0],inplace=True)"
   ]
  },
  {
   "cell_type": "code",
   "execution_count": 14,
   "id": "53f6ea80",
   "metadata": {
    "execution": {
     "iopub.execute_input": "2022-02-22T18:38:59.187552Z",
     "iopub.status.busy": "2022-02-22T18:38:59.179896Z",
     "iopub.status.idle": "2022-02-22T18:38:59.685590Z",
     "shell.execute_reply": "2022-02-22T18:38:59.684961Z",
     "shell.execute_reply.started": "2022-02-22T18:35:58.096549Z"
    },
    "papermill": {
     "duration": 0.658782,
     "end_time": "2022-02-22T18:38:59.685728",
     "exception": false,
     "start_time": "2022-02-22T18:38:59.026946",
     "status": "completed"
    },
    "tags": []
   },
   "outputs": [
    {
     "data": {
      "image/png": "[encoded data removed]",
      "text/plain": [
       "<Figure size 432x216 with 2 Axes>"
      ]
     },
     "metadata": {},
     "output_type": "display_data"
    }
   ],
   "source": [
    "import seaborn as sns\n",
    "\n",
    "bins = np.linspace(df.Age_Bucket.min(), df.Age_Bucket.max(), 10)\n",
    "g = sns.FacetGrid(df, col=\"Gender\", hue=\"Persistency_Flag\", palette=\"Set1\", col_wrap=2)\n",
    "g.map(plt.hist, 'Age_Bucket', bins=bins, ec=\"k\")\n",
    "\n",
    "g.axes[-1].legend()\n",
    "plt.show()"
   ]
  },
  {
   "cell_type": "code",
   "execution_count": 15,
   "id": "8dd5fa9b",
   "metadata": {
    "execution": {
     "iopub.execute_input": "2022-02-22T18:38:59.980924Z",
     "iopub.status.busy": "2022-02-22T18:38:59.976422Z",
     "iopub.status.idle": "2022-02-22T18:38:59.989457Z",
     "shell.execute_reply": "2022-02-22T18:38:59.990090Z",
     "shell.execute_reply.started": "2022-02-22T18:35:58.608497Z"
    },
    "papermill": {
     "duration": 0.16206,
     "end_time": "2022-02-22T18:38:59.990271",
     "exception": false,
     "start_time": "2022-02-22T18:38:59.828211",
     "status": "completed"
    },
    "tags": []
   },
   "outputs": [
    {
     "data": {
      "text/plain": [
       "Gender  Persistency_Flag\n",
       "Female  Non-Persistent      0.624768\n",
       "        Persistent          0.375232\n",
       "Male    Non-Persistent      0.603093\n",
       "        Persistent          0.396907\n",
       "Name: Persistency_Flag, dtype: float64"
      ]
     },
     "execution_count": 15,
     "metadata": {},
     "output_type": "execute_result"
    }
   ],
   "source": [
    "df.groupby(['Gender'])['Persistency_Flag'].value_counts(normalize=True)"
   ]
  },
  {
   "cell_type": "markdown",
   "id": "f2997c81",
   "metadata": {
    "papermill": {
     "duration": 0.145063,
     "end_time": "2022-02-22T18:39:00.279887",
     "exception": false,
     "start_time": "2022-02-22T18:39:00.134824",
     "status": "completed"
    },
    "tags": []
   },
   "source": [
    "62% of females are persistent while, 60 % of males are persistent. Not a significant difference."
   ]
  },
  {
   "cell_type": "code",
   "execution_count": 16,
   "id": "d2af89de",
   "metadata": {
    "execution": {
     "iopub.execute_input": "2022-02-22T18:39:00.582765Z",
     "iopub.status.busy": "2022-02-22T18:39:00.581702Z",
     "iopub.status.idle": "2022-02-22T18:39:00.604659Z",
     "shell.execute_reply": "2022-02-22T18:39:00.605229Z",
     "shell.execute_reply.started": "2022-02-22T18:35:58.625252Z"
    },
    "papermill": {
     "duration": 0.181582,
     "end_time": "2022-02-22T18:39:00.605411",
     "exception": false,
     "start_time": "2022-02-22T18:39:00.423829",
     "status": "completed"
    },
    "tags": []
   },
   "outputs": [
    {
     "data": {
      "text/html": [
       "<div>\n",
       "<style scoped>\n",
       "    .dataframe tbody tr th:only-of-type {\n",
       "        vertical-align: middle;\n",
       "    }\n",
       "\n",
       "    .dataframe tbody tr th {\n",
       "        vertical-align: top;\n",
       "    }\n",
       "\n",
       "    .dataframe thead th {\n",
       "        text-align: right;\n",
       "    }\n",
       "</style>\n",
       "<table border=\"1\" class=\"dataframe\">\n",
       "  <thead>\n",
       "    <tr style=\"text-align: right;\">\n",
       "      <th></th>\n",
       "      <th>Ptid</th>\n",
       "      <th>Persistency_Flag</th>\n",
       "      <th>Gender</th>\n",
       "      <th>Race</th>\n",
       "      <th>Ethnicity</th>\n",
       "      <th>Region</th>\n",
       "      <th>Age_Bucket</th>\n",
       "      <th>Ntm_Speciality</th>\n",
       "      <th>Ntm_Specialist_Flag</th>\n",
       "      <th>Ntm_Speciality_Bucket</th>\n",
       "      <th>...</th>\n",
       "      <th>Risk_Family_History_Of_Osteoporosis</th>\n",
       "      <th>Risk_Low_Calcium_Intake</th>\n",
       "      <th>Risk_Vitamin_D_Insufficiency</th>\n",
       "      <th>Risk_Poor_Health_Frailty</th>\n",
       "      <th>Risk_Excessive_Thinness</th>\n",
       "      <th>Risk_Hysterectomy_Oophorectomy</th>\n",
       "      <th>Risk_Estrogen_Deficiency</th>\n",
       "      <th>Risk_Immobilization</th>\n",
       "      <th>Risk_Recurring_Falls</th>\n",
       "      <th>Count_Of_Risks</th>\n",
       "    </tr>\n",
       "  </thead>\n",
       "  <tbody>\n",
       "    <tr>\n",
       "      <th>0</th>\n",
       "      <td>P1</td>\n",
       "      <td>Persistent</td>\n",
       "      <td>Male</td>\n",
       "      <td>Caucasian</td>\n",
       "      <td>Not Hispanic</td>\n",
       "      <td>West</td>\n",
       "      <td>8</td>\n",
       "      <td>GENERAL PRACTITIONER</td>\n",
       "      <td>Others</td>\n",
       "      <td>OB/GYN/Others/PCP/Unknown</td>\n",
       "      <td>...</td>\n",
       "      <td>N</td>\n",
       "      <td>N</td>\n",
       "      <td>N</td>\n",
       "      <td>N</td>\n",
       "      <td>N</td>\n",
       "      <td>N</td>\n",
       "      <td>N</td>\n",
       "      <td>N</td>\n",
       "      <td>N</td>\n",
       "      <td>0</td>\n",
       "    </tr>\n",
       "    <tr>\n",
       "      <th>1</th>\n",
       "      <td>P2</td>\n",
       "      <td>Non-Persistent</td>\n",
       "      <td>Male</td>\n",
       "      <td>Asian</td>\n",
       "      <td>Not Hispanic</td>\n",
       "      <td>West</td>\n",
       "      <td>6</td>\n",
       "      <td>GENERAL PRACTITIONER</td>\n",
       "      <td>Others</td>\n",
       "      <td>OB/GYN/Others/PCP/Unknown</td>\n",
       "      <td>...</td>\n",
       "      <td>N</td>\n",
       "      <td>N</td>\n",
       "      <td>N</td>\n",
       "      <td>N</td>\n",
       "      <td>N</td>\n",
       "      <td>N</td>\n",
       "      <td>N</td>\n",
       "      <td>N</td>\n",
       "      <td>N</td>\n",
       "      <td>0</td>\n",
       "    </tr>\n",
       "    <tr>\n",
       "      <th>2</th>\n",
       "      <td>P3</td>\n",
       "      <td>Non-Persistent</td>\n",
       "      <td>Female</td>\n",
       "      <td>Other/Unknown</td>\n",
       "      <td>Hispanic</td>\n",
       "      <td>Midwest</td>\n",
       "      <td>7</td>\n",
       "      <td>GENERAL PRACTITIONER</td>\n",
       "      <td>Others</td>\n",
       "      <td>OB/GYN/Others/PCP/Unknown</td>\n",
       "      <td>...</td>\n",
       "      <td>N</td>\n",
       "      <td>Y</td>\n",
       "      <td>N</td>\n",
       "      <td>N</td>\n",
       "      <td>N</td>\n",
       "      <td>N</td>\n",
       "      <td>N</td>\n",
       "      <td>N</td>\n",
       "      <td>N</td>\n",
       "      <td>2</td>\n",
       "    </tr>\n",
       "    <tr>\n",
       "      <th>3</th>\n",
       "      <td>P4</td>\n",
       "      <td>Non-Persistent</td>\n",
       "      <td>Female</td>\n",
       "      <td>Caucasian</td>\n",
       "      <td>Not Hispanic</td>\n",
       "      <td>Midwest</td>\n",
       "      <td>8</td>\n",
       "      <td>GENERAL PRACTITIONER</td>\n",
       "      <td>Others</td>\n",
       "      <td>OB/GYN/Others/PCP/Unknown</td>\n",
       "      <td>...</td>\n",
       "      <td>N</td>\n",
       "      <td>N</td>\n",
       "      <td>N</td>\n",
       "      <td>N</td>\n",
       "      <td>N</td>\n",
       "      <td>N</td>\n",
       "      <td>N</td>\n",
       "      <td>N</td>\n",
       "      <td>N</td>\n",
       "      <td>1</td>\n",
       "    </tr>\n",
       "    <tr>\n",
       "      <th>4</th>\n",
       "      <td>P5</td>\n",
       "      <td>Non-Persistent</td>\n",
       "      <td>Female</td>\n",
       "      <td>Caucasian</td>\n",
       "      <td>Not Hispanic</td>\n",
       "      <td>Midwest</td>\n",
       "      <td>8</td>\n",
       "      <td>GENERAL PRACTITIONER</td>\n",
       "      <td>Others</td>\n",
       "      <td>OB/GYN/Others/PCP/Unknown</td>\n",
       "      <td>...</td>\n",
       "      <td>N</td>\n",
       "      <td>N</td>\n",
       "      <td>N</td>\n",
       "      <td>N</td>\n",
       "      <td>N</td>\n",
       "      <td>N</td>\n",
       "      <td>N</td>\n",
       "      <td>N</td>\n",
       "      <td>N</td>\n",
       "      <td>1</td>\n",
       "    </tr>\n",
       "  </tbody>\n",
       "</table>\n",
       "<p>5 rows × 69 columns</p>\n",
       "</div>"
      ],
      "text/plain": [
       "  Ptid Persistency_Flag  Gender           Race     Ethnicity   Region  \\\n",
       "0   P1       Persistent    Male      Caucasian  Not Hispanic     West   \n",
       "1   P2   Non-Persistent    Male          Asian  Not Hispanic     West   \n",
       "2   P3   Non-Persistent  Female  Other/Unknown      Hispanic  Midwest   \n",
       "3   P4   Non-Persistent  Female      Caucasian  Not Hispanic  Midwest   \n",
       "4   P5   Non-Persistent  Female      Caucasian  Not Hispanic  Midwest   \n",
       "\n",
       "   Age_Bucket        Ntm_Speciality Ntm_Specialist_Flag  \\\n",
       "0           8  GENERAL PRACTITIONER              Others   \n",
       "1           6  GENERAL PRACTITIONER              Others   \n",
       "2           7  GENERAL PRACTITIONER              Others   \n",
       "3           8  GENERAL PRACTITIONER              Others   \n",
       "4           8  GENERAL PRACTITIONER              Others   \n",
       "\n",
       "       Ntm_Speciality_Bucket  ... Risk_Family_History_Of_Osteoporosis  \\\n",
       "0  OB/GYN/Others/PCP/Unknown  ...                                   N   \n",
       "1  OB/GYN/Others/PCP/Unknown  ...                                   N   \n",
       "2  OB/GYN/Others/PCP/Unknown  ...                                   N   \n",
       "3  OB/GYN/Others/PCP/Unknown  ...                                   N   \n",
       "4  OB/GYN/Others/PCP/Unknown  ...                                   N   \n",
       "\n",
       "  Risk_Low_Calcium_Intake  Risk_Vitamin_D_Insufficiency  \\\n",
       "0                       N                             N   \n",
       "1                       N                             N   \n",
       "2                       Y                             N   \n",
       "3                       N                             N   \n",
       "4                       N                             N   \n",
       "\n",
       "  Risk_Poor_Health_Frailty Risk_Excessive_Thinness  \\\n",
       "0                        N                       N   \n",
       "1                        N                       N   \n",
       "2                        N                       N   \n",
       "3                        N                       N   \n",
       "4                        N                       N   \n",
       "\n",
       "  Risk_Hysterectomy_Oophorectomy Risk_Estrogen_Deficiency  \\\n",
       "0                              N                        N   \n",
       "1                              N                        N   \n",
       "2                              N                        N   \n",
       "3                              N                        N   \n",
       "4                              N                        N   \n",
       "\n",
       "   Risk_Immobilization Risk_Recurring_Falls Count_Of_Risks  \n",
       "0                    N                    N              0  \n",
       "1                    N                    N              0  \n",
       "2                    N                    N              2  \n",
       "3                    N                    N              1  \n",
       "4                    N                    N              1  \n",
       "\n",
       "[5 rows x 69 columns]"
      ]
     },
     "execution_count": 16,
     "metadata": {},
     "output_type": "execute_result"
    }
   ],
   "source": [
    "df['Gender'].replace(to_replace=['male','female'], value=[0,1],inplace=True)\n",
    "df.head()"
   ]
  },
  {
   "cell_type": "markdown",
   "id": "d1c9ef08",
   "metadata": {
    "papermill": {
     "duration": 0.14467,
     "end_time": "2022-02-22T18:39:00.894227",
     "exception": false,
     "start_time": "2022-02-22T18:39:00.749557",
     "status": "completed"
    },
    "tags": []
   },
   "source": [
    "Let us remove the column 'Ptid' since we donot want to consider it for our modeling purpose and also store our response variable in seperate array.  "
   ]
  },
  {
   "cell_type": "code",
   "execution_count": 17,
   "id": "94950fb9",
   "metadata": {
    "execution": {
     "iopub.execute_input": "2022-02-22T18:39:01.187711Z",
     "iopub.status.busy": "2022-02-22T18:39:01.186668Z",
     "iopub.status.idle": "2022-02-22T18:39:01.193017Z",
     "shell.execute_reply": "2022-02-22T18:39:01.193515Z",
     "shell.execute_reply.started": "2022-02-22T18:35:58.657689Z"
    },
    "papermill": {
     "duration": 0.15395,
     "end_time": "2022-02-22T18:39:01.193682",
     "exception": false,
     "start_time": "2022-02-22T18:39:01.039732",
     "status": "completed"
    },
    "tags": []
   },
   "outputs": [],
   "source": [
    "y=df['Persistency_Flag']\n",
    "df.drop(columns=['Persistency_Flag','Ptid'], inplace= True)"
   ]
  },
  {
   "cell_type": "code",
   "execution_count": null,
   "id": "e3afa386",
   "metadata": {
    "papermill": {
     "duration": 0.14373,
     "end_time": "2022-02-22T18:39:01.481119",
     "exception": false,
     "start_time": "2022-02-22T18:39:01.337389",
     "status": "completed"
    },
    "tags": []
   },
   "outputs": [],
   "source": []
  },
  {
   "cell_type": "markdown",
   "id": "9316f931",
   "metadata": {
    "papermill": {
     "duration": 0.144562,
     "end_time": "2022-02-22T18:39:01.771445",
     "exception": false,
     "start_time": "2022-02-22T18:39:01.626883",
     "status": "completed"
    },
    "tags": []
   },
   "source": [
    "Let us proceed with one hot encoding for categorical features"
   ]
  },
  {
   "cell_type": "code",
   "execution_count": null,
   "id": "f182b3df",
   "metadata": {
    "papermill": {
     "duration": 0.145777,
     "end_time": "2022-02-22T18:39:02.062457",
     "exception": false,
     "start_time": "2022-02-22T18:39:01.916680",
     "status": "completed"
    },
    "tags": []
   },
   "outputs": [],
   "source": []
  },
  {
   "cell_type": "code",
   "execution_count": 18,
   "id": "16b0111b",
   "metadata": {
    "execution": {
     "iopub.execute_input": "2022-02-22T18:39:02.357270Z",
     "iopub.status.busy": "2022-02-22T18:39:02.356585Z",
     "iopub.status.idle": "2022-02-22T18:39:02.363628Z",
     "shell.execute_reply": "2022-02-22T18:39:02.364197Z",
     "shell.execute_reply.started": "2022-02-22T18:35:58.680878Z"
    },
    "papermill": {
     "duration": 0.157288,
     "end_time": "2022-02-22T18:39:02.364385",
     "exception": false,
     "start_time": "2022-02-22T18:39:02.207097",
     "status": "completed"
    },
    "tags": []
   },
   "outputs": [
    {
     "data": {
      "text/plain": [
       "Index(['Gender', 'Race', 'Ethnicity', 'Region', 'Ntm_Speciality',\n",
       "       'Ntm_Specialist_Flag', 'Ntm_Speciality_Bucket',\n",
       "       'Gluco_Record_Prior_Ntm', 'Gluco_Record_During_Rx', 'Dexa_During_Rx',\n",
       "       'Frag_Frac_Prior_Ntm', 'Frag_Frac_During_Rx', 'Risk_Segment_Prior_Ntm',\n",
       "       'Risk_Segment_During_Rx', 'Tscore_Bucket_During_Rx', 'Change_T_Score',\n",
       "       'Change_Risk_Segment', 'Adherent_Flag', 'Idn_Indicator',\n",
       "       'Injectable_Experience_During_Rx',\n",
       "       'Comorb_Encounter_For_Screening_For_Malignant_Neoplasms',\n",
       "       'Comorb_Encounter_For_Immunization',\n",
       "       'Comorb_Encntr_For_General_Exam_W_O_Complaint,_Susp_Or_Reprtd_Dx',\n",
       "       'Comorb_Vitamin_D_Deficiency',\n",
       "       'Comorb_Other_Joint_Disorder_Not_Elsewhere_Classified',\n",
       "       'Comorb_Encntr_For_Oth_Sp_Exam_W_O_Complaint_Suspected_Or_Reprtd_Dx',\n",
       "       'Comorb_Long_Term_Current_Drug_Therapy', 'Comorb_Dorsalgia',\n",
       "       'Comorb_Personal_History_Of_Other_Diseases_And_Conditions',\n",
       "       'Comorb_Other_Disorders_Of_Bone_Density_And_Structure',\n",
       "       'Comorb_Disorders_of_lipoprotein_metabolism_and_other_lipidemias',\n",
       "       'Comorb_Osteoporosis_without_current_pathological_fracture',\n",
       "       'Comorb_Personal_history_of_malignant_neoplasm',\n",
       "       'Comorb_Gastro_esophageal_reflux_disease',\n",
       "       'Concom_Cholesterol_And_Triglyceride_Regulating_Preparations',\n",
       "       'Concom_Narcotics', 'Concom_Systemic_Corticosteroids_Plain',\n",
       "       'Concom_Anti_Depressants_And_Mood_Stabilisers',\n",
       "       'Concom_Fluoroquinolones', 'Concom_Cephalosporins',\n",
       "       'Concom_Macrolides_And_Similar_Types',\n",
       "       'Concom_Broad_Spectrum_Penicillins', 'Concom_Anaesthetics_General',\n",
       "       'Concom_Viral_Vaccines', 'Risk_Type_1_Insulin_Dependent_Diabetes',\n",
       "       'Risk_Osteogenesis_Imperfecta', 'Risk_Rheumatoid_Arthritis',\n",
       "       'Risk_Untreated_Chronic_Hyperthyroidism',\n",
       "       'Risk_Untreated_Chronic_Hypogonadism', 'Risk_Untreated_Early_Menopause',\n",
       "       'Risk_Patient_Parent_Fractured_Their_Hip', 'Risk_Smoking_Tobacco',\n",
       "       'Risk_Chronic_Malnutrition_Or_Malabsorption',\n",
       "       'Risk_Chronic_Liver_Disease', 'Risk_Family_History_Of_Osteoporosis',\n",
       "       'Risk_Low_Calcium_Intake', 'Risk_Vitamin_D_Insufficiency',\n",
       "       'Risk_Poor_Health_Frailty', 'Risk_Excessive_Thinness',\n",
       "       'Risk_Hysterectomy_Oophorectomy', 'Risk_Estrogen_Deficiency',\n",
       "       'Risk_Immobilization', 'Risk_Recurring_Falls'],\n",
       "      dtype='object')"
      ]
     },
     "execution_count": 18,
     "metadata": {},
     "output_type": "execute_result"
    }
   ],
   "source": [
    "categorical_feats = df.dtypes[df.dtypes == \"object\"].index\n",
    "categorical_feats"
   ]
  },
  {
   "cell_type": "code",
   "execution_count": 19,
   "id": "9b0cff81",
   "metadata": {
    "execution": {
     "iopub.execute_input": "2022-02-22T18:39:02.656086Z",
     "iopub.status.busy": "2022-02-22T18:39:02.655432Z",
     "iopub.status.idle": "2022-02-22T18:39:02.727639Z",
     "shell.execute_reply": "2022-02-22T18:39:02.728240Z",
     "shell.execute_reply.started": "2022-02-22T18:35:58.697917Z"
    },
    "papermill": {
     "duration": 0.219641,
     "end_time": "2022-02-22T18:39:02.728428",
     "exception": false,
     "start_time": "2022-02-22T18:39:02.508787",
     "status": "completed"
    },
    "tags": []
   },
   "outputs": [
    {
     "data": {
      "text/plain": [
       "(3424, 177)"
      ]
     },
     "execution_count": 19,
     "metadata": {},
     "output_type": "execute_result"
    }
   ],
   "source": [
    "Feature = pd.get_dummies(df)\n",
    "Feature.shape"
   ]
  },
  {
   "cell_type": "code",
   "execution_count": 20,
   "id": "38662a26",
   "metadata": {
    "execution": {
     "iopub.execute_input": "2022-02-22T18:39:03.026738Z",
     "iopub.status.busy": "2022-02-22T18:39:03.025706Z",
     "iopub.status.idle": "2022-02-22T18:39:03.043999Z",
     "shell.execute_reply": "2022-02-22T18:39:03.044569Z",
     "shell.execute_reply.started": "2022-02-22T18:35:58.779432Z"
    },
    "papermill": {
     "duration": 0.171549,
     "end_time": "2022-02-22T18:39:03.044745",
     "exception": false,
     "start_time": "2022-02-22T18:39:02.873196",
     "status": "completed"
    },
    "tags": []
   },
   "outputs": [
    {
     "data": {
      "text/html": [
       "<div>\n",
       "<style scoped>\n",
       "    .dataframe tbody tr th:only-of-type {\n",
       "        vertical-align: middle;\n",
       "    }\n",
       "\n",
       "    .dataframe tbody tr th {\n",
       "        vertical-align: top;\n",
       "    }\n",
       "\n",
       "    .dataframe thead th {\n",
       "        text-align: right;\n",
       "    }\n",
       "</style>\n",
       "<table border=\"1\" class=\"dataframe\">\n",
       "  <thead>\n",
       "    <tr style=\"text-align: right;\">\n",
       "      <th></th>\n",
       "      <th>Age_Bucket</th>\n",
       "      <th>Dexa_Freq_During_Rx</th>\n",
       "      <th>Tscore_Bucket_Prior_Ntm</th>\n",
       "      <th>Count_Of_Risks</th>\n",
       "      <th>Gender_Female</th>\n",
       "      <th>Gender_Male</th>\n",
       "      <th>Race_African American</th>\n",
       "      <th>Race_Asian</th>\n",
       "      <th>Race_Caucasian</th>\n",
       "      <th>Race_Other/Unknown</th>\n",
       "      <th>...</th>\n",
       "      <th>Risk_Excessive_Thinness_N</th>\n",
       "      <th>Risk_Excessive_Thinness_Y</th>\n",
       "      <th>Risk_Hysterectomy_Oophorectomy_N</th>\n",
       "      <th>Risk_Hysterectomy_Oophorectomy_Y</th>\n",
       "      <th>Risk_Estrogen_Deficiency_N</th>\n",
       "      <th>Risk_Estrogen_Deficiency_Y</th>\n",
       "      <th>Risk_Immobilization_N</th>\n",
       "      <th>Risk_Immobilization_Y</th>\n",
       "      <th>Risk_Recurring_Falls_N</th>\n",
       "      <th>Risk_Recurring_Falls_Y</th>\n",
       "    </tr>\n",
       "  </thead>\n",
       "  <tbody>\n",
       "    <tr>\n",
       "      <th>0</th>\n",
       "      <td>8</td>\n",
       "      <td>0</td>\n",
       "      <td>1</td>\n",
       "      <td>0</td>\n",
       "      <td>0</td>\n",
       "      <td>1</td>\n",
       "      <td>0</td>\n",
       "      <td>0</td>\n",
       "      <td>1</td>\n",
       "      <td>0</td>\n",
       "      <td>...</td>\n",
       "      <td>1</td>\n",
       "      <td>0</td>\n",
       "      <td>1</td>\n",
       "      <td>0</td>\n",
       "      <td>1</td>\n",
       "      <td>0</td>\n",
       "      <td>1</td>\n",
       "      <td>0</td>\n",
       "      <td>1</td>\n",
       "      <td>0</td>\n",
       "    </tr>\n",
       "    <tr>\n",
       "      <th>1</th>\n",
       "      <td>6</td>\n",
       "      <td>0</td>\n",
       "      <td>1</td>\n",
       "      <td>0</td>\n",
       "      <td>0</td>\n",
       "      <td>1</td>\n",
       "      <td>0</td>\n",
       "      <td>1</td>\n",
       "      <td>0</td>\n",
       "      <td>0</td>\n",
       "      <td>...</td>\n",
       "      <td>1</td>\n",
       "      <td>0</td>\n",
       "      <td>1</td>\n",
       "      <td>0</td>\n",
       "      <td>1</td>\n",
       "      <td>0</td>\n",
       "      <td>1</td>\n",
       "      <td>0</td>\n",
       "      <td>1</td>\n",
       "      <td>0</td>\n",
       "    </tr>\n",
       "    <tr>\n",
       "      <th>2</th>\n",
       "      <td>7</td>\n",
       "      <td>0</td>\n",
       "      <td>0</td>\n",
       "      <td>2</td>\n",
       "      <td>1</td>\n",
       "      <td>0</td>\n",
       "      <td>0</td>\n",
       "      <td>0</td>\n",
       "      <td>0</td>\n",
       "      <td>1</td>\n",
       "      <td>...</td>\n",
       "      <td>1</td>\n",
       "      <td>0</td>\n",
       "      <td>1</td>\n",
       "      <td>0</td>\n",
       "      <td>1</td>\n",
       "      <td>0</td>\n",
       "      <td>1</td>\n",
       "      <td>0</td>\n",
       "      <td>1</td>\n",
       "      <td>0</td>\n",
       "    </tr>\n",
       "    <tr>\n",
       "      <th>3</th>\n",
       "      <td>8</td>\n",
       "      <td>0</td>\n",
       "      <td>1</td>\n",
       "      <td>1</td>\n",
       "      <td>1</td>\n",
       "      <td>0</td>\n",
       "      <td>0</td>\n",
       "      <td>0</td>\n",
       "      <td>1</td>\n",
       "      <td>0</td>\n",
       "      <td>...</td>\n",
       "      <td>1</td>\n",
       "      <td>0</td>\n",
       "      <td>1</td>\n",
       "      <td>0</td>\n",
       "      <td>1</td>\n",
       "      <td>0</td>\n",
       "      <td>1</td>\n",
       "      <td>0</td>\n",
       "      <td>1</td>\n",
       "      <td>0</td>\n",
       "    </tr>\n",
       "    <tr>\n",
       "      <th>4</th>\n",
       "      <td>8</td>\n",
       "      <td>0</td>\n",
       "      <td>0</td>\n",
       "      <td>1</td>\n",
       "      <td>1</td>\n",
       "      <td>0</td>\n",
       "      <td>0</td>\n",
       "      <td>0</td>\n",
       "      <td>1</td>\n",
       "      <td>0</td>\n",
       "      <td>...</td>\n",
       "      <td>1</td>\n",
       "      <td>0</td>\n",
       "      <td>1</td>\n",
       "      <td>0</td>\n",
       "      <td>1</td>\n",
       "      <td>0</td>\n",
       "      <td>1</td>\n",
       "      <td>0</td>\n",
       "      <td>1</td>\n",
       "      <td>0</td>\n",
       "    </tr>\n",
       "  </tbody>\n",
       "</table>\n",
       "<p>5 rows × 177 columns</p>\n",
       "</div>"
      ],
      "text/plain": [
       "   Age_Bucket  Dexa_Freq_During_Rx  Tscore_Bucket_Prior_Ntm  Count_Of_Risks  \\\n",
       "0           8                    0                        1               0   \n",
       "1           6                    0                        1               0   \n",
       "2           7                    0                        0               2   \n",
       "3           8                    0                        1               1   \n",
       "4           8                    0                        0               1   \n",
       "\n",
       "   Gender_Female  Gender_Male  Race_African American  Race_Asian  \\\n",
       "0              0            1                      0           0   \n",
       "1              0            1                      0           1   \n",
       "2              1            0                      0           0   \n",
       "3              1            0                      0           0   \n",
       "4              1            0                      0           0   \n",
       "\n",
       "   Race_Caucasian  Race_Other/Unknown  ...  Risk_Excessive_Thinness_N  \\\n",
       "0               1                   0  ...                          1   \n",
       "1               0                   0  ...                          1   \n",
       "2               0                   1  ...                          1   \n",
       "3               1                   0  ...                          1   \n",
       "4               1                   0  ...                          1   \n",
       "\n",
       "   Risk_Excessive_Thinness_Y  Risk_Hysterectomy_Oophorectomy_N  \\\n",
       "0                          0                                 1   \n",
       "1                          0                                 1   \n",
       "2                          0                                 1   \n",
       "3                          0                                 1   \n",
       "4                          0                                 1   \n",
       "\n",
       "   Risk_Hysterectomy_Oophorectomy_Y  Risk_Estrogen_Deficiency_N  \\\n",
       "0                                 0                           1   \n",
       "1                                 0                           1   \n",
       "2                                 0                           1   \n",
       "3                                 0                           1   \n",
       "4                                 0                           1   \n",
       "\n",
       "   Risk_Estrogen_Deficiency_Y  Risk_Immobilization_N  Risk_Immobilization_Y  \\\n",
       "0                           0                      1                      0   \n",
       "1                           0                      1                      0   \n",
       "2                           0                      1                      0   \n",
       "3                           0                      1                      0   \n",
       "4                           0                      1                      0   \n",
       "\n",
       "   Risk_Recurring_Falls_N  Risk_Recurring_Falls_Y  \n",
       "0                       1                       0  \n",
       "1                       1                       0  \n",
       "2                       1                       0  \n",
       "3                       1                       0  \n",
       "4                       1                       0  \n",
       "\n",
       "[5 rows x 177 columns]"
      ]
     },
     "execution_count": 20,
     "metadata": {},
     "output_type": "execute_result"
    }
   ],
   "source": [
    "X = Feature\n",
    "X[0:5]"
   ]
  },
  {
   "cell_type": "markdown",
   "id": "22036b44",
   "metadata": {
    "papermill": {
     "duration": 0.155951,
     "end_time": "2022-02-22T18:39:03.366284",
     "exception": false,
     "start_time": "2022-02-22T18:39:03.210333",
     "status": "completed"
    },
    "tags": []
   },
   "source": [
    "**Response variable snap shot**"
   ]
  },
  {
   "cell_type": "code",
   "execution_count": 21,
   "id": "4812cd26",
   "metadata": {
    "execution": {
     "iopub.execute_input": "2022-02-22T18:39:03.671023Z",
     "iopub.status.busy": "2022-02-22T18:39:03.670033Z",
     "iopub.status.idle": "2022-02-22T18:39:03.676931Z",
     "shell.execute_reply": "2022-02-22T18:39:03.677582Z",
     "shell.execute_reply.started": "2022-02-22T18:35:58.804239Z"
    },
    "papermill": {
     "duration": 0.157957,
     "end_time": "2022-02-22T18:39:03.677764",
     "exception": false,
     "start_time": "2022-02-22T18:39:03.519807",
     "status": "completed"
    },
    "tags": []
   },
   "outputs": [
    {
     "data": {
      "text/plain": [
       "0        Persistent\n",
       "1    Non-Persistent\n",
       "2    Non-Persistent\n",
       "3    Non-Persistent\n",
       "4    Non-Persistent\n",
       "Name: Persistency_Flag, dtype: object"
      ]
     },
     "execution_count": 21,
     "metadata": {},
     "output_type": "execute_result"
    }
   ],
   "source": [
    "y[0:5]"
   ]
  },
  {
   "cell_type": "markdown",
   "id": "396e1b58",
   "metadata": {
    "papermill": {
     "duration": 0.146685,
     "end_time": "2022-02-22T18:39:03.973533",
     "exception": false,
     "start_time": "2022-02-22T18:39:03.826848",
     "status": "completed"
    },
    "tags": []
   },
   "source": [
    "Now we are ready with the Features(Predictors) and response variables. Let us proceed with data normalization."
   ]
  },
  {
   "cell_type": "markdown",
   "id": "05856555",
   "metadata": {
    "papermill": {
     "duration": 0.146603,
     "end_time": "2022-02-22T18:39:04.269663",
     "exception": false,
     "start_time": "2022-02-22T18:39:04.123060",
     "status": "completed"
    },
    "tags": []
   },
   "source": []
  },
  {
   "cell_type": "code",
   "execution_count": 22,
   "id": "75920dca",
   "metadata": {
    "execution": {
     "iopub.execute_input": "2022-02-22T18:39:04.567881Z",
     "iopub.status.busy": "2022-02-22T18:39:04.566883Z",
     "iopub.status.idle": "2022-02-22T18:39:04.615746Z",
     "shell.execute_reply": "2022-02-22T18:39:04.616264Z",
     "shell.execute_reply.started": "2022-02-22T18:35:58.813600Z"
    },
    "papermill": {
     "duration": 0.199847,
     "end_time": "2022-02-22T18:39:04.616437",
     "exception": false,
     "start_time": "2022-02-22T18:39:04.416590",
     "status": "completed"
    },
    "tags": []
   },
   "outputs": [
    {
     "data": {
      "text/plain": [
       "array([[ 0.98589469, -0.3707352 ,  0.86890589, -1.13220443, -4.08037799,\n",
       "         4.08037799, -0.16892927, -0.15858657,  0.29609916, -0.17074951,\n",
       "        -0.1716532 ,  0.24170952, -0.16523538, -0.8231701 , -0.26959545,\n",
       "        -0.13355115, -0.75683989,  2.41261624, -0.08041632, -0.01709214,\n",
       "        -0.01709214, -0.39295893, -0.02417547,  1.10933263, -0.02417547,\n",
       "        -0.06407474, -0.02417547, -0.01709214, -0.02961311, -0.01709214,\n",
       "        -0.01709214, -0.01709214, -0.16430034, -0.01709214, -0.26520648,\n",
       "        -0.01709214, -0.09401664, -0.02961311, -0.06407474, -0.01709214,\n",
       "        -0.06851887, -0.06173491, -0.05677122, -0.02417547, -0.01709214,\n",
       "        -0.03419928, -0.04839339, -0.01709214, -0.4628006 , -0.04839339,\n",
       "        -0.02417547, -0.09864909, -0.31551611, -0.02417547,  0.8372239 ,\n",
       "        -0.8372239 , -0.51420013,  0.79207097, -0.4628006 ,  0.5544089 ,\n",
       "        -0.5544089 ,  0.59804068, -0.59804068,  0.61335617, -0.61335617,\n",
       "         0.43840684, -0.43840684,  0.37239283, -0.37239283, -0.87930343,\n",
       "         0.87930343, -0.62644708, -0.8813939 ,  1.5997661 ,  1.53842939,\n",
       "        -0.60164188, -0.8813939 , -0.16801258,  1.03084946, -0.8813939 ,\n",
       "        -0.23068246, -0.08041632, -0.66596365,  0.73219864, -0.19139844,\n",
       "         0.23068246, -0.23068246,  1.71733814, -1.71733814, -0.34701419,\n",
       "         0.34701419,  0.90037891, -0.90037891, -1.12385655,  1.12385655,\n",
       "        -1.23795976,  1.23795976,  0.68476088, -0.68476088,  0.64184014,\n",
       "        -0.64184014, -1.82447194,  1.82447194,  0.55980982, -0.55980982,\n",
       "        -1.84265534,  1.84265534, -2.01435029,  2.01435029,  0.42219888,\n",
       "        -0.42219888,  1.03145233, -1.03145233,  0.60479404, -0.60479404,\n",
       "         0.48360508, -0.48360508,  0.47485069, -0.47485069,  0.7260908 ,\n",
       "        -0.7260908 ,  0.75017114, -0.75017114,  0.63006414, -0.63006414,\n",
       "         0.62373604, -0.62373604,  0.47808072, -0.47808072,  0.46233536,\n",
       "        -0.46233536,  0.44737032, -0.44737032,  0.38349534, -0.38349534,\n",
       "         0.41206605, -0.41206605,  0.33903727, -0.33903727,  0.20570257,\n",
       "        -0.20570257,  0.02961311, -0.02961311,  0.19865975, -0.19865975,\n",
       "         0.02417547, -0.02417547,  0.19626479, -0.19626479,  0.05930429,\n",
       "        -0.05930429,  0.28426762, -0.28426762,  0.48130518, -0.48130518,\n",
       "         0.39888131, -0.39888131,  0.07269657, -0.07269657,  0.34170823,\n",
       "        -0.34170823,  0.11143916, -0.11143916,  0.95655048, -0.95655048,\n",
       "         0.24373334, -0.24373334,  0.14127383, -0.14127383,  0.12658491,\n",
       "        -0.12658491,  0.05677122, -0.05677122,  0.06407474, -0.06407474,\n",
       "         0.14340962, -0.14340962],\n",
       "       [-1.22768133, -0.3707352 ,  0.86890589, -1.13220443, -4.08037799,\n",
       "         4.08037799, -0.16892927,  6.30570414, -3.37724697, -0.17074951,\n",
       "        -0.1716532 ,  0.24170952, -0.16523538, -0.8231701 , -0.26959545,\n",
       "        -0.13355115, -0.75683989,  2.41261624, -0.08041632, -0.01709214,\n",
       "        -0.01709214, -0.39295893, -0.02417547,  1.10933263, -0.02417547,\n",
       "        -0.06407474, -0.02417547, -0.01709214, -0.02961311, -0.01709214,\n",
       "        -0.01709214, -0.01709214, -0.16430034, -0.01709214, -0.26520648,\n",
       "        -0.01709214, -0.09401664, -0.02961311, -0.06407474, -0.01709214,\n",
       "        -0.06851887, -0.06173491, -0.05677122, -0.02417547, -0.01709214,\n",
       "        -0.03419928, -0.04839339, -0.01709214, -0.4628006 , -0.04839339,\n",
       "        -0.02417547, -0.09864909, -0.31551611, -0.02417547,  0.8372239 ,\n",
       "        -0.8372239 , -0.51420013,  0.79207097, -0.4628006 ,  0.5544089 ,\n",
       "        -0.5544089 ,  0.59804068, -0.59804068,  0.61335617, -0.61335617,\n",
       "         0.43840684, -0.43840684,  0.37239283, -0.37239283, -0.87930343,\n",
       "         0.87930343, -0.62644708,  1.1345665 , -0.62509138, -0.65001358,\n",
       "        -0.60164188,  1.1345665 , -0.16801258, -0.97007375,  1.1345665 ,\n",
       "        -0.23068246, -0.08041632, -0.66596365,  0.73219864, -0.19139844,\n",
       "         0.23068246, -0.23068246,  1.71733814, -1.71733814, -0.34701419,\n",
       "         0.34701419,  0.90037891, -0.90037891,  0.88979328, -0.88979328,\n",
       "        -1.23795976,  1.23795976,  0.68476088, -0.68476088,  0.64184014,\n",
       "        -0.64184014,  0.5481038 , -0.5481038 ,  0.55980982, -0.55980982,\n",
       "         0.54269509, -0.54269509,  0.49643799, -0.49643799,  0.42219888,\n",
       "        -0.42219888,  1.03145233, -1.03145233,  0.60479404, -0.60479404,\n",
       "         0.48360508, -0.48360508,  0.47485069, -0.47485069,  0.7260908 ,\n",
       "        -0.7260908 ,  0.75017114, -0.75017114,  0.63006414, -0.63006414,\n",
       "         0.62373604, -0.62373604,  0.47808072, -0.47808072,  0.46233536,\n",
       "        -0.46233536,  0.44737032, -0.44737032,  0.38349534, -0.38349534,\n",
       "         0.41206605, -0.41206605,  0.33903727, -0.33903727,  0.20570257,\n",
       "        -0.20570257,  0.02961311, -0.02961311,  0.19865975, -0.19865975,\n",
       "         0.02417547, -0.02417547,  0.19626479, -0.19626479,  0.05930429,\n",
       "        -0.05930429,  0.28426762, -0.28426762,  0.48130518, -0.48130518,\n",
       "         0.39888131, -0.39888131,  0.07269657, -0.07269657,  0.34170823,\n",
       "        -0.34170823,  0.11143916, -0.11143916,  0.95655048, -0.95655048,\n",
       "         0.24373334, -0.24373334,  0.14127383, -0.14127383,  0.12658491,\n",
       "        -0.12658491,  0.05677122, -0.05677122,  0.06407474, -0.06407474,\n",
       "         0.14340962, -0.14340962],\n",
       "       [-0.12089332, -0.3707352 , -1.15087263,  0.69468905,  0.24507533,\n",
       "        -0.24507533, -0.16892927, -0.15858657, -3.37724697,  5.85653217,\n",
       "         5.82569957, -4.13719737, -0.16523538,  1.21481575, -0.26959545,\n",
       "        -0.13355115, -0.75683989, -0.4144878 , -0.08041632, -0.01709214,\n",
       "        -0.01709214, -0.39295893, -0.02417547,  1.10933263, -0.02417547,\n",
       "        -0.06407474, -0.02417547, -0.01709214, -0.02961311, -0.01709214,\n",
       "        -0.01709214, -0.01709214, -0.16430034, -0.01709214, -0.26520648,\n",
       "        -0.01709214, -0.09401664, -0.02961311, -0.06407474, -0.01709214,\n",
       "        -0.06851887, -0.06173491, -0.05677122, -0.02417547, -0.01709214,\n",
       "        -0.03419928, -0.04839339, -0.01709214, -0.4628006 , -0.04839339,\n",
       "        -0.02417547, -0.09864909, -0.31551611, -0.02417547,  0.8372239 ,\n",
       "        -0.8372239 , -0.51420013,  0.79207097, -0.4628006 ,  0.5544089 ,\n",
       "        -0.5544089 ,  0.59804068, -0.59804068,  0.61335617, -0.61335617,\n",
       "         0.43840684, -0.43840684,  0.37239283, -0.37239283,  1.13726385,\n",
       "        -1.13726385,  1.59630402, -0.8813939 , -0.62509138,  1.53842939,\n",
       "        -0.60164188, -0.8813939 , -0.16801258,  1.03084946, -0.8813939 ,\n",
       "        -0.23068246, -0.08041632,  1.50158345, -1.3657496 , -0.19139844,\n",
       "         0.23068246, -0.23068246,  1.71733814, -1.71733814, -0.34701419,\n",
       "         0.34701419, -1.11064352,  1.11064352,  0.88979328, -0.88979328,\n",
       "        -1.23795976,  1.23795976,  0.68476088, -0.68476088,  0.64184014,\n",
       "        -0.64184014,  0.5481038 , -0.5481038 ,  0.55980982, -0.55980982,\n",
       "         0.54269509, -0.54269509,  0.49643799, -0.49643799,  0.42219888,\n",
       "        -0.42219888,  1.03145233, -1.03145233,  0.60479404, -0.60479404,\n",
       "         0.48360508, -0.48360508,  0.47485069, -0.47485069, -1.37723822,\n",
       "         1.37723822,  0.75017114, -0.75017114,  0.63006414, -0.63006414,\n",
       "         0.62373604, -0.62373604,  0.47808072, -0.47808072,  0.46233536,\n",
       "        -0.46233536,  0.44737032, -0.44737032,  0.38349534, -0.38349534,\n",
       "         0.41206605, -0.41206605,  0.33903727, -0.33903727,  0.20570257,\n",
       "        -0.20570257,  0.02961311, -0.02961311,  0.19865975, -0.19865975,\n",
       "         0.02417547, -0.02417547,  0.19626479, -0.19626479,  0.05930429,\n",
       "        -0.05930429, -3.51781182,  3.51781182,  0.48130518, -0.48130518,\n",
       "         0.39888131, -0.39888131,  0.07269657, -0.07269657,  0.34170823,\n",
       "        -0.34170823, -8.97350598,  8.97350598,  0.95655048, -0.95655048,\n",
       "         0.24373334, -0.24373334,  0.14127383, -0.14127383,  0.12658491,\n",
       "        -0.12658491,  0.05677122, -0.05677122,  0.06407474, -0.06407474,\n",
       "         0.14340962, -0.14340962],\n",
       "       [ 0.98589469, -0.3707352 ,  0.86890589, -0.21875769,  0.24507533,\n",
       "        -0.24507533, -0.16892927, -0.15858657,  0.29609916, -0.17074951,\n",
       "        -0.1716532 ,  0.24170952, -0.16523538,  1.21481575, -0.26959545,\n",
       "        -0.13355115, -0.75683989, -0.4144878 , -0.08041632, -0.01709214,\n",
       "        -0.01709214, -0.39295893, -0.02417547,  1.10933263, -0.02417547,\n",
       "        -0.06407474, -0.02417547, -0.01709214, -0.02961311, -0.01709214,\n",
       "        -0.01709214, -0.01709214, -0.16430034, -0.01709214, -0.26520648,\n",
       "        -0.01709214, -0.09401664, -0.02961311, -0.06407474, -0.01709214,\n",
       "        -0.06851887, -0.06173491, -0.05677122, -0.02417547, -0.01709214,\n",
       "        -0.03419928, -0.04839339, -0.01709214, -0.4628006 , -0.04839339,\n",
       "        -0.02417547, -0.09864909, -0.31551611, -0.02417547,  0.8372239 ,\n",
       "        -0.8372239 , -0.51420013,  0.79207097, -0.4628006 ,  0.5544089 ,\n",
       "        -0.5544089 , -1.67212705,  1.67212705,  0.61335617, -0.61335617,\n",
       "         0.43840684, -0.43840684,  0.37239283, -0.37239283,  1.13726385,\n",
       "        -1.13726385,  1.59630402, -0.8813939 , -0.62509138,  1.53842939,\n",
       "        -0.60164188, -0.8813939 , -0.16801258,  1.03084946, -0.8813939 ,\n",
       "        -0.23068246, -0.08041632,  1.50158345, -1.3657496 , -0.19139844,\n",
       "         0.23068246, -0.23068246,  1.71733814, -1.71733814, -0.34701419,\n",
       "         0.34701419,  0.90037891, -0.90037891, -1.12385655,  1.12385655,\n",
       "        -1.23795976,  1.23795976,  0.68476088, -0.68476088, -1.55802036,\n",
       "         1.55802036,  0.5481038 , -0.5481038 ,  0.55980982, -0.55980982,\n",
       "        -1.84265534,  1.84265534,  0.49643799, -0.49643799,  0.42219888,\n",
       "        -0.42219888, -0.96950675,  0.96950675,  0.60479404, -0.60479404,\n",
       "         0.48360508, -0.48360508, -2.10592513,  2.10592513,  0.7260908 ,\n",
       "        -0.7260908 , -1.33302916,  1.33302916, -1.58713999,  1.58713999,\n",
       "         0.62373604, -0.62373604,  0.47808072, -0.47808072,  0.46233536,\n",
       "        -0.46233536,  0.44737032, -0.44737032,  0.38349534, -0.38349534,\n",
       "         0.41206605, -0.41206605, -2.94952822,  2.94952822,  0.20570257,\n",
       "        -0.20570257,  0.02961311, -0.02961311,  0.19865975, -0.19865975,\n",
       "         0.02417547, -0.02417547,  0.19626479, -0.19626479,  0.05930429,\n",
       "        -0.05930429,  0.28426762, -0.28426762, -2.07768385,  2.07768385,\n",
       "         0.39888131, -0.39888131,  0.07269657, -0.07269657,  0.34170823,\n",
       "        -0.34170823,  0.11143916, -0.11143916,  0.95655048, -0.95655048,\n",
       "         0.24373334, -0.24373334,  0.14127383, -0.14127383,  0.12658491,\n",
       "        -0.12658491,  0.05677122, -0.05677122,  0.06407474, -0.06407474,\n",
       "         0.14340962, -0.14340962],\n",
       "       [ 0.98589469, -0.3707352 , -1.15087263, -0.21875769,  0.24507533,\n",
       "        -0.24507533, -0.16892927, -0.15858657,  0.29609916, -0.17074951,\n",
       "        -0.1716532 ,  0.24170952, -0.16523538,  1.21481575, -0.26959545,\n",
       "        -0.13355115, -0.75683989, -0.4144878 , -0.08041632, -0.01709214,\n",
       "        -0.01709214, -0.39295893, -0.02417547,  1.10933263, -0.02417547,\n",
       "        -0.06407474, -0.02417547, -0.01709214, -0.02961311, -0.01709214,\n",
       "        -0.01709214, -0.01709214, -0.16430034, -0.01709214, -0.26520648,\n",
       "        -0.01709214, -0.09401664, -0.02961311, -0.06407474, -0.01709214,\n",
       "        -0.06851887, -0.06173491, -0.05677122, -0.02417547, -0.01709214,\n",
       "        -0.03419928, -0.04839339, -0.01709214, -0.4628006 , -0.04839339,\n",
       "        -0.02417547, -0.09864909, -0.31551611, -0.02417547,  0.8372239 ,\n",
       "        -0.8372239 , -0.51420013,  0.79207097, -0.4628006 , -1.80372286,\n",
       "         1.80372286, -1.67212705,  1.67212705,  0.61335617, -0.61335617,\n",
       "         0.43840684, -0.43840684,  0.37239283, -0.37239283,  1.13726385,\n",
       "        -1.13726385, -0.62644708,  1.1345665 , -0.62509138, -0.65001358,\n",
       "        -0.60164188,  1.1345665 , -0.16801258, -0.97007375,  1.1345665 ,\n",
       "        -0.23068246, -0.08041632, -0.66596365,  0.73219864, -0.19139844,\n",
       "         0.23068246, -0.23068246,  1.71733814, -1.71733814, -0.34701419,\n",
       "         0.34701419, -1.11064352,  1.11064352, -1.12385655,  1.12385655,\n",
       "        -1.23795976,  1.23795976,  0.68476088, -0.68476088,  0.64184014,\n",
       "        -0.64184014,  0.5481038 , -0.5481038 ,  0.55980982, -0.55980982,\n",
       "        -1.84265534,  1.84265534, -2.01435029,  2.01435029,  0.42219888,\n",
       "        -0.42219888,  1.03145233, -1.03145233,  0.60479404, -0.60479404,\n",
       "         0.48360508, -0.48360508,  0.47485069, -0.47485069,  0.7260908 ,\n",
       "        -0.7260908 , -1.33302916,  1.33302916, -1.58713999,  1.58713999,\n",
       "        -1.60324228,  1.60324228,  0.47808072, -0.47808072,  0.46233536,\n",
       "        -0.46233536,  0.44737032, -0.44737032,  0.38349534, -0.38349534,\n",
       "         0.41206605, -0.41206605,  0.33903727, -0.33903727,  0.20570257,\n",
       "        -0.20570257,  0.02961311, -0.02961311,  0.19865975, -0.19865975,\n",
       "         0.02417547, -0.02417547,  0.19626479, -0.19626479,  0.05930429,\n",
       "        -0.05930429,  0.28426762, -0.28426762, -2.07768385,  2.07768385,\n",
       "         0.39888131, -0.39888131,  0.07269657, -0.07269657,  0.34170823,\n",
       "        -0.34170823,  0.11143916, -0.11143916,  0.95655048, -0.95655048,\n",
       "         0.24373334, -0.24373334,  0.14127383, -0.14127383,  0.12658491,\n",
       "        -0.12658491,  0.05677122, -0.05677122,  0.06407474, -0.06407474,\n",
       "         0.14340962, -0.14340962]])"
      ]
     },
     "execution_count": 22,
     "metadata": {},
     "output_type": "execute_result"
    }
   ],
   "source": [
    "X= preprocessing.StandardScaler().fit(X).transform(X)\n",
    "X[0:5]"
   ]
  },
  {
   "cell_type": "markdown",
   "id": "47287f3a",
   "metadata": {
    "papermill": {
     "duration": 0.149167,
     "end_time": "2022-02-22T18:39:04.912756",
     "exception": false,
     "start_time": "2022-02-22T18:39:04.763589",
     "status": "completed"
    },
    "tags": []
   },
   "source": [
    "We are ready to model our data. We will try different classification models strating with **K-Nearest Neighbor(KNN)**"
   ]
  },
  {
   "cell_type": "code",
   "execution_count": 23,
   "id": "3fc13b5f",
   "metadata": {
    "execution": {
     "iopub.execute_input": "2022-02-22T18:39:05.214225Z",
     "iopub.status.busy": "2022-02-22T18:39:05.213534Z",
     "iopub.status.idle": "2022-02-22T18:39:05.263382Z",
     "shell.execute_reply": "2022-02-22T18:39:05.264238Z",
     "shell.execute_reply.started": "2022-02-22T18:35:58.868056Z"
    },
    "papermill": {
     "duration": 0.203422,
     "end_time": "2022-02-22T18:39:05.264491",
     "exception": false,
     "start_time": "2022-02-22T18:39:05.061069",
     "status": "completed"
    },
    "tags": []
   },
   "outputs": [
    {
     "name": "stdout",
     "output_type": "stream",
     "text": [
      "Train set: (2739, 177) (2739,)\n",
      "Test set: (685, 177) (685,)\n"
     ]
    }
   ],
   "source": [
    "from sklearn.model_selection import train_test_split\n",
    "X_train, X_test, y_train, y_test = train_test_split( X, y, test_size=0.2, random_state=4)\n",
    "print ('Train set:', X_train.shape,  y_train.shape)\n",
    "print ('Test set:', X_test.shape,  y_test.shape)"
   ]
  },
  {
   "cell_type": "code",
   "execution_count": 24,
   "id": "1210172f",
   "metadata": {
    "execution": {
     "iopub.execute_input": "2022-02-22T18:39:05.569072Z",
     "iopub.status.busy": "2022-02-22T18:39:05.568410Z",
     "iopub.status.idle": "2022-02-22T18:39:05.698004Z",
     "shell.execute_reply": "2022-02-22T18:39:05.696733Z",
     "shell.execute_reply.started": "2022-02-22T18:35:58.881897Z"
    },
    "papermill": {
     "duration": 0.280084,
     "end_time": "2022-02-22T18:39:05.698167",
     "exception": false,
     "start_time": "2022-02-22T18:39:05.418083",
     "status": "completed"
    },
    "tags": []
   },
   "outputs": [],
   "source": [
    "from sklearn.neighbors import KNeighborsClassifier"
   ]
  },
  {
   "cell_type": "code",
   "execution_count": 25,
   "id": "c9d79fc4",
   "metadata": {
    "execution": {
     "iopub.execute_input": "2022-02-22T18:39:06.027208Z",
     "iopub.status.busy": "2022-02-22T18:39:06.026490Z",
     "iopub.status.idle": "2022-02-22T18:39:09.430085Z",
     "shell.execute_reply": "2022-02-22T18:39:09.429493Z",
     "shell.execute_reply.started": "2022-02-22T18:35:58.889092Z"
    },
    "papermill": {
     "duration": 3.579273,
     "end_time": "2022-02-22T18:39:09.430243",
     "exception": false,
     "start_time": "2022-02-22T18:39:05.850970",
     "status": "completed"
    },
    "tags": []
   },
   "outputs": [
    {
     "name": "stdout",
     "output_type": "stream",
     "text": [
      "Train set Accuracy:  0.7959109163928441\n",
      "Test set Accuracy:  0.7124087591240876\n"
     ]
    }
   ],
   "source": [
    "k =7\n",
    "#Train Model and Predict  \n",
    "neigh = KNeighborsClassifier(n_neighbors = k).fit(X_train,y_train)\n",
    "neigh\n",
    "yhat = neigh.predict(X_test)\n",
    "yhat[0:5]\n",
    "from sklearn import metrics\n",
    "print(\"Train set Accuracy: \", metrics.accuracy_score(y_train, neigh.predict(X_train)))\n",
    "print(\"Test set Accuracy: \", metrics.accuracy_score(y_test, yhat))"
   ]
  },
  {
   "cell_type": "code",
   "execution_count": 26,
   "id": "d16f5a5f",
   "metadata": {
    "execution": {
     "iopub.execute_input": "2022-02-22T18:39:09.729422Z",
     "iopub.status.busy": "2022-02-22T18:39:09.728795Z",
     "iopub.status.idle": "2022-02-22T18:39:12.392421Z",
     "shell.execute_reply": "2022-02-22T18:39:12.392943Z",
     "shell.execute_reply.started": "2022-02-22T18:36:02.357982Z"
    },
    "papermill": {
     "duration": 2.814766,
     "end_time": "2022-02-22T18:39:12.393137",
     "exception": false,
     "start_time": "2022-02-22T18:39:09.578371",
     "status": "completed"
    },
    "tags": []
   },
   "outputs": [
    {
     "data": {
      "text/plain": [
       "array(['Non-Persistent', 'Non-Persistent', 'Non-Persistent', ...,\n",
       "       'Non-Persistent', 'Non-Persistent', 'Persistent'], dtype=object)"
      ]
     },
     "execution_count": 26,
     "metadata": {},
     "output_type": "execute_result"
    }
   ],
   "source": [
    "neigh.predict(X_train)"
   ]
  },
  {
   "cell_type": "code",
   "execution_count": 27,
   "id": "e061520d",
   "metadata": {
    "execution": {
     "iopub.execute_input": "2022-02-22T18:39:12.702773Z",
     "iopub.status.busy": "2022-02-22T18:39:12.702102Z",
     "iopub.status.idle": "2022-02-22T18:40:16.900334Z",
     "shell.execute_reply": "2022-02-22T18:40:16.899608Z",
     "shell.execute_reply.started": "2022-02-22T18:36:05.084672Z"
    },
    "papermill": {
     "duration": 64.354654,
     "end_time": "2022-02-22T18:40:16.900489",
     "exception": false,
     "start_time": "2022-02-22T18:39:12.545835",
     "status": "completed"
    },
    "tags": []
   },
   "outputs": [
    {
     "name": "stdout",
     "output_type": "stream",
     "text": [
      "Collecting package metadata (current_repodata.json): - \b\b\\ \b\b| \b\b/ \b\b- \b\b\\ \b\b| \b\b/ \b\b- \b\b\\ \b\b| \b\b/ \b\b- \b\b\\ \b\b| \b\b/ \b\b- \b\b\\ \b\b| \b\b/ \b\b- \b\b\\ \b\b| \b\b/ \b\b- \b\b\\ \b\b| \b\b/ \b\b- \b\b\\ \b\b| \b\b/ \b\b- \b\b\\ \b\b| \b\b/ \b\b- \b\b\\ \b\b| \b\b/ \b\b- \b\b\\ \b\b| \b\b/ \b\b- \b\b\\ \b\b| \b\b/ \b\b- \b\b\\ \b\b| \b\b/ \b\b- \b\b\\ \b\b| \b\b/ \b\b- \b\b\\ \b\b| \b\b/ \b\b- \b\b\\ \b\bdone\r\n",
      "Solving environment: / \b\b- \b\b\\ \b\b| \b\b/ \b\b- \b\b\\ \b\b| \b\b/ \b\b- \b\b\\ \b\b| \b\b/ \b\b- \b\b\\ \b\b| \b\b/ \b\b- \b\b\\ \b\b| \b\b/ \b\b- \b\b\\ \b\b| \b\b/ \b\b- \b\b\\ \b\b| \b\b/ \b\b- \b\b\\ \b\b| \b\b/ \b\b- \b\b\\ \b\b| \b\b/ \b\b- \b\b\\ \b\b| \b\b/ \b\b- \b\b\\ \b\b| \b\b/ \b\b- \b\b\\ \b\b| \b\b/ \b\b- \b\b\\ \b\b| \b\b/ \b\b- \b\b\\ \b\b| \b\b/ \b\b- \b\b\\ \b\b| \b\b/ \b\b- \b\b\\ \b\b| \b\b/ \b\b- \b\b\\ \b\b| \b\b/ \b\b- \b\b\\ \b\b| \b\b/ \b\b- \b\b\\ \b\b| \b\b/ \b\b- \b\b\\ \b\b| \b\b/ \b\b- \b\b\\ \b\b| \b\b/ \b\b- \b\b\\ \b\b| \b\b/ \b\b- \b\b\\ \b\bdone\r\n",
      "\r\n",
      "## Package Plan ##\r\n",
      "\r\n",
      "  environment location: /opt/conda\r\n",
      "\r\n",
      "  added / updated specs:\r\n",
      "    - pydotplus\r\n",
      "\r\n",
      "\r\n",
      "The following packages will be downloaded:\r\n",
      "\r\n",
      "    package                    |            build\r\n",
      "    ---------------------------|-----------------\r\n",
      "    pydotplus-2.0.2            |     pyhaef67bd_5          24 KB  conda-forge\r\n",
      "    ------------------------------------------------------------\r\n",
      "                                           Total:          24 KB\r\n",
      "\r\n",
      "The following NEW packages will be INSTALLED:\r\n",
      "\r\n",
      "  pydotplus          conda-forge/noarch::pydotplus-2.0.2-pyhaef67bd_5\r\n",
      "\r\n",
      "The following packages will be UPDATED:\r\n",
      "\r\n",
      "  ca-certificates    anaconda::ca-certificates-2020.10.14-0 --> conda-forge::ca-certificates-2021.10.8-ha878542_0\r\n",
      "  certifi                anaconda::certifi-2020.6.20-py37_0 --> conda-forge::certifi-2021.10.8-py37h89c1867_1\r\n",
      "\r\n",
      "\r\n",
      "\r\n",
      "Downloading and Extracting Packages\r\n",
      "pydotplus-2.0.2      | 24 KB     | ##################################### | 100% \r\n",
      "Preparing transaction: / \b\bdone\r\n",
      "Verifying transaction: \\ \b\bdone\r\n",
      "Executing transaction: / \b\b- \b\b\\ \b\b| \b\b/ \b\b- \b\b\\ \b\b| \b\b/ \b\b- \b\b\\ \b\bdone\r\n",
      "Collecting package metadata (current_repodata.json): - \b\b\\ \b\b| \b\b/ \b\b- \b\b\\ \b\b| \b\b/ \b\b- \b\b\\ \b\b| \b\b/ \b\b- \b\b\\ \b\b| \b\b/ \b\b- \b\b\\ \b\b| \b\b/ \b\b- \b\b\\ \b\b| \b\b/ \b\b- \b\b\\ \b\b| \b\b/ \b\b- \b\b\\ \b\b| \b\b/ \b\b- \b\b\\ \b\b| \b\b/ \b\b- \b\b\\ \b\b| \b\b/ \b\b- \b\b\\ \b\b| \b\b/ \b\b- \b\b\\ \b\b| \b\b/ \b\b- \b\b\\ \b\b| \b\b/ \b\b- \b\b\\ \b\b| \b\b/ \b\b- \b\b\\ \b\b| \b\bdone\r\n",
      "Solving environment: - \b\b\\ \b\b| \b\b/ \b\b- \b\b\\ \b\b| \b\b/ \b\b- \b\b\\ \b\b| \b\b/ \b\b- \b\b\\ \b\b| \b\b/ \b\b- \b\b\\ \b\b| \b\b/ \b\b- \b\b\\ \b\b| \b\b/ \b\b- \b\b\\ \b\b| \b\b/ \b\b- \b\b\\ \b\b| \b\b/ \b\b- \b\b\\ \b\b| \b\b/ \b\b- \b\b\\ \b\b| \b\b/ \b\b- \b\b\\ \b\b| \b\b/ \b\b- \b\b\\ \b\b| \b\b/ \b\b- \b\b\\ \b\b| \b\b/ \b\b- \b\b\\ \b\b| \b\b/ \b\b- \b\b\\ \b\b| \b\b/ \b\b- \b\b\\ \b\b| \b\b/ \b\b- \b\b\\ \b\b| \b\b/ \b\b- \b\b\\ \b\b| \b\b/ \b\b- \b\b\\ \b\b| \b\b/ \b\b- \b\b\\ \b\b| \b\b/ \b\b- \b\b\\ \b\b| \b\b/ \b\b- \b\b\\ \b\b| \b\b/ \b\b- \b\bdone\r\n",
      "\r\n",
      "## Package Plan ##\r\n",
      "\r\n",
      "  environment location: /opt/conda\r\n",
      "\r\n",
      "  added / updated specs:\r\n",
      "    - python-graphviz\r\n",
      "\r\n",
      "\r\n",
      "The following packages will be downloaded:\r\n",
      "\r\n",
      "    package                    |            build\r\n",
      "    ---------------------------|-----------------\r\n",
      "    python-graphviz-0.19.1     |     pyhaef67bd_0          34 KB  conda-forge\r\n",
      "    ------------------------------------------------------------\r\n",
      "                                           Total:          34 KB\r\n",
      "\r\n",
      "The following NEW packages will be INSTALLED:\r\n",
      "\r\n",
      "  python-graphviz    conda-forge/noarch::python-graphviz-0.19.1-pyhaef67bd_0\r\n",
      "\r\n",
      "\r\n",
      "\r\n",
      "Downloading and Extracting Packages\r\n",
      "python-graphviz-0.19 | 34 KB     | ##################################### | 100% \r\n",
      "Preparing transaction: | \b\bdone\r\n",
      "Verifying transaction: - \b\bdone\r\n",
      "Executing transaction: | \b\b/ \b\b- \b\b\\ \b\b| \b\b/ \b\b- \b\b\\ \b\b| \b\b/ \b\bdone\r\n"
     ]
    }
   ],
   "source": [
    "from sklearn.tree import DecisionTreeClassifier\n",
    "!conda install -c conda-forge pydotplus -y\n",
    "!conda install -c conda-forge python-graphviz -y"
   ]
  },
  {
   "cell_type": "code",
   "execution_count": 28,
   "id": "726a43f3",
   "metadata": {
    "execution": {
     "iopub.execute_input": "2022-02-22T18:40:17.459816Z",
     "iopub.status.busy": "2022-02-22T18:40:17.458629Z",
     "iopub.status.idle": "2022-02-22T18:40:17.500421Z",
     "shell.execute_reply": "2022-02-22T18:40:17.499796Z",
     "shell.execute_reply.started": "2022-02-22T18:37:13.331119Z"
    },
    "papermill": {
     "duration": 0.318609,
     "end_time": "2022-02-22T18:40:17.500560",
     "exception": false,
     "start_time": "2022-02-22T18:40:17.181951",
     "status": "completed"
    },
    "tags": []
   },
   "outputs": [
    {
     "data": {
      "text/plain": [
       "(2739, 177)"
      ]
     },
     "execution_count": 28,
     "metadata": {},
     "output_type": "execute_result"
    }
   ],
   "source": [
    "drugTree = DecisionTreeClassifier(criterion=\"entropy\", max_depth = 8)\n",
    "drugTree # it shows the default parameters\n",
    "drugTree.fit(X_train,y_train)\n",
    "predTree = drugTree.predict(X_test)\n",
    "X_train.shape\n"
   ]
  },
  {
   "cell_type": "code",
   "execution_count": 29,
   "id": "a42aa691",
   "metadata": {
    "execution": {
     "iopub.execute_input": "2022-02-22T18:40:18.055737Z",
     "iopub.status.busy": "2022-02-22T18:40:18.055071Z",
     "iopub.status.idle": "2022-02-22T18:40:18.072071Z",
     "shell.execute_reply": "2022-02-22T18:40:18.071360Z",
     "shell.execute_reply.started": "2022-02-22T18:37:13.381397Z"
    },
    "papermill": {
     "duration": 0.304611,
     "end_time": "2022-02-22T18:40:18.072333",
     "exception": false,
     "start_time": "2022-02-22T18:40:17.767722",
     "status": "completed"
    },
    "tags": []
   },
   "outputs": [
    {
     "name": "stdout",
     "output_type": "stream",
     "text": [
      "Train set Accuracy:  0.8714859437751004\n",
      "Test set Accuracy:  0.7562043795620438\n"
     ]
    }
   ],
   "source": [
    "\n",
    "print(\"Train set Accuracy: \", metrics.accuracy_score(y_train, drugTree.predict(X_train)))\n",
    "print(\"Test set Accuracy: \", metrics.accuracy_score(y_test, drugTree.predict(X_test)))"
   ]
  },
  {
   "cell_type": "code",
   "execution_count": 30,
   "id": "e7dd4b83",
   "metadata": {
    "execution": {
     "iopub.execute_input": "2022-02-22T18:40:18.617067Z",
     "iopub.status.busy": "2022-02-22T18:40:18.616382Z",
     "iopub.status.idle": "2022-02-22T18:40:18.682992Z",
     "shell.execute_reply": "2022-02-22T18:40:18.682282Z",
     "shell.execute_reply.started": "2022-02-22T18:37:13.407550Z"
    },
    "papermill": {
     "duration": 0.341552,
     "end_time": "2022-02-22T18:40:18.683151",
     "exception": false,
     "start_time": "2022-02-22T18:40:18.341599",
     "status": "completed"
    },
    "tags": []
   },
   "outputs": [
    {
     "data": {
      "text/plain": [
       "993     Non-Persistent\n",
       "3095        Persistent\n",
       "2447        Persistent\n",
       "1655        Persistent\n",
       "809         Persistent\n",
       "             ...      \n",
       "299     Non-Persistent\n",
       "2035    Non-Persistent\n",
       "135     Non-Persistent\n",
       "361     Non-Persistent\n",
       "2970    Non-Persistent\n",
       "Name: Persistency_Flag, Length: 685, dtype: object"
      ]
     },
     "execution_count": 30,
     "metadata": {},
     "output_type": "execute_result"
    }
   ],
   "source": [
    "import scipy.optimize as opt\n",
    "from sklearn.linear_model import LogisticRegression\n",
    "from sklearn.metrics import confusion_matrix\n",
    "\n",
    "LR = LogisticRegression(C=0.01, solver='liblinear').fit(X_train,y_train)\n",
    "LR\n",
    "y_test"
   ]
  },
  {
   "cell_type": "code",
   "execution_count": 31,
   "id": "47bbae20",
   "metadata": {
    "execution": {
     "iopub.execute_input": "2022-02-22T18:40:19.229626Z",
     "iopub.status.busy": "2022-02-22T18:40:19.228794Z",
     "iopub.status.idle": "2022-02-22T18:40:19.235065Z",
     "shell.execute_reply": "2022-02-22T18:40:19.236092Z",
     "shell.execute_reply.started": "2022-02-22T18:37:13.483778Z"
    },
    "papermill": {
     "duration": 0.282722,
     "end_time": "2022-02-22T18:40:19.236376",
     "exception": false,
     "start_time": "2022-02-22T18:40:18.953654",
     "status": "completed"
    },
    "tags": []
   },
   "outputs": [],
   "source": [
    "yhat = LR.predict(X_test)\n",
    "yhat\n",
    "yhat_prob = LR.predict_proba(X_test)\n",
    "\n"
   ]
  },
  {
   "cell_type": "code",
   "execution_count": 32,
   "id": "4030e0a7",
   "metadata": {
    "execution": {
     "iopub.execute_input": "2022-02-22T18:40:19.836675Z",
     "iopub.status.busy": "2022-02-22T18:40:19.835580Z",
     "iopub.status.idle": "2022-02-22T18:40:19.862409Z",
     "shell.execute_reply": "2022-02-22T18:40:19.863441Z",
     "shell.execute_reply.started": "2022-02-22T18:37:13.504539Z"
    },
    "papermill": {
     "duration": 0.30509,
     "end_time": "2022-02-22T18:40:19.863731",
     "exception": false,
     "start_time": "2022-02-22T18:40:19.558641",
     "status": "completed"
    },
    "tags": []
   },
   "outputs": [
    {
     "name": "stdout",
     "output_type": "stream",
     "text": [
      "Train set Accuracy:  0.8320554947060971\n",
      "Test set Accuracy:  0.7927007299270074\n"
     ]
    }
   ],
   "source": [
    "print(\"Train set Accuracy: \", metrics.accuracy_score(y_train, LR.predict(X_train)))\n",
    "print(\"Test set Accuracy: \", metrics.accuracy_score(y_test, yhat))"
   ]
  },
  {
   "cell_type": "code",
   "execution_count": 33,
   "id": "9934c19b",
   "metadata": {
    "execution": {
     "iopub.execute_input": "2022-02-22T18:40:20.455482Z",
     "iopub.status.busy": "2022-02-22T18:40:20.454817Z",
     "iopub.status.idle": "2022-02-22T18:40:20.464493Z",
     "shell.execute_reply": "2022-02-22T18:40:20.465081Z",
     "shell.execute_reply.started": "2022-02-22T18:37:13.542766Z"
    },
    "papermill": {
     "duration": 0.284986,
     "end_time": "2022-02-22T18:40:20.465274",
     "exception": false,
     "start_time": "2022-02-22T18:40:20.180288",
     "status": "completed"
    },
    "tags": []
   },
   "outputs": [
    {
     "name": "stdout",
     "output_type": "stream",
     "text": [
      "Confusion matrix : \n",
      " [[349  56]\n",
      " [ 86 194]]\n"
     ]
    }
   ],
   "source": [
    "from sklearn.metrics import confusion_matrix\n",
    "matrix = confusion_matrix(y_test,yhat)\n",
    "print('Confusion matrix : \\n',matrix)"
   ]
  },
  {
   "cell_type": "code",
   "execution_count": 34,
   "id": "37bb50ca",
   "metadata": {
    "execution": {
     "iopub.execute_input": "2022-02-22T18:40:21.012164Z",
     "iopub.status.busy": "2022-02-22T18:40:21.011529Z",
     "iopub.status.idle": "2022-02-22T18:40:21.732170Z",
     "shell.execute_reply": "2022-02-22T18:40:21.730670Z",
     "shell.execute_reply.started": "2022-02-22T18:37:13.561098Z"
    },
    "papermill": {
     "duration": 0.997466,
     "end_time": "2022-02-22T18:40:21.732422",
     "exception": false,
     "start_time": "2022-02-22T18:40:20.734956",
     "status": "completed"
    },
    "tags": []
   },
   "outputs": [
    {
     "name": "stdout",
     "output_type": "stream",
     "text": [
      "For Knn:                 jaccard score  0.6591695501730104   F-1 score  0.6826200244070136\n",
      "For decision trees:      jaccard score  0.6800766283524904   F-1 score  0.7489507492361961\n",
      "For logistic regression: jaccard score  0.7107942973523421   F-1 score  0.7905355421331183\n"
     ]
    }
   ],
   "source": [
    "from sklearn.metrics import f1_score\n",
    "from sklearn.metrics import jaccard_score\n",
    "from sklearn.metrics import log_loss\n",
    "### applying knn modekl\n",
    "yhat=neigh.predict(X_test)\n",
    "yhat_js =np.where(yhat == 'Non-Persistent', 0, 1)\n",
    "ytest_js =np.where(y_test == 'Non-Persistent', 0, 1)\n",
    "print('For Knn:                 jaccard score ',jaccard_score(ytest_js, yhat_js,pos_label=0),'  F-1 score ',f1_score(y_test, yhat, average='weighted') )\n",
    "### applying decision trees\n",
    "yhat = drugTree.predict(X_test)\n",
    "yhat_js =np.where(yhat == 'Non-Persistent', 0, 1)\n",
    "print('For decision trees:      jaccard score ',jaccard_score(ytest_js, yhat_js,pos_label=0),'  F-1 score ',f1_score(y_test, yhat, average='weighted') )\n",
    "### applying logistic regression\n",
    "yhat = LR.predict(X_test)\n",
    "yhat_js =np.where(yhat == 'Non-Persistent', 0, 1)\n",
    "yhat_prob = LR.predict_proba(X_test)\n",
    "print('For logistic regression: jaccard score ',jaccard_score(ytest_js, yhat_js,pos_label=0),'  F-1 score ',f1_score(y_test, yhat, average='weighted'))"
   ]
  },
  {
   "cell_type": "code",
   "execution_count": null,
   "id": "00d38ace",
   "metadata": {
    "papermill": {
     "duration": 0.272721,
     "end_time": "2022-02-22T18:40:22.326413",
     "exception": false,
     "start_time": "2022-02-22T18:40:22.053692",
     "status": "completed"
    },
    "tags": []
   },
   "outputs": [],
   "source": []
  }
 ],
 "metadata": {
  "kernelspec": {
   "display_name": "Python 3",
   "language": "python",
   "name": "python3"
  },
  "language_info": {
   "codemirror_mode": {
    "name": "ipython",
    "version": 3
   },
   "file_extension": ".py",
   "mimetype": "text/x-python",
   "name": "python",
   "nbconvert_exporter": "python",
   "pygments_lexer": "ipython3",
   "version": "3.7.12"
  },
  "papermill": {
   "default_parameters": {},
   "duration": 154.109423,
   "end_time": "2022-02-22T18:40:23.407025",
   "environment_variables": {},
   "exception": null,
   "input_path": "__notebook__.ipynb",
   "output_path": "__notebook__.ipynb",
   "parameters": {},
   "start_time": "2022-02-22T18:37:49.297602",
   "version": "2.3.3"
  }
 },
 "nbformat": 4,
 "nbformat_minor": 5
}
