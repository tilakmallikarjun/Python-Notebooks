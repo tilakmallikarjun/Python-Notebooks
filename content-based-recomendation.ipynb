{
 "cells": [
  {
   "cell_type": "code",
   "execution_count": 1,
   "id": "4eef5d9d",
   "metadata": {
    "_cell_guid": "b1076dfc-b9ad-4769-8c92-a6c4dae69d19",
    "_uuid": "8f2839f25d086af736a60e9eeb907d3b93b6e0e5",
    "execution": {
     "iopub.execute_input": "2022-02-16T06:19:25.513881Z",
     "iopub.status.busy": "2022-02-16T06:19:25.512764Z",
     "iopub.status.idle": "2022-02-16T06:19:27.496813Z",
     "shell.execute_reply": "2022-02-16T06:19:27.495711Z",
     "shell.execute_reply.started": "2022-02-16T06:18:21.795819Z"
    },
    "papermill": {
     "duration": 2.035271,
     "end_time": "2022-02-16T06:19:27.497026",
     "exception": false,
     "start_time": "2022-02-16T06:19:25.461755",
     "status": "completed"
    },
    "tags": []
   },
   "outputs": [
    {
     "name": "stdout",
     "output_type": "stream",
     "text": [
      "/kaggle/input/video-sharing-mobile-app-data/train.csv\n",
      "/kaggle/input/video-sharing-mobile-app-data/test.csv\n"
     ]
    }
   ],
   "source": [
    "# This Python 3 environment comes with many helpful analytics libraries installed\n",
    "# It is defined by the kaggle/python Docker image: https://github.com/kaggle/docker-python\n",
    "# For example, here's several helpful packages to load\n",
    "\n",
    "import numpy as np # linear algebra\n",
    "import pandas as pd # data processing, CSV file I/O (e.g. pd.read_csv)\n",
    "# use the inline backend to generate the plots within the browser\n",
    "%matplotlib inline\n",
    "\n",
    "import matplotlib as mpl\n",
    "import matplotlib.pyplot as plt\n",
    "import seaborn as sns\n",
    "from scipy.stats import norm\n",
    "from sklearn.preprocessing import StandardScaler\n",
    "from scipy import stats\n",
    "import warnings\n",
    "from sklearn.preprocessing import LabelEncoder\n",
    "import statsmodels.api as sm\n",
    "from sklearn.model_selection import train_test_split\n",
    "warnings.filterwarnings('ignore')\n",
    "%matplotlib inline\n",
    "mpl.style.use('ggplot')  # optional: for ggplot-like style\n",
    "\n",
    "\n",
    "# Input data files are available in the read-only \"../input/\" directory\n",
    "# For example, running this (by clicking run or pressing Shift+Enter) will list all files under the input directory\n",
    "\n",
    "import os\n",
    "for dirname, _, filenames in os.walk('/kaggle/input'):\n",
    "    for filename in filenames:\n",
    "        print(os.path.join(dirname, filename))\n",
    "\n",
    "# You can write up to 20GB to the current directory (/kaggle/working/) that gets preserved as output when you create a version using \"Save & Run All\" \n",
    "# You can also write temporary files to /kaggle/temp/, but they won't be saved outside of the current session"
   ]
  },
  {
   "cell_type": "code",
   "execution_count": 2,
   "id": "00e1a74d",
   "metadata": {
    "execution": {
     "iopub.execute_input": "2022-02-16T06:19:27.599999Z",
     "iopub.status.busy": "2022-02-16T06:19:27.599324Z",
     "iopub.status.idle": "2022-02-16T06:19:27.777849Z",
     "shell.execute_reply": "2022-02-16T06:19:27.777289Z",
     "shell.execute_reply.started": "2022-02-16T06:18:21.818497Z"
    },
    "papermill": {
     "duration": 0.229534,
     "end_time": "2022-02-16T06:19:27.777989",
     "exception": false,
     "start_time": "2022-02-16T06:19:27.548455",
     "status": "completed"
    },
    "tags": []
   },
   "outputs": [
    {
     "data": {
      "text/plain": [
       "(89197, 10)"
      ]
     },
     "execution_count": 2,
     "metadata": {},
     "output_type": "execute_result"
    }
   ],
   "source": [
    "train= pd.read_csv('../input/video-sharing-mobile-app-data/train.csv')\n",
    "test= pd.read_csv('../input/video-sharing-mobile-app-data/test.csv')\n",
    "train.shape"
   ]
  },
  {
   "cell_type": "code",
   "execution_count": 3,
   "id": "bd2028a4",
   "metadata": {
    "execution": {
     "iopub.execute_input": "2022-02-16T06:19:27.879151Z",
     "iopub.status.busy": "2022-02-16T06:19:27.878535Z",
     "iopub.status.idle": "2022-02-16T06:19:27.891554Z",
     "shell.execute_reply": "2022-02-16T06:19:27.892062Z",
     "shell.execute_reply.started": "2022-02-16T06:18:21.996869Z"
    },
    "papermill": {
     "duration": 0.066533,
     "end_time": "2022-02-16T06:19:27.892228",
     "exception": false,
     "start_time": "2022-02-16T06:19:27.825695",
     "status": "completed"
    },
    "tags": []
   },
   "outputs": [
    {
     "data": {
      "text/html": [
       "<div>\n",
       "<style scoped>\n",
       "    .dataframe tbody tr th:only-of-type {\n",
       "        vertical-align: middle;\n",
       "    }\n",
       "\n",
       "    .dataframe tbody tr th {\n",
       "        vertical-align: top;\n",
       "    }\n",
       "\n",
       "    .dataframe thead th {\n",
       "        text-align: right;\n",
       "    }\n",
       "</style>\n",
       "<table border=\"1\" class=\"dataframe\">\n",
       "  <thead>\n",
       "    <tr style=\"text-align: right;\">\n",
       "      <th></th>\n",
       "      <th>row_id</th>\n",
       "      <th>user_id</th>\n",
       "      <th>category_id</th>\n",
       "      <th>video_id</th>\n",
       "      <th>age</th>\n",
       "      <th>gender</th>\n",
       "      <th>profession</th>\n",
       "      <th>followers</th>\n",
       "      <th>views</th>\n",
       "    </tr>\n",
       "  </thead>\n",
       "  <tbody>\n",
       "    <tr>\n",
       "      <th>0</th>\n",
       "      <td>89198</td>\n",
       "      <td>7986</td>\n",
       "      <td>12</td>\n",
       "      <td>42</td>\n",
       "      <td>14</td>\n",
       "      <td>Male</td>\n",
       "      <td>Student</td>\n",
       "      <td>180</td>\n",
       "      <td>138</td>\n",
       "    </tr>\n",
       "    <tr>\n",
       "      <th>1</th>\n",
       "      <td>89199</td>\n",
       "      <td>11278</td>\n",
       "      <td>34</td>\n",
       "      <td>115</td>\n",
       "      <td>14</td>\n",
       "      <td>Male</td>\n",
       "      <td>Student</td>\n",
       "      <td>230</td>\n",
       "      <td>840</td>\n",
       "    </tr>\n",
       "    <tr>\n",
       "      <th>2</th>\n",
       "      <td>89200</td>\n",
       "      <td>17245</td>\n",
       "      <td>8</td>\n",
       "      <td>110</td>\n",
       "      <td>44</td>\n",
       "      <td>Female</td>\n",
       "      <td>Working Professional</td>\n",
       "      <td>280</td>\n",
       "      <td>628</td>\n",
       "    </tr>\n",
       "    <tr>\n",
       "      <th>3</th>\n",
       "      <td>89201</td>\n",
       "      <td>9851</td>\n",
       "      <td>16</td>\n",
       "      <td>137</td>\n",
       "      <td>18</td>\n",
       "      <td>Male</td>\n",
       "      <td>Student</td>\n",
       "      <td>270</td>\n",
       "      <td>462</td>\n",
       "    </tr>\n",
       "    <tr>\n",
       "      <th>4</th>\n",
       "      <td>89202</td>\n",
       "      <td>16008</td>\n",
       "      <td>34</td>\n",
       "      <td>96</td>\n",
       "      <td>47</td>\n",
       "      <td>Female</td>\n",
       "      <td>Other</td>\n",
       "      <td>230</td>\n",
       "      <td>840</td>\n",
       "    </tr>\n",
       "  </tbody>\n",
       "</table>\n",
       "</div>"
      ],
      "text/plain": [
       "   row_id  user_id  category_id  video_id  age  gender            profession  \\\n",
       "0   89198     7986           12        42   14    Male               Student   \n",
       "1   89199    11278           34       115   14    Male               Student   \n",
       "2   89200    17245            8       110   44  Female  Working Professional   \n",
       "3   89201     9851           16       137   18    Male               Student   \n",
       "4   89202    16008           34        96   47  Female                 Other   \n",
       "\n",
       "   followers  views  \n",
       "0        180    138  \n",
       "1        230    840  \n",
       "2        280    628  \n",
       "3        270    462  \n",
       "4        230    840  "
      ]
     },
     "execution_count": 3,
     "metadata": {},
     "output_type": "execute_result"
    }
   ],
   "source": [
    "test.head()"
   ]
  },
  {
   "cell_type": "code",
   "execution_count": 4,
   "id": "f1142879",
   "metadata": {
    "execution": {
     "iopub.execute_input": "2022-02-16T06:19:27.989209Z",
     "iopub.status.busy": "2022-02-16T06:19:27.988258Z",
     "iopub.status.idle": "2022-02-16T06:19:28.009292Z",
     "shell.execute_reply": "2022-02-16T06:19:28.009833Z",
     "shell.execute_reply.started": "2022-02-16T06:18:22.021097Z"
    },
    "papermill": {
     "duration": 0.071059,
     "end_time": "2022-02-16T06:19:28.010001",
     "exception": false,
     "start_time": "2022-02-16T06:19:27.938942",
     "status": "completed"
    },
    "tags": []
   },
   "outputs": [
    {
     "data": {
      "text/html": [
       "<div>\n",
       "<style scoped>\n",
       "    .dataframe tbody tr th:only-of-type {\n",
       "        vertical-align: middle;\n",
       "    }\n",
       "\n",
       "    .dataframe tbody tr th {\n",
       "        vertical-align: top;\n",
       "    }\n",
       "\n",
       "    .dataframe thead th {\n",
       "        text-align: right;\n",
       "    }\n",
       "</style>\n",
       "<table border=\"1\" class=\"dataframe\">\n",
       "  <thead>\n",
       "    <tr style=\"text-align: right;\">\n",
       "      <th></th>\n",
       "      <th>row_id</th>\n",
       "      <th>user_id</th>\n",
       "      <th>category_id</th>\n",
       "      <th>video_id</th>\n",
       "      <th>age</th>\n",
       "      <th>gender</th>\n",
       "      <th>profession</th>\n",
       "      <th>followers</th>\n",
       "      <th>views</th>\n",
       "      <th>engagement_score</th>\n",
       "    </tr>\n",
       "  </thead>\n",
       "  <tbody>\n",
       "    <tr>\n",
       "      <th>19431</th>\n",
       "      <td>19432</td>\n",
       "      <td>11278</td>\n",
       "      <td>34</td>\n",
       "      <td>94</td>\n",
       "      <td>14</td>\n",
       "      <td>Male</td>\n",
       "      <td>Student</td>\n",
       "      <td>230</td>\n",
       "      <td>840</td>\n",
       "      <td>4.09</td>\n",
       "    </tr>\n",
       "    <tr>\n",
       "      <th>25814</th>\n",
       "      <td>25815</td>\n",
       "      <td>11278</td>\n",
       "      <td>15</td>\n",
       "      <td>113</td>\n",
       "      <td>14</td>\n",
       "      <td>Male</td>\n",
       "      <td>Student</td>\n",
       "      <td>340</td>\n",
       "      <td>662</td>\n",
       "      <td>4.46</td>\n",
       "    </tr>\n",
       "    <tr>\n",
       "      <th>45307</th>\n",
       "      <td>45308</td>\n",
       "      <td>11278</td>\n",
       "      <td>15</td>\n",
       "      <td>32</td>\n",
       "      <td>14</td>\n",
       "      <td>Male</td>\n",
       "      <td>Student</td>\n",
       "      <td>340</td>\n",
       "      <td>662</td>\n",
       "      <td>4.41</td>\n",
       "    </tr>\n",
       "    <tr>\n",
       "      <th>52929</th>\n",
       "      <td>52930</td>\n",
       "      <td>11278</td>\n",
       "      <td>32</td>\n",
       "      <td>132</td>\n",
       "      <td>14</td>\n",
       "      <td>Male</td>\n",
       "      <td>Student</td>\n",
       "      <td>330</td>\n",
       "      <td>714</td>\n",
       "      <td>3.90</td>\n",
       "    </tr>\n",
       "    <tr>\n",
       "      <th>64710</th>\n",
       "      <td>64711</td>\n",
       "      <td>11278</td>\n",
       "      <td>34</td>\n",
       "      <td>95</td>\n",
       "      <td>14</td>\n",
       "      <td>Male</td>\n",
       "      <td>Student</td>\n",
       "      <td>230</td>\n",
       "      <td>840</td>\n",
       "      <td>3.87</td>\n",
       "    </tr>\n",
       "  </tbody>\n",
       "</table>\n",
       "</div>"
      ],
      "text/plain": [
       "       row_id  user_id  category_id  video_id  age gender profession  \\\n",
       "19431   19432    11278           34        94   14   Male    Student   \n",
       "25814   25815    11278           15       113   14   Male    Student   \n",
       "45307   45308    11278           15        32   14   Male    Student   \n",
       "52929   52930    11278           32       132   14   Male    Student   \n",
       "64710   64711    11278           34        95   14   Male    Student   \n",
       "\n",
       "       followers  views  engagement_score  \n",
       "19431        230    840              4.09  \n",
       "25814        340    662              4.46  \n",
       "45307        340    662              4.41  \n",
       "52929        330    714              3.90  \n",
       "64710        230    840              3.87  "
      ]
     },
     "execution_count": 4,
     "metadata": {},
     "output_type": "execute_result"
    }
   ],
   "source": [
    "train[train['user_id']== 11278]"
   ]
  },
  {
   "cell_type": "markdown",
   "id": "6668546e",
   "metadata": {
    "papermill": {
     "duration": 0.047825,
     "end_time": "2022-02-16T06:19:28.104836",
     "exception": false,
     "start_time": "2022-02-16T06:19:28.057011",
     "status": "completed"
    },
    "tags": []
   },
   "source": []
  },
  {
   "cell_type": "code",
   "execution_count": null,
   "id": "0dd68894",
   "metadata": {
    "papermill": {
     "duration": 0.047011,
     "end_time": "2022-02-16T06:19:28.199272",
     "exception": false,
     "start_time": "2022-02-16T06:19:28.152261",
     "status": "completed"
    },
    "tags": []
   },
   "outputs": [],
   "source": []
  },
  {
   "cell_type": "code",
   "execution_count": 5,
   "id": "08ecb4e8",
   "metadata": {
    "execution": {
     "iopub.execute_input": "2022-02-16T06:19:28.297323Z",
     "iopub.status.busy": "2022-02-16T06:19:28.296447Z",
     "iopub.status.idle": "2022-02-16T06:19:28.309515Z",
     "shell.execute_reply": "2022-02-16T06:19:28.310046Z",
     "shell.execute_reply.started": "2022-02-16T06:18:22.042036Z"
    },
    "papermill": {
     "duration": 0.063433,
     "end_time": "2022-02-16T06:19:28.310206",
     "exception": false,
     "start_time": "2022-02-16T06:19:28.246773",
     "status": "completed"
    },
    "tags": []
   },
   "outputs": [
    {
     "data": {
      "text/html": [
       "<div>\n",
       "<style scoped>\n",
       "    .dataframe tbody tr th:only-of-type {\n",
       "        vertical-align: middle;\n",
       "    }\n",
       "\n",
       "    .dataframe tbody tr th {\n",
       "        vertical-align: top;\n",
       "    }\n",
       "\n",
       "    .dataframe thead th {\n",
       "        text-align: right;\n",
       "    }\n",
       "</style>\n",
       "<table border=\"1\" class=\"dataframe\">\n",
       "  <thead>\n",
       "    <tr style=\"text-align: right;\">\n",
       "      <th></th>\n",
       "      <th>row_id</th>\n",
       "      <th>user_id</th>\n",
       "      <th>category_id</th>\n",
       "      <th>video_id</th>\n",
       "      <th>age</th>\n",
       "      <th>gender</th>\n",
       "      <th>profession</th>\n",
       "      <th>followers</th>\n",
       "      <th>views</th>\n",
       "      <th>engagement_score</th>\n",
       "    </tr>\n",
       "  </thead>\n",
       "  <tbody>\n",
       "    <tr>\n",
       "      <th>0</th>\n",
       "      <td>1</td>\n",
       "      <td>19990</td>\n",
       "      <td>37</td>\n",
       "      <td>128</td>\n",
       "      <td>24</td>\n",
       "      <td>Male</td>\n",
       "      <td>Student</td>\n",
       "      <td>180</td>\n",
       "      <td>1000</td>\n",
       "      <td>4.33</td>\n",
       "    </tr>\n",
       "    <tr>\n",
       "      <th>1</th>\n",
       "      <td>2</td>\n",
       "      <td>5304</td>\n",
       "      <td>32</td>\n",
       "      <td>132</td>\n",
       "      <td>14</td>\n",
       "      <td>Female</td>\n",
       "      <td>Student</td>\n",
       "      <td>330</td>\n",
       "      <td>714</td>\n",
       "      <td>1.79</td>\n",
       "    </tr>\n",
       "    <tr>\n",
       "      <th>2</th>\n",
       "      <td>3</td>\n",
       "      <td>1840</td>\n",
       "      <td>12</td>\n",
       "      <td>24</td>\n",
       "      <td>19</td>\n",
       "      <td>Male</td>\n",
       "      <td>Student</td>\n",
       "      <td>180</td>\n",
       "      <td>138</td>\n",
       "      <td>4.35</td>\n",
       "    </tr>\n",
       "    <tr>\n",
       "      <th>3</th>\n",
       "      <td>4</td>\n",
       "      <td>12597</td>\n",
       "      <td>23</td>\n",
       "      <td>112</td>\n",
       "      <td>19</td>\n",
       "      <td>Male</td>\n",
       "      <td>Student</td>\n",
       "      <td>220</td>\n",
       "      <td>613</td>\n",
       "      <td>3.77</td>\n",
       "    </tr>\n",
       "    <tr>\n",
       "      <th>4</th>\n",
       "      <td>5</td>\n",
       "      <td>13626</td>\n",
       "      <td>23</td>\n",
       "      <td>112</td>\n",
       "      <td>27</td>\n",
       "      <td>Male</td>\n",
       "      <td>Working Professional</td>\n",
       "      <td>220</td>\n",
       "      <td>613</td>\n",
       "      <td>3.13</td>\n",
       "    </tr>\n",
       "    <tr>\n",
       "      <th>5</th>\n",
       "      <td>6</td>\n",
       "      <td>9323</td>\n",
       "      <td>25</td>\n",
       "      <td>139</td>\n",
       "      <td>35</td>\n",
       "      <td>Male</td>\n",
       "      <td>Other</td>\n",
       "      <td>240</td>\n",
       "      <td>317</td>\n",
       "      <td>3.33</td>\n",
       "    </tr>\n",
       "    <tr>\n",
       "      <th>6</th>\n",
       "      <td>7</td>\n",
       "      <td>2071</td>\n",
       "      <td>7</td>\n",
       "      <td>14</td>\n",
       "      <td>23</td>\n",
       "      <td>Male</td>\n",
       "      <td>Student</td>\n",
       "      <td>160</td>\n",
       "      <td>467</td>\n",
       "      <td>3.80</td>\n",
       "    </tr>\n",
       "    <tr>\n",
       "      <th>7</th>\n",
       "      <td>8</td>\n",
       "      <td>21848</td>\n",
       "      <td>8</td>\n",
       "      <td>100</td>\n",
       "      <td>18</td>\n",
       "      <td>Male</td>\n",
       "      <td>Student</td>\n",
       "      <td>280</td>\n",
       "      <td>628</td>\n",
       "      <td>3.87</td>\n",
       "    </tr>\n",
       "    <tr>\n",
       "      <th>8</th>\n",
       "      <td>9</td>\n",
       "      <td>12896</td>\n",
       "      <td>3</td>\n",
       "      <td>4</td>\n",
       "      <td>15</td>\n",
       "      <td>Male</td>\n",
       "      <td>Student</td>\n",
       "      <td>270</td>\n",
       "      <td>621</td>\n",
       "      <td>2.88</td>\n",
       "    </tr>\n",
       "    <tr>\n",
       "      <th>9</th>\n",
       "      <td>10</td>\n",
       "      <td>16058</td>\n",
       "      <td>5</td>\n",
       "      <td>161</td>\n",
       "      <td>19</td>\n",
       "      <td>Male</td>\n",
       "      <td>Student</td>\n",
       "      <td>240</td>\n",
       "      <td>229</td>\n",
       "      <td>3.80</td>\n",
       "    </tr>\n",
       "  </tbody>\n",
       "</table>\n",
       "</div>"
      ],
      "text/plain": [
       "   row_id  user_id  category_id  video_id  age  gender            profession  \\\n",
       "0       1    19990           37       128   24    Male               Student   \n",
       "1       2     5304           32       132   14  Female               Student   \n",
       "2       3     1840           12        24   19    Male               Student   \n",
       "3       4    12597           23       112   19    Male               Student   \n",
       "4       5    13626           23       112   27    Male  Working Professional   \n",
       "5       6     9323           25       139   35    Male                 Other   \n",
       "6       7     2071            7        14   23    Male               Student   \n",
       "7       8    21848            8       100   18    Male               Student   \n",
       "8       9    12896            3         4   15    Male               Student   \n",
       "9      10    16058            5       161   19    Male               Student   \n",
       "\n",
       "   followers  views  engagement_score  \n",
       "0        180   1000              4.33  \n",
       "1        330    714              1.79  \n",
       "2        180    138              4.35  \n",
       "3        220    613              3.77  \n",
       "4        220    613              3.13  \n",
       "5        240    317              3.33  \n",
       "6        160    467              3.80  \n",
       "7        280    628              3.87  \n",
       "8        270    621              2.88  \n",
       "9        240    229              3.80  "
      ]
     },
     "execution_count": 5,
     "metadata": {},
     "output_type": "execute_result"
    }
   ],
   "source": [
    "train.head(10)"
   ]
  },
  {
   "cell_type": "code",
   "execution_count": 6,
   "id": "d6cbfcb8",
   "metadata": {
    "execution": {
     "iopub.execute_input": "2022-02-16T06:19:28.409668Z",
     "iopub.status.busy": "2022-02-16T06:19:28.408738Z",
     "iopub.status.idle": "2022-02-16T06:19:28.420728Z",
     "shell.execute_reply": "2022-02-16T06:19:28.421218Z",
     "shell.execute_reply.started": "2022-02-16T06:18:22.057216Z"
    },
    "papermill": {
     "duration": 0.063021,
     "end_time": "2022-02-16T06:19:28.421393",
     "exception": false,
     "start_time": "2022-02-16T06:19:28.358372",
     "status": "completed"
    },
    "tags": []
   },
   "outputs": [
    {
     "data": {
      "text/html": [
       "<div>\n",
       "<style scoped>\n",
       "    .dataframe tbody tr th:only-of-type {\n",
       "        vertical-align: middle;\n",
       "    }\n",
       "\n",
       "    .dataframe tbody tr th {\n",
       "        vertical-align: top;\n",
       "    }\n",
       "\n",
       "    .dataframe thead th {\n",
       "        text-align: right;\n",
       "    }\n",
       "</style>\n",
       "<table border=\"1\" class=\"dataframe\">\n",
       "  <thead>\n",
       "    <tr style=\"text-align: right;\">\n",
       "      <th></th>\n",
       "      <th>row_id</th>\n",
       "      <th>user_id</th>\n",
       "      <th>category_id</th>\n",
       "      <th>video_id</th>\n",
       "      <th>age</th>\n",
       "      <th>gender</th>\n",
       "      <th>profession</th>\n",
       "      <th>followers</th>\n",
       "      <th>views</th>\n",
       "      <th>engagement_score</th>\n",
       "    </tr>\n",
       "  </thead>\n",
       "  <tbody>\n",
       "    <tr>\n",
       "      <th>20045</th>\n",
       "      <td>20046</td>\n",
       "      <td>9851</td>\n",
       "      <td>16</td>\n",
       "      <td>34</td>\n",
       "      <td>18</td>\n",
       "      <td>Male</td>\n",
       "      <td>Student</td>\n",
       "      <td>270</td>\n",
       "      <td>462</td>\n",
       "      <td>3.11</td>\n",
       "    </tr>\n",
       "    <tr>\n",
       "      <th>21298</th>\n",
       "      <td>21299</td>\n",
       "      <td>9851</td>\n",
       "      <td>16</td>\n",
       "      <td>98</td>\n",
       "      <td>18</td>\n",
       "      <td>Male</td>\n",
       "      <td>Student</td>\n",
       "      <td>270</td>\n",
       "      <td>462</td>\n",
       "      <td>2.60</td>\n",
       "    </tr>\n",
       "    <tr>\n",
       "      <th>25476</th>\n",
       "      <td>25477</td>\n",
       "      <td>9851</td>\n",
       "      <td>39</td>\n",
       "      <td>116</td>\n",
       "      <td>18</td>\n",
       "      <td>Male</td>\n",
       "      <td>Student</td>\n",
       "      <td>270</td>\n",
       "      <td>89</td>\n",
       "      <td>2.80</td>\n",
       "    </tr>\n",
       "  </tbody>\n",
       "</table>\n",
       "</div>"
      ],
      "text/plain": [
       "       row_id  user_id  category_id  video_id  age gender profession  \\\n",
       "20045   20046     9851           16        34   18   Male    Student   \n",
       "21298   21299     9851           16        98   18   Male    Student   \n",
       "25476   25477     9851           39       116   18   Male    Student   \n",
       "\n",
       "       followers  views  engagement_score  \n",
       "20045        270    462              3.11  \n",
       "21298        270    462              2.60  \n",
       "25476        270     89              2.80  "
      ]
     },
     "execution_count": 6,
     "metadata": {},
     "output_type": "execute_result"
    }
   ],
   "source": [
    "train[train['user_id']== 9851]"
   ]
  },
  {
   "cell_type": "code",
   "execution_count": 7,
   "id": "3f81c6a8",
   "metadata": {
    "execution": {
     "iopub.execute_input": "2022-02-16T06:19:28.521559Z",
     "iopub.status.busy": "2022-02-16T06:19:28.520679Z",
     "iopub.status.idle": "2022-02-16T06:19:28.531416Z",
     "shell.execute_reply": "2022-02-16T06:19:28.531932Z",
     "shell.execute_reply.started": "2022-02-16T06:18:22.073973Z"
    },
    "papermill": {
     "duration": 0.062488,
     "end_time": "2022-02-16T06:19:28.532087",
     "exception": false,
     "start_time": "2022-02-16T06:19:28.469599",
     "status": "completed"
    },
    "tags": []
   },
   "outputs": [
    {
     "data": {
      "text/html": [
       "<div>\n",
       "<style scoped>\n",
       "    .dataframe tbody tr th:only-of-type {\n",
       "        vertical-align: middle;\n",
       "    }\n",
       "\n",
       "    .dataframe tbody tr th {\n",
       "        vertical-align: top;\n",
       "    }\n",
       "\n",
       "    .dataframe thead th {\n",
       "        text-align: right;\n",
       "    }\n",
       "</style>\n",
       "<table border=\"1\" class=\"dataframe\">\n",
       "  <thead>\n",
       "    <tr style=\"text-align: right;\">\n",
       "      <th></th>\n",
       "      <th>row_id</th>\n",
       "      <th>user_id</th>\n",
       "      <th>category_id</th>\n",
       "      <th>video_id</th>\n",
       "      <th>age</th>\n",
       "      <th>gender</th>\n",
       "      <th>profession</th>\n",
       "      <th>followers</th>\n",
       "      <th>views</th>\n",
       "    </tr>\n",
       "  </thead>\n",
       "  <tbody>\n",
       "    <tr>\n",
       "      <th>0</th>\n",
       "      <td>89198</td>\n",
       "      <td>7986</td>\n",
       "      <td>12</td>\n",
       "      <td>42</td>\n",
       "      <td>14</td>\n",
       "      <td>Male</td>\n",
       "      <td>Student</td>\n",
       "      <td>180</td>\n",
       "      <td>138</td>\n",
       "    </tr>\n",
       "    <tr>\n",
       "      <th>1</th>\n",
       "      <td>89199</td>\n",
       "      <td>11278</td>\n",
       "      <td>34</td>\n",
       "      <td>115</td>\n",
       "      <td>14</td>\n",
       "      <td>Male</td>\n",
       "      <td>Student</td>\n",
       "      <td>230</td>\n",
       "      <td>840</td>\n",
       "    </tr>\n",
       "    <tr>\n",
       "      <th>2</th>\n",
       "      <td>89200</td>\n",
       "      <td>17245</td>\n",
       "      <td>8</td>\n",
       "      <td>110</td>\n",
       "      <td>44</td>\n",
       "      <td>Female</td>\n",
       "      <td>Working Professional</td>\n",
       "      <td>280</td>\n",
       "      <td>628</td>\n",
       "    </tr>\n",
       "    <tr>\n",
       "      <th>3</th>\n",
       "      <td>89201</td>\n",
       "      <td>9851</td>\n",
       "      <td>16</td>\n",
       "      <td>137</td>\n",
       "      <td>18</td>\n",
       "      <td>Male</td>\n",
       "      <td>Student</td>\n",
       "      <td>270</td>\n",
       "      <td>462</td>\n",
       "    </tr>\n",
       "    <tr>\n",
       "      <th>4</th>\n",
       "      <td>89202</td>\n",
       "      <td>16008</td>\n",
       "      <td>34</td>\n",
       "      <td>96</td>\n",
       "      <td>47</td>\n",
       "      <td>Female</td>\n",
       "      <td>Other</td>\n",
       "      <td>230</td>\n",
       "      <td>840</td>\n",
       "    </tr>\n",
       "  </tbody>\n",
       "</table>\n",
       "</div>"
      ],
      "text/plain": [
       "   row_id  user_id  category_id  video_id  age  gender            profession  \\\n",
       "0   89198     7986           12        42   14    Male               Student   \n",
       "1   89199    11278           34       115   14    Male               Student   \n",
       "2   89200    17245            8       110   44  Female  Working Professional   \n",
       "3   89201     9851           16       137   18    Male               Student   \n",
       "4   89202    16008           34        96   47  Female                 Other   \n",
       "\n",
       "   followers  views  \n",
       "0        180    138  \n",
       "1        230    840  \n",
       "2        280    628  \n",
       "3        270    462  \n",
       "4        230    840  "
      ]
     },
     "execution_count": 7,
     "metadata": {},
     "output_type": "execute_result"
    }
   ],
   "source": [
    "test.head()"
   ]
  },
  {
   "cell_type": "code",
   "execution_count": 8,
   "id": "371f9bca",
   "metadata": {
    "execution": {
     "iopub.execute_input": "2022-02-16T06:19:28.636064Z",
     "iopub.status.busy": "2022-02-16T06:19:28.635430Z",
     "iopub.status.idle": "2022-02-16T06:19:28.640362Z",
     "shell.execute_reply": "2022-02-16T06:19:28.640813Z",
     "shell.execute_reply.started": "2022-02-16T06:18:22.087474Z"
    },
    "papermill": {
     "duration": 0.059408,
     "end_time": "2022-02-16T06:19:28.640977",
     "exception": false,
     "start_time": "2022-02-16T06:19:28.581569",
     "status": "completed"
    },
    "tags": []
   },
   "outputs": [
    {
     "data": {
      "text/plain": [
       "47"
      ]
     },
     "execution_count": 8,
     "metadata": {},
     "output_type": "execute_result"
    }
   ],
   "source": [
    "len(train['category_id'].unique())"
   ]
  },
  {
   "cell_type": "code",
   "execution_count": 9,
   "id": "907430de",
   "metadata": {
    "execution": {
     "iopub.execute_input": "2022-02-16T06:19:28.742858Z",
     "iopub.status.busy": "2022-02-16T06:19:28.742267Z",
     "iopub.status.idle": "2022-02-16T06:19:28.748753Z",
     "shell.execute_reply": "2022-02-16T06:19:28.749196Z",
     "shell.execute_reply.started": "2022-02-16T06:18:22.096747Z"
    },
    "papermill": {
     "duration": 0.059245,
     "end_time": "2022-02-16T06:19:28.749358",
     "exception": false,
     "start_time": "2022-02-16T06:19:28.690113",
     "status": "completed"
    },
    "tags": []
   },
   "outputs": [
    {
     "data": {
      "text/plain": [
       "27734"
      ]
     },
     "execution_count": 9,
     "metadata": {},
     "output_type": "execute_result"
    }
   ],
   "source": [
    "len(train['user_id'].unique())"
   ]
  },
  {
   "cell_type": "code",
   "execution_count": 10,
   "id": "c9ed38b6",
   "metadata": {
    "execution": {
     "iopub.execute_input": "2022-02-16T06:19:28.850611Z",
     "iopub.status.busy": "2022-02-16T06:19:28.850053Z",
     "iopub.status.idle": "2022-02-16T06:19:28.862748Z",
     "shell.execute_reply": "2022-02-16T06:19:28.863282Z",
     "shell.execute_reply.started": "2022-02-16T06:18:22.111149Z"
    },
    "papermill": {
     "duration": 0.064883,
     "end_time": "2022-02-16T06:19:28.863458",
     "exception": false,
     "start_time": "2022-02-16T06:19:28.798575",
     "status": "completed"
    },
    "tags": []
   },
   "outputs": [
    {
     "data": {
      "text/plain": [
       "count    89197.000000\n",
       "mean         3.487797\n",
       "std          0.863498\n",
       "min          0.000000\n",
       "25%          2.900000\n",
       "50%          3.710000\n",
       "75%          4.150000\n",
       "max          5.000000\n",
       "Name: engagement_score, dtype: float64"
      ]
     },
     "execution_count": 10,
     "metadata": {},
     "output_type": "execute_result"
    }
   ],
   "source": [
    "train['engagement_score'].describe()"
   ]
  },
  {
   "cell_type": "code",
   "execution_count": 11,
   "id": "64a781d0",
   "metadata": {
    "execution": {
     "iopub.execute_input": "2022-02-16T06:19:28.968765Z",
     "iopub.status.busy": "2022-02-16T06:19:28.967182Z",
     "iopub.status.idle": "2022-02-16T06:19:29.671136Z",
     "shell.execute_reply": "2022-02-16T06:19:29.671615Z",
     "shell.execute_reply.started": "2022-02-16T06:18:22.125779Z"
    },
    "papermill": {
     "duration": 0.758913,
     "end_time": "2022-02-16T06:19:29.671795",
     "exception": false,
     "start_time": "2022-02-16T06:19:28.912882",
     "status": "completed"
    },
    "tags": []
   },
   "outputs": [
    {
     "data": {
      "image/png": "[encoded data removed]",
      "text/plain": [
       "<Figure size 432x288 with 1 Axes>"
      ]
     },
     "metadata": {},
     "output_type": "display_data"
    }
   ],
   "source": [
    "sns.distplot(train['engagement_score']);"
   ]
  },
  {
   "cell_type": "code",
   "execution_count": 12,
   "id": "eee97320",
   "metadata": {
    "execution": {
     "iopub.execute_input": "2022-02-16T06:19:29.780719Z",
     "iopub.status.busy": "2022-02-16T06:19:29.779761Z",
     "iopub.status.idle": "2022-02-16T06:19:29.781931Z",
     "shell.execute_reply": "2022-02-16T06:19:29.782322Z",
     "shell.execute_reply.started": "2022-02-16T06:18:22.826174Z"
    },
    "papermill": {
     "duration": 0.058913,
     "end_time": "2022-02-16T06:19:29.782504",
     "exception": false,
     "start_time": "2022-02-16T06:19:29.723591",
     "status": "completed"
    },
    "tags": []
   },
   "outputs": [],
   "source": [
    "#y_train_transf=np.log1p(train['engagement_score'])\n",
    "#sns.distplot(y_train_transf, fit= norm)"
   ]
  },
  {
   "cell_type": "code",
   "execution_count": 13,
   "id": "77ff62d2",
   "metadata": {
    "execution": {
     "iopub.execute_input": "2022-02-16T06:19:29.891676Z",
     "iopub.status.busy": "2022-02-16T06:19:29.890692Z",
     "iopub.status.idle": "2022-02-16T06:19:30.422415Z",
     "shell.execute_reply": "2022-02-16T06:19:30.421272Z",
     "shell.execute_reply.started": "2022-02-16T06:18:22.830972Z"
    },
    "papermill": {
     "duration": 0.588508,
     "end_time": "2022-02-16T06:19:30.422572",
     "exception": false,
     "start_time": "2022-02-16T06:19:29.834064",
     "status": "completed"
    },
    "tags": []
   },
   "outputs": [
    {
     "data": {
      "image/png": "[encoded data removed]",
      "text/plain": [
       "<Figure size 432x288 with 1 Axes>"
      ]
     },
     "metadata": {},
     "output_type": "display_data"
    }
   ],
   "source": [
    "fig=sm.qqplot(train['engagement_score'],line='45',fit=True,dist=stats.norm)"
   ]
  },
  {
   "cell_type": "code",
   "execution_count": 14,
   "id": "ff593a7a",
   "metadata": {
    "execution": {
     "iopub.execute_input": "2022-02-16T06:19:30.534844Z",
     "iopub.status.busy": "2022-02-16T06:19:30.533874Z",
     "iopub.status.idle": "2022-02-16T06:19:31.336698Z",
     "shell.execute_reply": "2022-02-16T06:19:31.336187Z",
     "shell.execute_reply.started": "2022-02-16T06:18:23.361974Z"
    },
    "papermill": {
     "duration": 0.861195,
     "end_time": "2022-02-16T06:19:31.336848",
     "exception": false,
     "start_time": "2022-02-16T06:19:30.475653",
     "status": "completed"
    },
    "tags": []
   },
   "outputs": [
    {
     "data": {
      "text/plain": [
       "<AxesSubplot:xlabel='engagement_score', ylabel='Density'>"
      ]
     },
     "execution_count": 14,
     "metadata": {},
     "output_type": "execute_result"
    },
    {
     "data": {
      "image/png": "[encoded data removed]",
      "text/plain": [
       "<Figure size 432x288 with 1 Axes>"
      ]
     },
     "metadata": {},
     "output_type": "display_data"
    }
   ],
   "source": [
    "y_train_transf=np.sqrt(train['engagement_score'])\n",
    "sns.distplot(y_train_transf, fit= norm)"
   ]
  },
  {
   "cell_type": "code",
   "execution_count": 15,
   "id": "b133f137",
   "metadata": {
    "execution": {
     "iopub.execute_input": "2022-02-16T06:19:31.449307Z",
     "iopub.status.busy": "2022-02-16T06:19:31.448638Z",
     "iopub.status.idle": "2022-02-16T06:19:31.489183Z",
     "shell.execute_reply": "2022-02-16T06:19:31.489659Z",
     "shell.execute_reply.started": "2022-02-16T06:18:24.175364Z"
    },
    "papermill": {
     "duration": 0.099576,
     "end_time": "2022-02-16T06:19:31.489823",
     "exception": false,
     "start_time": "2022-02-16T06:19:31.390247",
     "status": "completed"
    },
    "tags": []
   },
   "outputs": [
    {
     "data": {
      "text/html": [
       "<div>\n",
       "<style scoped>\n",
       "    .dataframe tbody tr th:only-of-type {\n",
       "        vertical-align: middle;\n",
       "    }\n",
       "\n",
       "    .dataframe tbody tr th {\n",
       "        vertical-align: top;\n",
       "    }\n",
       "\n",
       "    .dataframe thead th {\n",
       "        text-align: right;\n",
       "    }\n",
       "</style>\n",
       "<table border=\"1\" class=\"dataframe\">\n",
       "  <thead>\n",
       "    <tr style=\"text-align: right;\">\n",
       "      <th></th>\n",
       "      <th>Total</th>\n",
       "      <th>Percent</th>\n",
       "    </tr>\n",
       "  </thead>\n",
       "  <tbody>\n",
       "    <tr>\n",
       "      <th>row_id</th>\n",
       "      <td>0</td>\n",
       "      <td>0.0</td>\n",
       "    </tr>\n",
       "    <tr>\n",
       "      <th>user_id</th>\n",
       "      <td>0</td>\n",
       "      <td>0.0</td>\n",
       "    </tr>\n",
       "    <tr>\n",
       "      <th>category_id</th>\n",
       "      <td>0</td>\n",
       "      <td>0.0</td>\n",
       "    </tr>\n",
       "    <tr>\n",
       "      <th>video_id</th>\n",
       "      <td>0</td>\n",
       "      <td>0.0</td>\n",
       "    </tr>\n",
       "    <tr>\n",
       "      <th>age</th>\n",
       "      <td>0</td>\n",
       "      <td>0.0</td>\n",
       "    </tr>\n",
       "    <tr>\n",
       "      <th>gender</th>\n",
       "      <td>0</td>\n",
       "      <td>0.0</td>\n",
       "    </tr>\n",
       "    <tr>\n",
       "      <th>profession</th>\n",
       "      <td>0</td>\n",
       "      <td>0.0</td>\n",
       "    </tr>\n",
       "    <tr>\n",
       "      <th>followers</th>\n",
       "      <td>0</td>\n",
       "      <td>0.0</td>\n",
       "    </tr>\n",
       "    <tr>\n",
       "      <th>views</th>\n",
       "      <td>0</td>\n",
       "      <td>0.0</td>\n",
       "    </tr>\n",
       "    <tr>\n",
       "      <th>engagement_score</th>\n",
       "      <td>0</td>\n",
       "      <td>0.0</td>\n",
       "    </tr>\n",
       "  </tbody>\n",
       "</table>\n",
       "</div>"
      ],
      "text/plain": [
       "                  Total  Percent\n",
       "row_id                0      0.0\n",
       "user_id               0      0.0\n",
       "category_id           0      0.0\n",
       "video_id              0      0.0\n",
       "age                   0      0.0\n",
       "gender                0      0.0\n",
       "profession            0      0.0\n",
       "followers             0      0.0\n",
       "views                 0      0.0\n",
       "engagement_score      0      0.0"
      ]
     },
     "execution_count": 15,
     "metadata": {},
     "output_type": "execute_result"
    }
   ],
   "source": [
    "total = train.isnull().sum().sort_values(ascending=False)\n",
    "percent = (train.isnull().sum()/train.isnull().count()).sort_values(ascending=False)\n",
    "missing_data = pd.concat([total, percent], axis=1, keys=['Total', 'Percent'])\n",
    "missing_data.head(20)"
   ]
  },
  {
   "cell_type": "code",
   "execution_count": 16,
   "id": "32256503",
   "metadata": {
    "execution": {
     "iopub.execute_input": "2022-02-16T06:19:31.606782Z",
     "iopub.status.busy": "2022-02-16T06:19:31.606107Z",
     "iopub.status.idle": "2022-02-16T06:19:31.906014Z",
     "shell.execute_reply": "2022-02-16T06:19:31.905523Z",
     "shell.execute_reply.started": "2022-02-16T06:18:24.253187Z"
    },
    "papermill": {
     "duration": 0.362188,
     "end_time": "2022-02-16T06:19:31.906152",
     "exception": false,
     "start_time": "2022-02-16T06:19:31.543964",
     "status": "completed"
    },
    "tags": []
   },
   "outputs": [
    {
     "data": {
      "image/png": "[encoded data removed]",
      "text/plain": [
       "<Figure size 720x432 with 1 Axes>"
      ]
     },
     "metadata": {},
     "output_type": "display_data"
    }
   ],
   "source": [
    "scatter_data=pd.concat([train['engagement_score'], train['followers']], axis=1)\n",
    "scatter_data.head()\n",
    "scatter_data.plot(kind='scatter', x='followers', y='engagement_score', figsize=(10, 6), color='darkblue')\n",
    "plt.title('engagement_score vs followers')\n",
    "plt.xlabel('followers')\n",
    "plt.ylabel('engagement_score ')\n",
    "\n",
    "plt.show()"
   ]
  },
  {
   "cell_type": "code",
   "execution_count": 17,
   "id": "6bc52780",
   "metadata": {
    "execution": {
     "iopub.execute_input": "2022-02-16T06:19:32.019211Z",
     "iopub.status.busy": "2022-02-16T06:19:32.018575Z",
     "iopub.status.idle": "2022-02-16T06:19:32.329059Z",
     "shell.execute_reply": "2022-02-16T06:19:32.329637Z",
     "shell.execute_reply.started": "2022-02-16T06:18:24.590493Z"
    },
    "papermill": {
     "duration": 0.368728,
     "end_time": "2022-02-16T06:19:32.329808",
     "exception": false,
     "start_time": "2022-02-16T06:19:31.961080",
     "status": "completed"
    },
    "tags": []
   },
   "outputs": [
    {
     "data": {
      "image/png": "[encoded data removed]",
      "text/plain": [
       "<Figure size 720x432 with 1 Axes>"
      ]
     },
     "metadata": {},
     "output_type": "display_data"
    }
   ],
   "source": [
    "scatter_data=pd.concat([train['engagement_score'], train['views']], axis=1)\n",
    "scatter_data.head()\n",
    "scatter_data.plot(kind='scatter', x='views', y='engagement_score', figsize=(10, 6), color='darkblue')\n",
    "plt.title('engagement_score vs followers')\n",
    "plt.xlabel('views')\n",
    "plt.ylabel('engagement_score ')\n",
    "\n",
    "plt.show()"
   ]
  },
  {
   "cell_type": "code",
   "execution_count": 18,
   "id": "d0db7231",
   "metadata": {
    "execution": {
     "iopub.execute_input": "2022-02-16T06:19:32.443778Z",
     "iopub.status.busy": "2022-02-16T06:19:32.443189Z",
     "iopub.status.idle": "2022-02-16T06:19:32.755560Z",
     "shell.execute_reply": "2022-02-16T06:19:32.756047Z",
     "shell.execute_reply.started": "2022-02-16T06:18:24.899491Z"
    },
    "papermill": {
     "duration": 0.371166,
     "end_time": "2022-02-16T06:19:32.756231",
     "exception": false,
     "start_time": "2022-02-16T06:19:32.385065",
     "status": "completed"
    },
    "tags": []
   },
   "outputs": [
    {
     "data": {
      "image/png": "[encoded data removed]",
      "text/plain": [
       "<Figure size 720x432 with 1 Axes>"
      ]
     },
     "metadata": {},
     "output_type": "display_data"
    }
   ],
   "source": [
    "scatter_data=pd.concat([train['engagement_score'], train['user_id']], axis=1)\n",
    "scatter_data.head()\n",
    "scatter_data.plot(kind='scatter', x='user_id', y='engagement_score', figsize=(10, 6), color='darkblue')\n",
    "plt.title('engagement_score vs followers')\n",
    "plt.xlabel('user_id')\n",
    "plt.ylabel('engagement_score ')\n",
    "\n",
    "plt.show()"
   ]
  },
  {
   "cell_type": "code",
   "execution_count": 19,
   "id": "8aaca936",
   "metadata": {
    "execution": {
     "iopub.execute_input": "2022-02-16T06:19:32.875054Z",
     "iopub.status.busy": "2022-02-16T06:19:32.874497Z",
     "iopub.status.idle": "2022-02-16T06:19:38.172293Z",
     "shell.execute_reply": "2022-02-16T06:19:38.172788Z",
     "shell.execute_reply.started": "2022-02-16T06:18:25.186785Z"
    },
    "papermill": {
     "duration": 5.358641,
     "end_time": "2022-02-16T06:19:38.172955",
     "exception": false,
     "start_time": "2022-02-16T06:19:32.814314",
     "status": "completed"
    },
    "tags": []
   },
   "outputs": [
    {
     "data": {
      "image/png": "[encoded data removed]",
      "text/plain": [
       "<Figure size 720x720 with 20 Axes>"
      ]
     },
     "metadata": {},
     "output_type": "display_data"
    }
   ],
   "source": [
    "sns.set()\n",
    "cols = ['engagement_score', 'age', 'followers', 'views']\n",
    "sns.pairplot(train[cols], size = 2.5)\n",
    "plt.show();"
   ]
  },
  {
   "cell_type": "code",
   "execution_count": 20,
   "id": "5ba4ce6d",
   "metadata": {
    "execution": {
     "iopub.execute_input": "2022-02-16T06:19:38.310051Z",
     "iopub.status.busy": "2022-02-16T06:19:38.309435Z",
     "iopub.status.idle": "2022-02-16T06:19:38.324132Z",
     "shell.execute_reply": "2022-02-16T06:19:38.324909Z",
     "shell.execute_reply.started": "2022-02-16T06:18:30.436285Z"
    },
    "papermill": {
     "duration": 0.085406,
     "end_time": "2022-02-16T06:19:38.325140",
     "exception": false,
     "start_time": "2022-02-16T06:19:38.239734",
     "status": "completed"
    },
    "tags": []
   },
   "outputs": [
    {
     "data": {
      "text/plain": [
       "array(['Student', 'Working Professional', 'Other'], dtype=object)"
      ]
     },
     "execution_count": 20,
     "metadata": {},
     "output_type": "execute_result"
    }
   ],
   "source": [
    "train['profession'].unique()"
   ]
  },
  {
   "cell_type": "code",
   "execution_count": 21,
   "id": "394d89d8",
   "metadata": {
    "execution": {
     "iopub.execute_input": "2022-02-16T06:19:38.484435Z",
     "iopub.status.busy": "2022-02-16T06:19:38.483807Z",
     "iopub.status.idle": "2022-02-16T06:19:38.515324Z",
     "shell.execute_reply": "2022-02-16T06:19:38.515834Z",
     "shell.execute_reply.started": "2022-02-16T06:18:30.454340Z"
    },
    "papermill": {
     "duration": 0.108977,
     "end_time": "2022-02-16T06:19:38.516003",
     "exception": false,
     "start_time": "2022-02-16T06:19:38.407026",
     "status": "completed"
    },
    "tags": []
   },
   "outputs": [],
   "source": [
    "y= train['engagement_score']\n",
    "#train['category_id']=train['category_id'].astype(str)\n",
    "data=train.drop(columns=['user_id','row_id','video_id','engagement_score'])\n",
    "data=pd.get_dummies(data)"
   ]
  },
  {
   "cell_type": "code",
   "execution_count": 22,
   "id": "562c6aee",
   "metadata": {
    "execution": {
     "iopub.execute_input": "2022-02-16T06:19:38.653325Z",
     "iopub.status.busy": "2022-02-16T06:19:38.652722Z",
     "iopub.status.idle": "2022-02-16T06:19:38.669420Z",
     "shell.execute_reply": "2022-02-16T06:19:38.669883Z",
     "shell.execute_reply.started": "2022-02-16T06:18:30.494692Z"
    },
    "papermill": {
     "duration": 0.086461,
     "end_time": "2022-02-16T06:19:38.670048",
     "exception": false,
     "start_time": "2022-02-16T06:19:38.583587",
     "status": "completed"
    },
    "tags": []
   },
   "outputs": [],
   "source": [
    "X_train,X_test,Y_train,Y_test=train_test_split(data,y,test_size=0.33)"
   ]
  },
  {
   "cell_type": "code",
   "execution_count": 23,
   "id": "55ebdafd",
   "metadata": {
    "execution": {
     "iopub.execute_input": "2022-02-16T06:19:38.809710Z",
     "iopub.status.busy": "2022-02-16T06:19:38.809061Z",
     "iopub.status.idle": "2022-02-16T06:19:38.811504Z",
     "shell.execute_reply": "2022-02-16T06:19:38.811944Z",
     "shell.execute_reply.started": "2022-02-16T06:18:30.512620Z"
    },
    "papermill": {
     "duration": 0.07514,
     "end_time": "2022-02-16T06:19:38.812107",
     "exception": false,
     "start_time": "2022-02-16T06:19:38.736967",
     "status": "completed"
    },
    "tags": []
   },
   "outputs": [
    {
     "data": {
      "text/plain": [
       "580      3.91\n",
       "85897    4.85\n",
       "68489    1.96\n",
       "58052    4.02\n",
       "32126    3.63\n",
       "Name: engagement_score, dtype: float64"
      ]
     },
     "execution_count": 23,
     "metadata": {},
     "output_type": "execute_result"
    }
   ],
   "source": [
    "Y_train.head()"
   ]
  },
  {
   "cell_type": "code",
   "execution_count": 24,
   "id": "33372531",
   "metadata": {
    "execution": {
     "iopub.execute_input": "2022-02-16T06:19:38.950219Z",
     "iopub.status.busy": "2022-02-16T06:19:38.949630Z",
     "iopub.status.idle": "2022-02-16T06:19:38.959719Z",
     "shell.execute_reply": "2022-02-16T06:19:38.960194Z",
     "shell.execute_reply.started": "2022-02-16T06:18:30.520486Z"
    },
    "papermill": {
     "duration": 0.081431,
     "end_time": "2022-02-16T06:19:38.960518",
     "exception": false,
     "start_time": "2022-02-16T06:19:38.879087",
     "status": "completed"
    },
    "tags": []
   },
   "outputs": [
    {
     "data": {
      "text/html": [
       "<div>\n",
       "<style scoped>\n",
       "    .dataframe tbody tr th:only-of-type {\n",
       "        vertical-align: middle;\n",
       "    }\n",
       "\n",
       "    .dataframe tbody tr th {\n",
       "        vertical-align: top;\n",
       "    }\n",
       "\n",
       "    .dataframe thead th {\n",
       "        text-align: right;\n",
       "    }\n",
       "</style>\n",
       "<table border=\"1\" class=\"dataframe\">\n",
       "  <thead>\n",
       "    <tr style=\"text-align: right;\">\n",
       "      <th></th>\n",
       "      <th>category_id</th>\n",
       "      <th>age</th>\n",
       "      <th>followers</th>\n",
       "      <th>views</th>\n",
       "      <th>gender_Female</th>\n",
       "      <th>gender_Male</th>\n",
       "      <th>profession_Other</th>\n",
       "      <th>profession_Student</th>\n",
       "      <th>profession_Working Professional</th>\n",
       "    </tr>\n",
       "  </thead>\n",
       "  <tbody>\n",
       "    <tr>\n",
       "      <th>580</th>\n",
       "      <td>19</td>\n",
       "      <td>40</td>\n",
       "      <td>230</td>\n",
       "      <td>369</td>\n",
       "      <td>0</td>\n",
       "      <td>1</td>\n",
       "      <td>1</td>\n",
       "      <td>0</td>\n",
       "      <td>0</td>\n",
       "    </tr>\n",
       "    <tr>\n",
       "      <th>85897</th>\n",
       "      <td>3</td>\n",
       "      <td>15</td>\n",
       "      <td>270</td>\n",
       "      <td>621</td>\n",
       "      <td>1</td>\n",
       "      <td>0</td>\n",
       "      <td>0</td>\n",
       "      <td>1</td>\n",
       "      <td>0</td>\n",
       "    </tr>\n",
       "    <tr>\n",
       "      <th>68489</th>\n",
       "      <td>37</td>\n",
       "      <td>26</td>\n",
       "      <td>180</td>\n",
       "      <td>1000</td>\n",
       "      <td>1</td>\n",
       "      <td>0</td>\n",
       "      <td>0</td>\n",
       "      <td>0</td>\n",
       "      <td>1</td>\n",
       "    </tr>\n",
       "    <tr>\n",
       "      <th>58052</th>\n",
       "      <td>36</td>\n",
       "      <td>46</td>\n",
       "      <td>260</td>\n",
       "      <td>178</td>\n",
       "      <td>1</td>\n",
       "      <td>0</td>\n",
       "      <td>0</td>\n",
       "      <td>0</td>\n",
       "      <td>1</td>\n",
       "    </tr>\n",
       "    <tr>\n",
       "      <th>32126</th>\n",
       "      <td>19</td>\n",
       "      <td>28</td>\n",
       "      <td>230</td>\n",
       "      <td>369</td>\n",
       "      <td>0</td>\n",
       "      <td>1</td>\n",
       "      <td>0</td>\n",
       "      <td>0</td>\n",
       "      <td>1</td>\n",
       "    </tr>\n",
       "  </tbody>\n",
       "</table>\n",
       "</div>"
      ],
      "text/plain": [
       "       category_id  age  followers  views  gender_Female  gender_Male  \\\n",
       "580             19   40        230    369              0            1   \n",
       "85897            3   15        270    621              1            0   \n",
       "68489           37   26        180   1000              1            0   \n",
       "58052           36   46        260    178              1            0   \n",
       "32126           19   28        230    369              0            1   \n",
       "\n",
       "       profession_Other  profession_Student  profession_Working Professional  \n",
       "580                   1                   0                                0  \n",
       "85897                 0                   1                                0  \n",
       "68489                 0                   0                                1  \n",
       "58052                 0                   0                                1  \n",
       "32126                 0                   0                                1  "
      ]
     },
     "execution_count": 24,
     "metadata": {},
     "output_type": "execute_result"
    }
   ],
   "source": [
    "X_train.head()"
   ]
  },
  {
   "cell_type": "code",
   "execution_count": 25,
   "id": "a33660a4",
   "metadata": {
    "execution": {
     "iopub.execute_input": "2022-02-16T06:19:39.102512Z",
     "iopub.status.busy": "2022-02-16T06:19:39.101854Z",
     "iopub.status.idle": "2022-02-16T06:19:39.217198Z",
     "shell.execute_reply": "2022-02-16T06:19:39.218461Z",
     "shell.execute_reply.started": "2022-02-16T06:18:30.536057Z"
    },
    "papermill": {
     "duration": 0.189592,
     "end_time": "2022-02-16T06:19:39.218732",
     "exception": false,
     "start_time": "2022-02-16T06:19:39.029140",
     "status": "completed"
    },
    "tags": []
   },
   "outputs": [
    {
     "data": {
      "text/plain": [
       "0.2730965815128711"
      ]
     },
     "execution_count": 25,
     "metadata": {},
     "output_type": "execute_result"
    }
   ],
   "source": [
    "from sklearn.linear_model import LinearRegression\n",
    "reg = LinearRegression().fit(X_train, Y_train)\n",
    "reg.score(X_train, Y_train)"
   ]
  },
  {
   "cell_type": "code",
   "execution_count": 26,
   "id": "66b207ba",
   "metadata": {
    "execution": {
     "iopub.execute_input": "2022-02-16T06:19:39.415119Z",
     "iopub.status.busy": "2022-02-16T06:19:39.414173Z",
     "iopub.status.idle": "2022-02-16T06:19:39.418031Z",
     "shell.execute_reply": "2022-02-16T06:19:39.417598Z",
     "shell.execute_reply.started": "2022-02-16T06:18:30.651047Z"
    },
    "papermill": {
     "duration": 0.076634,
     "end_time": "2022-02-16T06:19:39.418164",
     "exception": false,
     "start_time": "2022-02-16T06:19:39.341530",
     "status": "completed"
    },
    "tags": []
   },
   "outputs": [
    {
     "data": {
      "text/plain": [
       "(59761, 9)"
      ]
     },
     "execution_count": 26,
     "metadata": {},
     "output_type": "execute_result"
    }
   ],
   "source": [
    "X_train.shape"
   ]
  },
  {
   "cell_type": "code",
   "execution_count": 27,
   "id": "d16b96e2",
   "metadata": {
    "execution": {
     "iopub.execute_input": "2022-02-16T06:19:39.558472Z",
     "iopub.status.busy": "2022-02-16T06:19:39.557866Z",
     "iopub.status.idle": "2022-02-16T06:19:39.562877Z",
     "shell.execute_reply": "2022-02-16T06:19:39.562346Z",
     "shell.execute_reply.started": "2022-02-16T06:18:30.666071Z"
    },
    "papermill": {
     "duration": 0.076549,
     "end_time": "2022-02-16T06:19:39.563024",
     "exception": false,
     "start_time": "2022-02-16T06:19:39.486475",
     "status": "completed"
    },
    "tags": []
   },
   "outputs": [
    {
     "data": {
      "text/plain": [
       "(59761,)"
      ]
     },
     "execution_count": 27,
     "metadata": {},
     "output_type": "execute_result"
    }
   ],
   "source": [
    "Y_train.shape"
   ]
  },
  {
   "cell_type": "code",
   "execution_count": 28,
   "id": "e7bf2ac9",
   "metadata": {
    "execution": {
     "iopub.execute_input": "2022-02-16T06:19:39.703548Z",
     "iopub.status.busy": "2022-02-16T06:19:39.702976Z",
     "iopub.status.idle": "2022-02-16T06:19:39.798525Z",
     "shell.execute_reply": "2022-02-16T06:19:39.797788Z",
     "shell.execute_reply.started": "2022-02-16T06:18:30.681138Z"
    },
    "papermill": {
     "duration": 0.16685,
     "end_time": "2022-02-16T06:19:39.798690",
     "exception": false,
     "start_time": "2022-02-16T06:19:39.631840",
     "status": "completed"
    },
    "tags": []
   },
   "outputs": [],
   "source": [
    "\n",
    "# check xgboost version\n",
    "import xgboost as xg\n",
    "from sklearn.metrics import mean_squared_error as MSE"
   ]
  },
  {
   "cell_type": "code",
   "execution_count": 29,
   "id": "9e6f178f",
   "metadata": {
    "execution": {
     "iopub.execute_input": "2022-02-16T06:19:39.941608Z",
     "iopub.status.busy": "2022-02-16T06:19:39.940112Z",
     "iopub.status.idle": "2022-02-16T06:19:39.943412Z",
     "shell.execute_reply": "2022-02-16T06:19:39.943883Z",
     "shell.execute_reply.started": "2022-02-16T06:18:30.781354Z"
    },
    "papermill": {
     "duration": 0.075646,
     "end_time": "2022-02-16T06:19:39.944051",
     "exception": false,
     "start_time": "2022-02-16T06:19:39.868405",
     "status": "completed"
    },
    "tags": []
   },
   "outputs": [],
   "source": [
    "xgb_r = xg.XGBRegressor(objective ='reg:linear',\n",
    "                  n_estimators = 10, seed = 123)"
   ]
  },
  {
   "cell_type": "code",
   "execution_count": 30,
   "id": "a1b7ef1d",
   "metadata": {
    "execution": {
     "iopub.execute_input": "2022-02-16T06:19:40.086767Z",
     "iopub.status.busy": "2022-02-16T06:19:40.085683Z",
     "iopub.status.idle": "2022-02-16T06:19:40.389923Z",
     "shell.execute_reply": "2022-02-16T06:19:40.390643Z",
     "shell.execute_reply.started": "2022-02-16T06:18:30.788813Z"
    },
    "papermill": {
     "duration": 0.378034,
     "end_time": "2022-02-16T06:19:40.390811",
     "exception": false,
     "start_time": "2022-02-16T06:19:40.012777",
     "status": "completed"
    },
    "tags": []
   },
   "outputs": [
    {
     "name": "stdout",
     "output_type": "stream",
     "text": [
      "[06:19:40] WARNING: ../src/objective/regression_obj.cu:188: reg:linear is now deprecated in favor of reg:squarederror.\n"
     ]
    },
    {
     "data": {
      "text/plain": [
       "XGBRegressor(base_score=0.5, booster='gbtree', colsample_bylevel=1,\n",
       "             colsample_bynode=1, colsample_bytree=1, enable_categorical=False,\n",
       "             gamma=0, gpu_id=-1, importance_type=None,\n",
       "             interaction_constraints='', learning_rate=0.300000012,\n",
       "             max_delta_step=0, max_depth=6, min_child_weight=1, missing=nan,\n",
       "             monotone_constraints='()', n_estimators=10, n_jobs=4,\n",
       "             num_parallel_tree=1, objective='reg:linear', predictor='auto',\n",
       "             random_state=123, reg_alpha=0, reg_lambda=1, scale_pos_weight=1,\n",
       "             seed=123, subsample=1, tree_method='exact', validate_parameters=1,\n",
       "             verbosity=None)"
      ]
     },
     "execution_count": 30,
     "metadata": {},
     "output_type": "execute_result"
    }
   ],
   "source": [
    "xgb_r.fit(X_train, Y_train)\n"
   ]
  },
  {
   "cell_type": "code",
   "execution_count": 31,
   "id": "7454d57a",
   "metadata": {
    "execution": {
     "iopub.execute_input": "2022-02-16T06:19:40.533501Z",
     "iopub.status.busy": "2022-02-16T06:19:40.531368Z",
     "iopub.status.idle": "2022-02-16T06:19:40.559604Z",
     "shell.execute_reply": "2022-02-16T06:19:40.558992Z",
     "shell.execute_reply.started": "2022-02-16T06:18:31.079934Z"
    },
    "papermill": {
     "duration": 0.100245,
     "end_time": "2022-02-16T06:19:40.559743",
     "exception": false,
     "start_time": "2022-02-16T06:19:40.459498",
     "status": "completed"
    },
    "tags": []
   },
   "outputs": [
    {
     "data": {
      "text/plain": [
       "0.3484080513409584"
      ]
     },
     "execution_count": 31,
     "metadata": {},
     "output_type": "execute_result"
    }
   ],
   "source": [
    "xgb_r.score(X_train,Y_train)"
   ]
  },
  {
   "cell_type": "code",
   "execution_count": 32,
   "id": "47de3662",
   "metadata": {
    "execution": {
     "iopub.execute_input": "2022-02-16T06:19:40.705053Z",
     "iopub.status.busy": "2022-02-16T06:19:40.704472Z",
     "iopub.status.idle": "2022-02-16T06:19:40.723729Z",
     "shell.execute_reply": "2022-02-16T06:19:40.724471Z",
     "shell.execute_reply.started": "2022-02-16T06:18:31.111535Z"
    },
    "papermill": {
     "duration": 0.094187,
     "end_time": "2022-02-16T06:19:40.724647",
     "exception": false,
     "start_time": "2022-02-16T06:19:40.630460",
     "status": "completed"
    },
    "tags": []
   },
   "outputs": [
    {
     "name": "stdout",
     "output_type": "stream",
     "text": [
      "RMSE :  0.705308\n"
     ]
    }
   ],
   "source": [
    "pred = xgb_r.predict(X_test)\n",
    "rmse = np.sqrt(MSE(Y_test, pred))\n",
    "print(\"RMSE : % f\" %(rmse))"
   ]
  },
  {
   "cell_type": "code",
   "execution_count": 33,
   "id": "e13525e6",
   "metadata": {
    "execution": {
     "iopub.execute_input": "2022-02-16T06:19:40.877402Z",
     "iopub.status.busy": "2022-02-16T06:19:40.876746Z",
     "iopub.status.idle": "2022-02-16T06:19:41.399306Z",
     "shell.execute_reply": "2022-02-16T06:19:41.400060Z",
     "shell.execute_reply.started": "2022-02-16T06:18:31.135900Z"
    },
    "papermill": {
     "duration": 0.602496,
     "end_time": "2022-02-16T06:19:41.400317",
     "exception": false,
     "start_time": "2022-02-16T06:19:40.797821",
     "status": "completed"
    },
    "tags": []
   },
   "outputs": [
    {
     "name": "stdout",
     "output_type": "stream",
     "text": [
      "\n",
      "Lasso score: 0.7366 (0.0044)\n",
      "\n"
     ]
    }
   ],
   "source": [
    "#Validation function\n",
    "from sklearn.linear_model import Lasso \n",
    "from sklearn.pipeline import make_pipeline\n",
    "from sklearn.preprocessing import RobustScaler\n",
    "from sklearn.model_selection import KFold, cross_val_score, train_test_split\n",
    "n_folds = 5\n",
    "\n",
    "def rmsle_cv(model):\n",
    "    kf = KFold(n_folds, shuffle=True, random_state=42).get_n_splits(X_train.values)\n",
    "    rmse= np.sqrt(-cross_val_score(model, X_train.values, Y_train, scoring=\"neg_mean_squared_error\", cv = kf))\n",
    "    return(rmse)\n",
    "lasso = make_pipeline(RobustScaler(), Lasso(alpha =0.0005, random_state=1))\n",
    "score = rmsle_cv(lasso)\n",
    "print(\"\\nLasso score: {:.4f} ({:.4f})\\n\".format(score.mean(), score.std()))"
   ]
  },
  {
   "cell_type": "code",
   "execution_count": 34,
   "id": "f9cbc1ef",
   "metadata": {
    "execution": {
     "iopub.execute_input": "2022-02-16T06:19:41.635540Z",
     "iopub.status.busy": "2022-02-16T06:19:41.634912Z",
     "iopub.status.idle": "2022-02-16T06:19:41.643592Z",
     "shell.execute_reply": "2022-02-16T06:19:41.644090Z",
     "shell.execute_reply.started": "2022-02-16T06:18:31.593654Z"
    },
    "papermill": {
     "duration": 0.086231,
     "end_time": "2022-02-16T06:19:41.644260",
     "exception": false,
     "start_time": "2022-02-16T06:19:41.558029",
     "status": "completed"
    },
    "tags": []
   },
   "outputs": [
    {
     "data": {
      "text/html": [
       "<div>\n",
       "<style scoped>\n",
       "    .dataframe tbody tr th:only-of-type {\n",
       "        vertical-align: middle;\n",
       "    }\n",
       "\n",
       "    .dataframe tbody tr th {\n",
       "        vertical-align: top;\n",
       "    }\n",
       "\n",
       "    .dataframe thead th {\n",
       "        text-align: right;\n",
       "    }\n",
       "</style>\n",
       "<table border=\"1\" class=\"dataframe\">\n",
       "  <thead>\n",
       "    <tr style=\"text-align: right;\">\n",
       "      <th></th>\n",
       "      <th>row_id</th>\n",
       "      <th>user_id</th>\n",
       "      <th>category_id</th>\n",
       "      <th>video_id</th>\n",
       "      <th>age</th>\n",
       "      <th>gender</th>\n",
       "      <th>profession</th>\n",
       "      <th>followers</th>\n",
       "      <th>views</th>\n",
       "    </tr>\n",
       "  </thead>\n",
       "  <tbody>\n",
       "    <tr>\n",
       "      <th>1</th>\n",
       "      <td>89199</td>\n",
       "      <td>11278</td>\n",
       "      <td>34</td>\n",
       "      <td>115</td>\n",
       "      <td>14</td>\n",
       "      <td>Male</td>\n",
       "      <td>Student</td>\n",
       "      <td>230</td>\n",
       "      <td>840</td>\n",
       "    </tr>\n",
       "    <tr>\n",
       "      <th>8636</th>\n",
       "      <td>97834</td>\n",
       "      <td>11278</td>\n",
       "      <td>15</td>\n",
       "      <td>33</td>\n",
       "      <td>14</td>\n",
       "      <td>Male</td>\n",
       "      <td>Student</td>\n",
       "      <td>340</td>\n",
       "      <td>662</td>\n",
       "    </tr>\n",
       "  </tbody>\n",
       "</table>\n",
       "</div>"
      ],
      "text/plain": [
       "      row_id  user_id  category_id  video_id  age gender profession  \\\n",
       "1      89199    11278           34       115   14   Male    Student   \n",
       "8636   97834    11278           15        33   14   Male    Student   \n",
       "\n",
       "      followers  views  \n",
       "1           230    840  \n",
       "8636        340    662  "
      ]
     },
     "execution_count": 34,
     "metadata": {},
     "output_type": "execute_result"
    }
   ],
   "source": [
    "test[test['user_id']==11278]"
   ]
  },
  {
   "cell_type": "code",
   "execution_count": 35,
   "id": "d6638686",
   "metadata": {
    "execution": {
     "iopub.execute_input": "2022-02-16T06:19:41.789650Z",
     "iopub.status.busy": "2022-02-16T06:19:41.788984Z",
     "iopub.status.idle": "2022-02-16T06:19:41.800778Z",
     "shell.execute_reply": "2022-02-16T06:19:41.801338Z",
     "shell.execute_reply.started": "2022-02-16T06:18:31.636684Z"
    },
    "papermill": {
     "duration": 0.086051,
     "end_time": "2022-02-16T06:19:41.801521",
     "exception": false,
     "start_time": "2022-02-16T06:19:41.715470",
     "status": "completed"
    },
    "tags": []
   },
   "outputs": [
    {
     "data": {
      "text/html": [
       "<div>\n",
       "<style scoped>\n",
       "    .dataframe tbody tr th:only-of-type {\n",
       "        vertical-align: middle;\n",
       "    }\n",
       "\n",
       "    .dataframe tbody tr th {\n",
       "        vertical-align: top;\n",
       "    }\n",
       "\n",
       "    .dataframe thead th {\n",
       "        text-align: right;\n",
       "    }\n",
       "</style>\n",
       "<table border=\"1\" class=\"dataframe\">\n",
       "  <thead>\n",
       "    <tr style=\"text-align: right;\">\n",
       "      <th></th>\n",
       "      <th>row_id</th>\n",
       "      <th>user_id</th>\n",
       "      <th>category_id</th>\n",
       "      <th>video_id</th>\n",
       "      <th>age</th>\n",
       "      <th>gender</th>\n",
       "      <th>profession</th>\n",
       "      <th>followers</th>\n",
       "      <th>views</th>\n",
       "      <th>engagement_score</th>\n",
       "    </tr>\n",
       "  </thead>\n",
       "  <tbody>\n",
       "    <tr>\n",
       "      <th>19431</th>\n",
       "      <td>19432</td>\n",
       "      <td>11278</td>\n",
       "      <td>34</td>\n",
       "      <td>94</td>\n",
       "      <td>14</td>\n",
       "      <td>Male</td>\n",
       "      <td>Student</td>\n",
       "      <td>230</td>\n",
       "      <td>840</td>\n",
       "      <td>4.09</td>\n",
       "    </tr>\n",
       "    <tr>\n",
       "      <th>25814</th>\n",
       "      <td>25815</td>\n",
       "      <td>11278</td>\n",
       "      <td>15</td>\n",
       "      <td>113</td>\n",
       "      <td>14</td>\n",
       "      <td>Male</td>\n",
       "      <td>Student</td>\n",
       "      <td>340</td>\n",
       "      <td>662</td>\n",
       "      <td>4.46</td>\n",
       "    </tr>\n",
       "    <tr>\n",
       "      <th>45307</th>\n",
       "      <td>45308</td>\n",
       "      <td>11278</td>\n",
       "      <td>15</td>\n",
       "      <td>32</td>\n",
       "      <td>14</td>\n",
       "      <td>Male</td>\n",
       "      <td>Student</td>\n",
       "      <td>340</td>\n",
       "      <td>662</td>\n",
       "      <td>4.41</td>\n",
       "    </tr>\n",
       "    <tr>\n",
       "      <th>52929</th>\n",
       "      <td>52930</td>\n",
       "      <td>11278</td>\n",
       "      <td>32</td>\n",
       "      <td>132</td>\n",
       "      <td>14</td>\n",
       "      <td>Male</td>\n",
       "      <td>Student</td>\n",
       "      <td>330</td>\n",
       "      <td>714</td>\n",
       "      <td>3.90</td>\n",
       "    </tr>\n",
       "    <tr>\n",
       "      <th>64710</th>\n",
       "      <td>64711</td>\n",
       "      <td>11278</td>\n",
       "      <td>34</td>\n",
       "      <td>95</td>\n",
       "      <td>14</td>\n",
       "      <td>Male</td>\n",
       "      <td>Student</td>\n",
       "      <td>230</td>\n",
       "      <td>840</td>\n",
       "      <td>3.87</td>\n",
       "    </tr>\n",
       "  </tbody>\n",
       "</table>\n",
       "</div>"
      ],
      "text/plain": [
       "       row_id  user_id  category_id  video_id  age gender profession  \\\n",
       "19431   19432    11278           34        94   14   Male    Student   \n",
       "25814   25815    11278           15       113   14   Male    Student   \n",
       "45307   45308    11278           15        32   14   Male    Student   \n",
       "52929   52930    11278           32       132   14   Male    Student   \n",
       "64710   64711    11278           34        95   14   Male    Student   \n",
       "\n",
       "       followers  views  engagement_score  \n",
       "19431        230    840              4.09  \n",
       "25814        340    662              4.46  \n",
       "45307        340    662              4.41  \n",
       "52929        330    714              3.90  \n",
       "64710        230    840              3.87  "
      ]
     },
     "execution_count": 35,
     "metadata": {},
     "output_type": "execute_result"
    }
   ],
   "source": [
    "train[train['user_id']==11278]"
   ]
  },
  {
   "cell_type": "code",
   "execution_count": 36,
   "id": "7e6a7503",
   "metadata": {
    "execution": {
     "iopub.execute_input": "2022-02-16T06:19:41.948516Z",
     "iopub.status.busy": "2022-02-16T06:19:41.947871Z",
     "iopub.status.idle": "2022-02-16T06:19:41.951039Z",
     "shell.execute_reply": "2022-02-16T06:19:41.951543Z",
     "shell.execute_reply.started": "2022-02-16T06:18:31.689237Z"
    },
    "papermill": {
     "duration": 0.079248,
     "end_time": "2022-02-16T06:19:41.951726",
     "exception": false,
     "start_time": "2022-02-16T06:19:41.872478",
     "status": "completed"
    },
    "tags": []
   },
   "outputs": [],
   "source": [
    "#solution[solution['user_id']==11278]"
   ]
  },
  {
   "cell_type": "code",
   "execution_count": 37,
   "id": "c25fa694",
   "metadata": {
    "execution": {
     "iopub.execute_input": "2022-02-16T06:19:42.099175Z",
     "iopub.status.busy": "2022-02-16T06:19:42.098598Z",
     "iopub.status.idle": "2022-02-16T06:19:42.153756Z",
     "shell.execute_reply": "2022-02-16T06:19:42.154301Z",
     "shell.execute_reply.started": "2022-02-16T06:18:31.703550Z"
    },
    "papermill": {
     "duration": 0.130414,
     "end_time": "2022-02-16T06:19:42.154485",
     "exception": false,
     "start_time": "2022-02-16T06:19:42.024071",
     "status": "completed"
    },
    "tags": []
   },
   "outputs": [
    {
     "data": {
      "text/html": [
       "<div>\n",
       "<style scoped>\n",
       "    .dataframe tbody tr th:only-of-type {\n",
       "        vertical-align: middle;\n",
       "    }\n",
       "\n",
       "    .dataframe tbody tr th {\n",
       "        vertical-align: top;\n",
       "    }\n",
       "\n",
       "    .dataframe thead th {\n",
       "        text-align: right;\n",
       "    }\n",
       "</style>\n",
       "<table border=\"1\" class=\"dataframe\">\n",
       "  <thead>\n",
       "    <tr style=\"text-align: right;\">\n",
       "      <th></th>\n",
       "      <th>user_id</th>\n",
       "      <th>category_id</th>\n",
       "      <th>engagement_score</th>\n",
       "    </tr>\n",
       "  </thead>\n",
       "  <tbody>\n",
       "    <tr>\n",
       "      <th>0</th>\n",
       "      <td>2</td>\n",
       "      <td>4</td>\n",
       "      <td>2.760</td>\n",
       "    </tr>\n",
       "    <tr>\n",
       "      <th>1</th>\n",
       "      <td>3</td>\n",
       "      <td>5</td>\n",
       "      <td>4.320</td>\n",
       "    </tr>\n",
       "    <tr>\n",
       "      <th>2</th>\n",
       "      <td>6</td>\n",
       "      <td>10</td>\n",
       "      <td>4.370</td>\n",
       "    </tr>\n",
       "    <tr>\n",
       "      <th>3</th>\n",
       "      <td>16</td>\n",
       "      <td>19</td>\n",
       "      <td>3.230</td>\n",
       "    </tr>\n",
       "    <tr>\n",
       "      <th>4</th>\n",
       "      <td>21</td>\n",
       "      <td>5</td>\n",
       "      <td>3.425</td>\n",
       "    </tr>\n",
       "  </tbody>\n",
       "</table>\n",
       "</div>"
      ],
      "text/plain": [
       "   user_id  category_id  engagement_score\n",
       "0        2            4             2.760\n",
       "1        3            5             4.320\n",
       "2        6           10             4.370\n",
       "3       16           19             3.230\n",
       "4       21            5             3.425"
      ]
     },
     "execution_count": 37,
     "metadata": {},
     "output_type": "execute_result"
    }
   ],
   "source": [
    "tastes = pd.merge(test, train, how='inner', on=['user_id', 'category_id'])\n",
    "#tastes2=tastes.groupby(['user_id','category_id']).mean()\n",
    "tastes2=tastes.groupby(['user_id','category_id'], as_index=False)['engagement_score'].median()\n",
    "\n",
    "tastes2.head()"
   ]
  },
  {
   "cell_type": "code",
   "execution_count": 38,
   "id": "56bd1788",
   "metadata": {
    "execution": {
     "iopub.execute_input": "2022-02-16T06:19:42.301064Z",
     "iopub.status.busy": "2022-02-16T06:19:42.300361Z",
     "iopub.status.idle": "2022-02-16T06:19:42.309661Z",
     "shell.execute_reply": "2022-02-16T06:19:42.310136Z",
     "shell.execute_reply.started": "2022-02-16T06:18:31.758889Z"
    },
    "papermill": {
     "duration": 0.084487,
     "end_time": "2022-02-16T06:19:42.310303",
     "exception": false,
     "start_time": "2022-02-16T06:19:42.225816",
     "status": "completed"
    },
    "tags": []
   },
   "outputs": [
    {
     "data": {
      "text/html": [
       "<div>\n",
       "<style scoped>\n",
       "    .dataframe tbody tr th:only-of-type {\n",
       "        vertical-align: middle;\n",
       "    }\n",
       "\n",
       "    .dataframe tbody tr th {\n",
       "        vertical-align: top;\n",
       "    }\n",
       "\n",
       "    .dataframe thead th {\n",
       "        text-align: right;\n",
       "    }\n",
       "</style>\n",
       "<table border=\"1\" class=\"dataframe\">\n",
       "  <thead>\n",
       "    <tr style=\"text-align: right;\">\n",
       "      <th></th>\n",
       "      <th>user_id</th>\n",
       "      <th>category_id</th>\n",
       "      <th>engagement_score</th>\n",
       "    </tr>\n",
       "  </thead>\n",
       "  <tbody>\n",
       "    <tr>\n",
       "      <th>4514</th>\n",
       "      <td>11278</td>\n",
       "      <td>15</td>\n",
       "      <td>4.435</td>\n",
       "    </tr>\n",
       "    <tr>\n",
       "      <th>4515</th>\n",
       "      <td>11278</td>\n",
       "      <td>34</td>\n",
       "      <td>3.980</td>\n",
       "    </tr>\n",
       "  </tbody>\n",
       "</table>\n",
       "</div>"
      ],
      "text/plain": [
       "      user_id  category_id  engagement_score\n",
       "4514    11278           15             4.435\n",
       "4515    11278           34             3.980"
      ]
     },
     "execution_count": 38,
     "metadata": {},
     "output_type": "execute_result"
    }
   ],
   "source": [
    "tastes2[tastes2['user_id']==11278]"
   ]
  },
  {
   "cell_type": "code",
   "execution_count": 39,
   "id": "dd23342a",
   "metadata": {
    "execution": {
     "iopub.execute_input": "2022-02-16T06:19:42.457684Z",
     "iopub.status.busy": "2022-02-16T06:19:42.457025Z",
     "iopub.status.idle": "2022-02-16T06:19:42.462567Z",
     "shell.execute_reply": "2022-02-16T06:19:42.463070Z",
     "shell.execute_reply.started": "2022-02-16T06:18:31.769819Z"
    },
    "papermill": {
     "duration": 0.0804,
     "end_time": "2022-02-16T06:19:42.463235",
     "exception": false,
     "start_time": "2022-02-16T06:19:42.382835",
     "status": "completed"
    },
    "tags": []
   },
   "outputs": [
    {
     "data": {
      "text/plain": [
       "(11121, 9)"
      ]
     },
     "execution_count": 39,
     "metadata": {},
     "output_type": "execute_result"
    }
   ],
   "source": [
    "test.shape"
   ]
  },
  {
   "cell_type": "code",
   "execution_count": 40,
   "id": "16a5b17c",
   "metadata": {
    "execution": {
     "iopub.execute_input": "2022-02-16T06:19:42.612892Z",
     "iopub.status.busy": "2022-02-16T06:19:42.611911Z",
     "iopub.status.idle": "2022-02-16T06:19:42.632861Z",
     "shell.execute_reply": "2022-02-16T06:19:42.633333Z",
     "shell.execute_reply.started": "2022-02-16T06:18:31.775805Z"
    },
    "papermill": {
     "duration": 0.096897,
     "end_time": "2022-02-16T06:19:42.633515",
     "exception": false,
     "start_time": "2022-02-16T06:19:42.536618",
     "status": "completed"
    },
    "tags": []
   },
   "outputs": [
    {
     "data": {
      "text/html": [
       "<div>\n",
       "<style scoped>\n",
       "    .dataframe tbody tr th:only-of-type {\n",
       "        vertical-align: middle;\n",
       "    }\n",
       "\n",
       "    .dataframe tbody tr th {\n",
       "        vertical-align: top;\n",
       "    }\n",
       "\n",
       "    .dataframe thead th {\n",
       "        text-align: right;\n",
       "    }\n",
       "</style>\n",
       "<table border=\"1\" class=\"dataframe\">\n",
       "  <thead>\n",
       "    <tr style=\"text-align: right;\">\n",
       "      <th></th>\n",
       "      <th>row_id</th>\n",
       "      <th>user_id</th>\n",
       "      <th>category_id</th>\n",
       "      <th>video_id</th>\n",
       "      <th>age</th>\n",
       "      <th>gender</th>\n",
       "      <th>profession</th>\n",
       "      <th>followers</th>\n",
       "      <th>views</th>\n",
       "      <th>engagement_score</th>\n",
       "    </tr>\n",
       "  </thead>\n",
       "  <tbody>\n",
       "    <tr>\n",
       "      <th>0</th>\n",
       "      <td>89198</td>\n",
       "      <td>7986</td>\n",
       "      <td>12</td>\n",
       "      <td>42</td>\n",
       "      <td>14</td>\n",
       "      <td>Male</td>\n",
       "      <td>Student</td>\n",
       "      <td>180</td>\n",
       "      <td>138</td>\n",
       "      <td>4.195</td>\n",
       "    </tr>\n",
       "    <tr>\n",
       "      <th>1</th>\n",
       "      <td>89199</td>\n",
       "      <td>11278</td>\n",
       "      <td>34</td>\n",
       "      <td>115</td>\n",
       "      <td>14</td>\n",
       "      <td>Male</td>\n",
       "      <td>Student</td>\n",
       "      <td>230</td>\n",
       "      <td>840</td>\n",
       "      <td>3.980</td>\n",
       "    </tr>\n",
       "    <tr>\n",
       "      <th>2</th>\n",
       "      <td>89200</td>\n",
       "      <td>17245</td>\n",
       "      <td>8</td>\n",
       "      <td>110</td>\n",
       "      <td>44</td>\n",
       "      <td>Female</td>\n",
       "      <td>Working Professional</td>\n",
       "      <td>280</td>\n",
       "      <td>628</td>\n",
       "      <td>2.400</td>\n",
       "    </tr>\n",
       "    <tr>\n",
       "      <th>3</th>\n",
       "      <td>89201</td>\n",
       "      <td>9851</td>\n",
       "      <td>16</td>\n",
       "      <td>137</td>\n",
       "      <td>18</td>\n",
       "      <td>Male</td>\n",
       "      <td>Student</td>\n",
       "      <td>270</td>\n",
       "      <td>462</td>\n",
       "      <td>2.855</td>\n",
       "    </tr>\n",
       "    <tr>\n",
       "      <th>4</th>\n",
       "      <td>89202</td>\n",
       "      <td>16008</td>\n",
       "      <td>34</td>\n",
       "      <td>96</td>\n",
       "      <td>47</td>\n",
       "      <td>Female</td>\n",
       "      <td>Other</td>\n",
       "      <td>230</td>\n",
       "      <td>840</td>\n",
       "      <td>2.080</td>\n",
       "    </tr>\n",
       "  </tbody>\n",
       "</table>\n",
       "</div>"
      ],
      "text/plain": [
       "   row_id  user_id  category_id  video_id  age  gender            profession  \\\n",
       "0   89198     7986           12        42   14    Male               Student   \n",
       "1   89199    11278           34       115   14    Male               Student   \n",
       "2   89200    17245            8       110   44  Female  Working Professional   \n",
       "3   89201     9851           16       137   18    Male               Student   \n",
       "4   89202    16008           34        96   47  Female                 Other   \n",
       "\n",
       "   followers  views  engagement_score  \n",
       "0        180    138             4.195  \n",
       "1        230    840             3.980  \n",
       "2        280    628             2.400  \n",
       "3        270    462             2.855  \n",
       "4        230    840             2.080  "
      ]
     },
     "execution_count": 40,
     "metadata": {},
     "output_type": "execute_result"
    }
   ],
   "source": [
    "solution=pd.merge(test,tastes2,how='left', on =['user_id','category_id'])\n",
    "solution.head()\n"
   ]
  },
  {
   "cell_type": "code",
   "execution_count": 41,
   "id": "4f96b71f",
   "metadata": {
    "execution": {
     "iopub.execute_input": "2022-02-16T06:19:42.785083Z",
     "iopub.status.busy": "2022-02-16T06:19:42.784460Z",
     "iopub.status.idle": "2022-02-16T06:19:42.786820Z",
     "shell.execute_reply": "2022-02-16T06:19:42.787281Z",
     "shell.execute_reply.started": "2022-02-16T06:18:31.800482Z"
    },
    "papermill": {
     "duration": 0.080788,
     "end_time": "2022-02-16T06:19:42.787459",
     "exception": false,
     "start_time": "2022-02-16T06:19:42.706671",
     "status": "completed"
    },
    "tags": []
   },
   "outputs": [
    {
     "data": {
      "text/plain": [
       "(11121, 10)"
      ]
     },
     "execution_count": 41,
     "metadata": {},
     "output_type": "execute_result"
    }
   ],
   "source": [
    "solution.shape"
   ]
  },
  {
   "cell_type": "code",
   "execution_count": 42,
   "id": "0a317d3b",
   "metadata": {
    "execution": {
     "iopub.execute_input": "2022-02-16T06:19:42.936376Z",
     "iopub.status.busy": "2022-02-16T06:19:42.935825Z",
     "iopub.status.idle": "2022-02-16T06:19:42.947705Z",
     "shell.execute_reply": "2022-02-16T06:19:42.947063Z",
     "shell.execute_reply.started": "2022-02-16T06:18:31.807530Z"
    },
    "papermill": {
     "duration": 0.087749,
     "end_time": "2022-02-16T06:19:42.947849",
     "exception": false,
     "start_time": "2022-02-16T06:19:42.860100",
     "status": "completed"
    },
    "tags": []
   },
   "outputs": [
    {
     "data": {
      "text/html": [
       "<div>\n",
       "<style scoped>\n",
       "    .dataframe tbody tr th:only-of-type {\n",
       "        vertical-align: middle;\n",
       "    }\n",
       "\n",
       "    .dataframe tbody tr th {\n",
       "        vertical-align: top;\n",
       "    }\n",
       "\n",
       "    .dataframe thead th {\n",
       "        text-align: right;\n",
       "    }\n",
       "</style>\n",
       "<table border=\"1\" class=\"dataframe\">\n",
       "  <thead>\n",
       "    <tr style=\"text-align: right;\">\n",
       "      <th></th>\n",
       "      <th>row_id</th>\n",
       "      <th>engagement_score</th>\n",
       "    </tr>\n",
       "  </thead>\n",
       "  <tbody>\n",
       "    <tr>\n",
       "      <th>0</th>\n",
       "      <td>89198</td>\n",
       "      <td>4.195</td>\n",
       "    </tr>\n",
       "    <tr>\n",
       "      <th>1</th>\n",
       "      <td>89199</td>\n",
       "      <td>3.980</td>\n",
       "    </tr>\n",
       "    <tr>\n",
       "      <th>2</th>\n",
       "      <td>89200</td>\n",
       "      <td>2.400</td>\n",
       "    </tr>\n",
       "    <tr>\n",
       "      <th>3</th>\n",
       "      <td>89201</td>\n",
       "      <td>2.855</td>\n",
       "    </tr>\n",
       "    <tr>\n",
       "      <th>4</th>\n",
       "      <td>89202</td>\n",
       "      <td>2.080</td>\n",
       "    </tr>\n",
       "  </tbody>\n",
       "</table>\n",
       "</div>"
      ],
      "text/plain": [
       "   row_id  engagement_score\n",
       "0   89198             4.195\n",
       "1   89199             3.980\n",
       "2   89200             2.400\n",
       "3   89201             2.855\n",
       "4   89202             2.080"
      ]
     },
     "execution_count": 42,
     "metadata": {},
     "output_type": "execute_result"
    }
   ],
   "source": [
    "solution2=solution[['row_id','engagement_score']]\n",
    "solution2.head()"
   ]
  },
  {
   "cell_type": "code",
   "execution_count": 43,
   "id": "19d7e783",
   "metadata": {
    "execution": {
     "iopub.execute_input": "2022-02-16T06:19:43.099000Z",
     "iopub.status.busy": "2022-02-16T06:19:43.098371Z",
     "iopub.status.idle": "2022-02-16T06:19:43.124218Z",
     "shell.execute_reply": "2022-02-16T06:19:43.124789Z",
     "shell.execute_reply.started": "2022-02-16T06:18:31.822242Z"
    },
    "papermill": {
     "duration": 0.103396,
     "end_time": "2022-02-16T06:19:43.124986",
     "exception": false,
     "start_time": "2022-02-16T06:19:43.021590",
     "status": "completed"
    },
    "tags": []
   },
   "outputs": [],
   "source": [
    "solution2.to_csv('submission.csv', index=False)"
   ]
  },
  {
   "cell_type": "code",
   "execution_count": 44,
   "id": "58c089fc",
   "metadata": {
    "execution": {
     "iopub.execute_input": "2022-02-16T06:19:43.275531Z",
     "iopub.status.busy": "2022-02-16T06:19:43.274910Z",
     "iopub.status.idle": "2022-02-16T06:19:43.287399Z",
     "shell.execute_reply": "2022-02-16T06:19:43.286798Z",
     "shell.execute_reply.started": "2022-02-16T06:18:31.857912Z"
    },
    "papermill": {
     "duration": 0.088911,
     "end_time": "2022-02-16T06:19:43.287533",
     "exception": false,
     "start_time": "2022-02-16T06:19:43.198622",
     "status": "completed"
    },
    "tags": []
   },
   "outputs": [
    {
     "data": {
      "text/html": [
       "<div>\n",
       "<style scoped>\n",
       "    .dataframe tbody tr th:only-of-type {\n",
       "        vertical-align: middle;\n",
       "    }\n",
       "\n",
       "    .dataframe tbody tr th {\n",
       "        vertical-align: top;\n",
       "    }\n",
       "\n",
       "    .dataframe thead th {\n",
       "        text-align: right;\n",
       "    }\n",
       "</style>\n",
       "<table border=\"1\" class=\"dataframe\">\n",
       "  <thead>\n",
       "    <tr style=\"text-align: right;\">\n",
       "      <th></th>\n",
       "      <th>row_id</th>\n",
       "      <th>user_id</th>\n",
       "      <th>category_id</th>\n",
       "      <th>video_id</th>\n",
       "      <th>age</th>\n",
       "      <th>gender</th>\n",
       "      <th>profession</th>\n",
       "      <th>followers</th>\n",
       "      <th>views</th>\n",
       "      <th>engagement_score</th>\n",
       "    </tr>\n",
       "  </thead>\n",
       "  <tbody>\n",
       "    <tr>\n",
       "      <th>0</th>\n",
       "      <td>1</td>\n",
       "      <td>19990</td>\n",
       "      <td>37</td>\n",
       "      <td>128</td>\n",
       "      <td>24</td>\n",
       "      <td>Male</td>\n",
       "      <td>Student</td>\n",
       "      <td>180</td>\n",
       "      <td>1000</td>\n",
       "      <td>4.33</td>\n",
       "    </tr>\n",
       "    <tr>\n",
       "      <th>1</th>\n",
       "      <td>2</td>\n",
       "      <td>5304</td>\n",
       "      <td>32</td>\n",
       "      <td>132</td>\n",
       "      <td>14</td>\n",
       "      <td>Female</td>\n",
       "      <td>Student</td>\n",
       "      <td>330</td>\n",
       "      <td>714</td>\n",
       "      <td>1.79</td>\n",
       "    </tr>\n",
       "    <tr>\n",
       "      <th>2</th>\n",
       "      <td>3</td>\n",
       "      <td>1840</td>\n",
       "      <td>12</td>\n",
       "      <td>24</td>\n",
       "      <td>19</td>\n",
       "      <td>Male</td>\n",
       "      <td>Student</td>\n",
       "      <td>180</td>\n",
       "      <td>138</td>\n",
       "      <td>4.35</td>\n",
       "    </tr>\n",
       "    <tr>\n",
       "      <th>3</th>\n",
       "      <td>4</td>\n",
       "      <td>12597</td>\n",
       "      <td>23</td>\n",
       "      <td>112</td>\n",
       "      <td>19</td>\n",
       "      <td>Male</td>\n",
       "      <td>Student</td>\n",
       "      <td>220</td>\n",
       "      <td>613</td>\n",
       "      <td>3.77</td>\n",
       "    </tr>\n",
       "    <tr>\n",
       "      <th>4</th>\n",
       "      <td>5</td>\n",
       "      <td>13626</td>\n",
       "      <td>23</td>\n",
       "      <td>112</td>\n",
       "      <td>27</td>\n",
       "      <td>Male</td>\n",
       "      <td>Working Professional</td>\n",
       "      <td>220</td>\n",
       "      <td>613</td>\n",
       "      <td>3.13</td>\n",
       "    </tr>\n",
       "  </tbody>\n",
       "</table>\n",
       "</div>"
      ],
      "text/plain": [
       "   row_id  user_id  category_id  video_id  age  gender            profession  \\\n",
       "0       1    19990           37       128   24    Male               Student   \n",
       "1       2     5304           32       132   14  Female               Student   \n",
       "2       3     1840           12        24   19    Male               Student   \n",
       "3       4    12597           23       112   19    Male               Student   \n",
       "4       5    13626           23       112   27    Male  Working Professional   \n",
       "\n",
       "   followers  views  engagement_score  \n",
       "0        180   1000              4.33  \n",
       "1        330    714              1.79  \n",
       "2        180    138              4.35  \n",
       "3        220    613              3.77  \n",
       "4        220    613              3.13  "
      ]
     },
     "execution_count": 44,
     "metadata": {},
     "output_type": "execute_result"
    }
   ],
   "source": [
    "train.head()"
   ]
  },
  {
   "cell_type": "code",
   "execution_count": 45,
   "id": "f0bcd6b0",
   "metadata": {
    "execution": {
     "iopub.execute_input": "2022-02-16T06:19:43.441218Z",
     "iopub.status.busy": "2022-02-16T06:19:43.440534Z",
     "iopub.status.idle": "2022-02-16T06:19:43.451556Z",
     "shell.execute_reply": "2022-02-16T06:19:43.452063Z",
     "shell.execute_reply.started": "2022-02-16T06:18:31.872453Z"
    },
    "papermill": {
     "duration": 0.090514,
     "end_time": "2022-02-16T06:19:43.452231",
     "exception": false,
     "start_time": "2022-02-16T06:19:43.361717",
     "status": "completed"
    },
    "tags": []
   },
   "outputs": [
    {
     "data": {
      "text/html": [
       "<div>\n",
       "<style scoped>\n",
       "    .dataframe tbody tr th:only-of-type {\n",
       "        vertical-align: middle;\n",
       "    }\n",
       "\n",
       "    .dataframe tbody tr th {\n",
       "        vertical-align: top;\n",
       "    }\n",
       "\n",
       "    .dataframe thead th {\n",
       "        text-align: right;\n",
       "    }\n",
       "</style>\n",
       "<table border=\"1\" class=\"dataframe\">\n",
       "  <thead>\n",
       "    <tr style=\"text-align: right;\">\n",
       "      <th></th>\n",
       "      <th>row_id</th>\n",
       "      <th>user_id</th>\n",
       "      <th>category_id</th>\n",
       "      <th>video_id</th>\n",
       "      <th>age</th>\n",
       "      <th>gender</th>\n",
       "      <th>profession</th>\n",
       "      <th>followers</th>\n",
       "      <th>views</th>\n",
       "      <th>engagement_score</th>\n",
       "    </tr>\n",
       "  </thead>\n",
       "  <tbody>\n",
       "    <tr>\n",
       "      <th>0</th>\n",
       "      <td>1</td>\n",
       "      <td>19990</td>\n",
       "      <td>37</td>\n",
       "      <td>128</td>\n",
       "      <td>24</td>\n",
       "      <td>Male</td>\n",
       "      <td>Student</td>\n",
       "      <td>180</td>\n",
       "      <td>1000</td>\n",
       "      <td>4.33</td>\n",
       "    </tr>\n",
       "    <tr>\n",
       "      <th>10943</th>\n",
       "      <td>10944</td>\n",
       "      <td>19990</td>\n",
       "      <td>43</td>\n",
       "      <td>148</td>\n",
       "      <td>24</td>\n",
       "      <td>Male</td>\n",
       "      <td>Student</td>\n",
       "      <td>280</td>\n",
       "      <td>617</td>\n",
       "      <td>4.77</td>\n",
       "    </tr>\n",
       "    <tr>\n",
       "      <th>58217</th>\n",
       "      <td>58218</td>\n",
       "      <td>19990</td>\n",
       "      <td>43</td>\n",
       "      <td>149</td>\n",
       "      <td>24</td>\n",
       "      <td>Male</td>\n",
       "      <td>Student</td>\n",
       "      <td>280</td>\n",
       "      <td>617</td>\n",
       "      <td>4.92</td>\n",
       "    </tr>\n",
       "  </tbody>\n",
       "</table>\n",
       "</div>"
      ],
      "text/plain": [
       "       row_id  user_id  category_id  video_id  age gender profession  \\\n",
       "0           1    19990           37       128   24   Male    Student   \n",
       "10943   10944    19990           43       148   24   Male    Student   \n",
       "58217   58218    19990           43       149   24   Male    Student   \n",
       "\n",
       "       followers  views  engagement_score  \n",
       "0            180   1000              4.33  \n",
       "10943        280    617              4.77  \n",
       "58217        280    617              4.92  "
      ]
     },
     "execution_count": 45,
     "metadata": {},
     "output_type": "execute_result"
    }
   ],
   "source": [
    "inputMovies=train[train['user_id']==19990]\n",
    "inputMovies"
   ]
  },
  {
   "cell_type": "code",
   "execution_count": 46,
   "id": "319266f2",
   "metadata": {
    "execution": {
     "iopub.execute_input": "2022-02-16T06:19:43.609741Z",
     "iopub.status.busy": "2022-02-16T06:19:43.603793Z",
     "iopub.status.idle": "2022-02-16T06:19:43.623562Z",
     "shell.execute_reply": "2022-02-16T06:19:43.623048Z",
     "shell.execute_reply.started": "2022-02-16T06:18:31.889958Z"
    },
    "papermill": {
     "duration": 0.097414,
     "end_time": "2022-02-16T06:19:43.623711",
     "exception": false,
     "start_time": "2022-02-16T06:19:43.526297",
     "status": "completed"
    },
    "tags": []
   },
   "outputs": [
    {
     "data": {
      "text/html": [
       "<div>\n",
       "<style scoped>\n",
       "    .dataframe tbody tr th:only-of-type {\n",
       "        vertical-align: middle;\n",
       "    }\n",
       "\n",
       "    .dataframe tbody tr th {\n",
       "        vertical-align: top;\n",
       "    }\n",
       "\n",
       "    .dataframe thead th {\n",
       "        text-align: right;\n",
       "    }\n",
       "</style>\n",
       "<table border=\"1\" class=\"dataframe\">\n",
       "  <thead>\n",
       "    <tr style=\"text-align: right;\">\n",
       "      <th></th>\n",
       "      <th>row_id</th>\n",
       "      <th>user_id</th>\n",
       "      <th>category_id</th>\n",
       "      <th>video_id</th>\n",
       "      <th>age</th>\n",
       "      <th>gender</th>\n",
       "      <th>profession</th>\n",
       "      <th>followers</th>\n",
       "      <th>views</th>\n",
       "      <th>engagement_score</th>\n",
       "    </tr>\n",
       "  </thead>\n",
       "  <tbody>\n",
       "    <tr>\n",
       "      <th>0</th>\n",
       "      <td>1</td>\n",
       "      <td>19990</td>\n",
       "      <td>37</td>\n",
       "      <td>128</td>\n",
       "      <td>24</td>\n",
       "      <td>Male</td>\n",
       "      <td>Student</td>\n",
       "      <td>180</td>\n",
       "      <td>1000</td>\n",
       "      <td>4.33</td>\n",
       "    </tr>\n",
       "    <tr>\n",
       "      <th>46</th>\n",
       "      <td>47</td>\n",
       "      <td>19335</td>\n",
       "      <td>43</td>\n",
       "      <td>148</td>\n",
       "      <td>30</td>\n",
       "      <td>Male</td>\n",
       "      <td>Working Professional</td>\n",
       "      <td>280</td>\n",
       "      <td>617</td>\n",
       "      <td>3.71</td>\n",
       "    </tr>\n",
       "    <tr>\n",
       "      <th>164</th>\n",
       "      <td>165</td>\n",
       "      <td>6328</td>\n",
       "      <td>43</td>\n",
       "      <td>149</td>\n",
       "      <td>33</td>\n",
       "      <td>Male</td>\n",
       "      <td>Working Professional</td>\n",
       "      <td>280</td>\n",
       "      <td>617</td>\n",
       "      <td>3.99</td>\n",
       "    </tr>\n",
       "    <tr>\n",
       "      <th>186</th>\n",
       "      <td>187</td>\n",
       "      <td>19470</td>\n",
       "      <td>43</td>\n",
       "      <td>149</td>\n",
       "      <td>19</td>\n",
       "      <td>Male</td>\n",
       "      <td>Student</td>\n",
       "      <td>280</td>\n",
       "      <td>617</td>\n",
       "      <td>4.56</td>\n",
       "    </tr>\n",
       "    <tr>\n",
       "      <th>219</th>\n",
       "      <td>220</td>\n",
       "      <td>16563</td>\n",
       "      <td>43</td>\n",
       "      <td>148</td>\n",
       "      <td>30</td>\n",
       "      <td>Male</td>\n",
       "      <td>Working Professional</td>\n",
       "      <td>280</td>\n",
       "      <td>617</td>\n",
       "      <td>2.16</td>\n",
       "    </tr>\n",
       "  </tbody>\n",
       "</table>\n",
       "</div>"
      ],
      "text/plain": [
       "     row_id  user_id  category_id  video_id  age gender            profession  \\\n",
       "0         1    19990           37       128   24   Male               Student   \n",
       "46       47    19335           43       148   30   Male  Working Professional   \n",
       "164     165     6328           43       149   33   Male  Working Professional   \n",
       "186     187    19470           43       149   19   Male               Student   \n",
       "219     220    16563           43       148   30   Male  Working Professional   \n",
       "\n",
       "     followers  views  engagement_score  \n",
       "0          180   1000              4.33  \n",
       "46         280    617              3.71  \n",
       "164        280    617              3.99  \n",
       "186        280    617              4.56  \n",
       "219        280    617              2.16  "
      ]
     },
     "execution_count": 46,
     "metadata": {},
     "output_type": "execute_result"
    }
   ],
   "source": [
    "#Filtering out users that have watched movies that the input has watched and storing it\n",
    "userSubset = train[train['video_id'].isin(inputMovies['video_id'].tolist())]\n",
    "userSubset.head()"
   ]
  },
  {
   "cell_type": "code",
   "execution_count": 47,
   "id": "a7ce50b5",
   "metadata": {
    "execution": {
     "iopub.execute_input": "2022-02-16T06:19:43.778696Z",
     "iopub.status.busy": "2022-02-16T06:19:43.778040Z",
     "iopub.status.idle": "2022-02-16T06:19:43.780164Z",
     "shell.execute_reply": "2022-02-16T06:19:43.780621Z",
     "shell.execute_reply.started": "2022-02-16T06:18:31.909456Z"
    },
    "papermill": {
     "duration": 0.081761,
     "end_time": "2022-02-16T06:19:43.780810",
     "exception": false,
     "start_time": "2022-02-16T06:19:43.699049",
     "status": "completed"
    },
    "tags": []
   },
   "outputs": [],
   "source": [
    "#Groupby creates several sub dataframes where they all have the same value in the column specified as the parameter\n",
    "userSubsetGroup = userSubset.groupby(['user_id'])"
   ]
  },
  {
   "cell_type": "code",
   "execution_count": 48,
   "id": "b59cd70e",
   "metadata": {
    "execution": {
     "iopub.execute_input": "2022-02-16T06:19:43.933828Z",
     "iopub.status.busy": "2022-02-16T06:19:43.933213Z",
     "iopub.status.idle": "2022-02-16T06:19:43.946826Z",
     "shell.execute_reply": "2022-02-16T06:19:43.947398Z",
     "shell.execute_reply.started": "2022-02-16T06:18:31.915198Z"
    },
    "papermill": {
     "duration": 0.091825,
     "end_time": "2022-02-16T06:19:43.947574",
     "exception": false,
     "start_time": "2022-02-16T06:19:43.855749",
     "status": "completed"
    },
    "tags": []
   },
   "outputs": [
    {
     "data": {
      "text/html": [
       "<div>\n",
       "<style scoped>\n",
       "    .dataframe tbody tr th:only-of-type {\n",
       "        vertical-align: middle;\n",
       "    }\n",
       "\n",
       "    .dataframe tbody tr th {\n",
       "        vertical-align: top;\n",
       "    }\n",
       "\n",
       "    .dataframe thead th {\n",
       "        text-align: right;\n",
       "    }\n",
       "</style>\n",
       "<table border=\"1\" class=\"dataframe\">\n",
       "  <thead>\n",
       "    <tr style=\"text-align: right;\">\n",
       "      <th></th>\n",
       "      <th>row_id</th>\n",
       "      <th>user_id</th>\n",
       "      <th>category_id</th>\n",
       "      <th>video_id</th>\n",
       "      <th>age</th>\n",
       "      <th>gender</th>\n",
       "      <th>profession</th>\n",
       "      <th>followers</th>\n",
       "      <th>views</th>\n",
       "      <th>engagement_score</th>\n",
       "    </tr>\n",
       "  </thead>\n",
       "  <tbody>\n",
       "    <tr>\n",
       "      <th>46</th>\n",
       "      <td>47</td>\n",
       "      <td>19335</td>\n",
       "      <td>43</td>\n",
       "      <td>148</td>\n",
       "      <td>30</td>\n",
       "      <td>Male</td>\n",
       "      <td>Working Professional</td>\n",
       "      <td>280</td>\n",
       "      <td>617</td>\n",
       "      <td>3.71</td>\n",
       "    </tr>\n",
       "    <tr>\n",
       "      <th>75260</th>\n",
       "      <td>75261</td>\n",
       "      <td>19335</td>\n",
       "      <td>43</td>\n",
       "      <td>149</td>\n",
       "      <td>30</td>\n",
       "      <td>Male</td>\n",
       "      <td>Working Professional</td>\n",
       "      <td>280</td>\n",
       "      <td>617</td>\n",
       "      <td>3.98</td>\n",
       "    </tr>\n",
       "  </tbody>\n",
       "</table>\n",
       "</div>"
      ],
      "text/plain": [
       "       row_id  user_id  category_id  video_id  age gender  \\\n",
       "46         47    19335           43       148   30   Male   \n",
       "75260   75261    19335           43       149   30   Male   \n",
       "\n",
       "                 profession  followers  views  engagement_score  \n",
       "46     Working Professional        280    617              3.71  \n",
       "75260  Working Professional        280    617              3.98  "
      ]
     },
     "execution_count": 48,
     "metadata": {},
     "output_type": "execute_result"
    }
   ],
   "source": [
    "userSubsetGroup.get_group(19335)"
   ]
  },
  {
   "cell_type": "code",
   "execution_count": 49,
   "id": "41c0c1a1",
   "metadata": {
    "execution": {
     "iopub.execute_input": "2022-02-16T06:19:44.104313Z",
     "iopub.status.busy": "2022-02-16T06:19:44.103353Z",
     "iopub.status.idle": "2022-02-16T06:19:44.125520Z",
     "shell.execute_reply": "2022-02-16T06:19:44.124988Z",
     "shell.execute_reply.started": "2022-02-16T06:18:31.936514Z"
    },
    "papermill": {
     "duration": 0.102328,
     "end_time": "2022-02-16T06:19:44.125674",
     "exception": false,
     "start_time": "2022-02-16T06:19:44.023346",
     "status": "completed"
    },
    "tags": []
   },
   "outputs": [],
   "source": [
    "#Sorting it so users with movie most in common with the input will have priority\n",
    "userSubsetGroup = sorted(userSubsetGroup,  key=lambda x: len(x[1]), reverse=True)\n"
   ]
  },
  {
   "cell_type": "code",
   "execution_count": 50,
   "id": "f8567031",
   "metadata": {
    "execution": {
     "iopub.execute_input": "2022-02-16T06:19:44.291038Z",
     "iopub.status.busy": "2022-02-16T06:19:44.290362Z",
     "iopub.status.idle": "2022-02-16T06:19:44.292906Z",
     "shell.execute_reply": "2022-02-16T06:19:44.293331Z",
     "shell.execute_reply.started": "2022-02-16T06:18:31.968494Z"
    },
    "papermill": {
     "duration": 0.092448,
     "end_time": "2022-02-16T06:19:44.293510",
     "exception": false,
     "start_time": "2022-02-16T06:19:44.201062",
     "status": "completed"
    },
    "tags": []
   },
   "outputs": [
    {
     "data": {
      "text/plain": [
       "[(98,\n",
       "         row_id  user_id  category_id  video_id  age  gender profession  \\\n",
       "  16393   16394       98           37       128   18  Female    Student   \n",
       "  56286   56287       98           43       148   18  Female    Student   \n",
       "  70074   70075       98           43       149   18  Female    Student   \n",
       "  \n",
       "         followers  views  engagement_score  \n",
       "  16393        180   1000              3.04  \n",
       "  56286        280    617              3.66  \n",
       "  70074        280    617              3.90  ),\n",
       " (728,\n",
       "         row_id  user_id  category_id  video_id  age  gender profession  \\\n",
       "  20348   20349      728           43       149   42  Female      Other   \n",
       "  45510   45511      728           37       128   42  Female      Other   \n",
       "  73136   73137      728           43       148   42  Female      Other   \n",
       "  \n",
       "         followers  views  engagement_score  \n",
       "  20348        280    617              2.64  \n",
       "  45510        180   1000              4.51  \n",
       "  73136        280    617              2.56  ),\n",
       " (909,\n",
       "         row_id  user_id  category_id  video_id  age gender profession  \\\n",
       "  14752   14753      909           43       149   46   Male      Other   \n",
       "  48776   48777      909           37       128   46   Male      Other   \n",
       "  64481   64482      909           43       148   46   Male      Other   \n",
       "  \n",
       "         followers  views  engagement_score  \n",
       "  14752        280    617              4.49  \n",
       "  48776        180   1000              3.40  \n",
       "  64481        280    617              4.25  )]"
      ]
     },
     "execution_count": 50,
     "metadata": {},
     "output_type": "execute_result"
    }
   ],
   "source": [
    "userSubsetGroup[0:3]"
   ]
  },
  {
   "cell_type": "code",
   "execution_count": 51,
   "id": "c2c37524",
   "metadata": {
    "execution": {
     "iopub.execute_input": "2022-02-16T06:19:44.450894Z",
     "iopub.status.busy": "2022-02-16T06:19:44.449962Z",
     "iopub.status.idle": "2022-02-16T06:19:44.452864Z",
     "shell.execute_reply": "2022-02-16T06:19:44.452330Z",
     "shell.execute_reply.started": "2022-02-16T06:18:31.984937Z"
    },
    "papermill": {
     "duration": 0.084144,
     "end_time": "2022-02-16T06:19:44.453003",
     "exception": false,
     "start_time": "2022-02-16T06:19:44.368859",
     "status": "completed"
    },
    "tags": []
   },
   "outputs": [],
   "source": [
    "userSubsetGroup = userSubsetGroup[0:100]"
   ]
  },
  {
   "cell_type": "code",
   "execution_count": 52,
   "id": "f6b5d7f7",
   "metadata": {
    "execution": {
     "iopub.execute_input": "2022-02-16T06:19:44.612939Z",
     "iopub.status.busy": "2022-02-16T06:19:44.612244Z",
     "iopub.status.idle": "2022-02-16T06:19:44.730537Z",
     "shell.execute_reply": "2022-02-16T06:19:44.729988Z",
     "shell.execute_reply.started": "2022-02-16T06:18:31.996065Z"
    },
    "papermill": {
     "duration": 0.202129,
     "end_time": "2022-02-16T06:19:44.730690",
     "exception": false,
     "start_time": "2022-02-16T06:19:44.528561",
     "status": "completed"
    },
    "tags": []
   },
   "outputs": [],
   "source": [
    "#Store the Pearson Correlation in a dictionary, where the key is the user Id and the value is the coefficient\n",
    "pearsonCorrelationDict = {}\n",
    "from math import sqrt\n",
    "#For every user group in our subset\n",
    "for name, group in userSubsetGroup:\n",
    "    #Let's start by sorting the input and current user group so the values aren't mixed up later on\n",
    "    group = group.sort_values(by='video_id')\n",
    "    inputMovies = inputMovies.sort_values(by='video_id')\n",
    "    #Get the N for the formula\n",
    "    nRatings = len(group)\n",
    "    #Get the review scores for the movies that they both have in common\n",
    "    temp_df = inputMovies[inputMovies['video_id'].isin(group['video_id'].tolist())]\n",
    "    #And then store them in a temporary buffer variable in a list format to facilitate future calculations\n",
    "    tempRatingList = temp_df['engagement_score'].tolist()\n",
    "    #Let's also put the current user group reviews in a list format\n",
    "    tempGroupList = group['engagement_score'].tolist()\n",
    "    #Now let's calculate the pearson correlation between two users, so called, x and y\n",
    "    Sxx = sum([i**2 for i in tempRatingList]) - pow(sum(tempRatingList),2)/float(nRatings)\n",
    "    Syy = sum([i**2 for i in tempGroupList]) - pow(sum(tempGroupList),2)/float(nRatings)\n",
    "    Sxy = sum( i*j for i, j in zip(tempRatingList, tempGroupList)) - sum(tempRatingList)*sum(tempGroupList)/float(nRatings)\n",
    "    \n",
    "    #If the denominator is different than zero, then divide, else, 0 correlation.\n",
    "    if Sxx != 0 and Syy != 0:\n",
    "        pearsonCorrelationDict[name] = Sxy/sqrt(Sxx*Syy)\n",
    "    else:\n",
    "        pearsonCorrelationDict[name] = 0"
   ]
  },
  {
   "cell_type": "code",
   "execution_count": 53,
   "id": "ba9a2c8e",
   "metadata": {
    "execution": {
     "iopub.execute_input": "2022-02-16T06:19:44.890277Z",
     "iopub.status.busy": "2022-02-16T06:19:44.889681Z",
     "iopub.status.idle": "2022-02-16T06:19:44.892125Z",
     "shell.execute_reply": "2022-02-16T06:19:44.892583Z",
     "shell.execute_reply.started": "2022-02-16T06:18:32.125074Z"
    },
    "papermill": {
     "duration": 0.085093,
     "end_time": "2022-02-16T06:19:44.892746",
     "exception": false,
     "start_time": "2022-02-16T06:19:44.807653",
     "status": "completed"
    },
    "tags": []
   },
   "outputs": [
    {
     "data": {
      "text/plain": [
       "dict_items([(98, 0.9996427219181666), (728, -0.9601260484776637), (909, 0.9993519359544398), (1258, 0.47236203682022204), (1471, 0.9273546142906607), (1998, 0.9036469081777933), (2467, 0.9916904600361559), (2838, 0.986080811183978), (3328, 0.23428844579306177), (3633, -0.6904754011277767), (4050, 0.9955546419374296), (4229, 0.9752062164561294), (4510, 0.7433503779976627), (5194, 0.9803384832207797), (5244, 0.9995458891327285), (5527, 0.9738934556775991), (5711, 0.9635549446365754), (6451, 0.9921062047157875), (6858, 0.9643153465734822), (6860, 0.7255965292797993), (7145, -0.8031513305215079), (7171, -0.3770617999195541), (7244, 0.998728023720474), (7295, 0.9972602708696879), (7341, 0.40743823586516487), (7446, -0.8196561646731049), (7673, -0.370979845348503), (7857, 0.9601083411492497), (8003, 0.9910163723987884), (8102, 0.9668479974849918), (8202, 0.2510088019760444), (8538, 0.9878291611472829), (9029, 0.9740153926300128), (9281, -0.30314767614894694), (9344, 0.9928703686867106), (10009, 0.9085220440093658), (10395, 0.9999951709903285), (11471, 0.9951141567611421), (11857, 0.9997096484832232), (12443, 0.9996900970636158), (12494, 0.9866512850002699), (12550, 0.6966268044252777), (12931, 0.9832978243517763), (13368, 0.9922574702389756), (13487, 0.9599642822186523), (13567, 0.7563938467736853), (13898, 0.7553714766308143), (13903, 0.9974368792660312), (14000, 0.9910551722620733), (14174, 0.9847191752658015), (14623, 0.9508014492831309), (14830, -0.27300239632881623), (14973, -0.9780611359127075), (15169, 0.7395928181285398), (15214, 0.9692118761098298), (16007, 0.9933325859503181), (16563, 0.771097040969709), (17897, 0.9999747831519945), (18312, -0.9420965242895935), (18765, 0.9752679034540442), (19060, -0.8320556774597084), (19153, 0.9674186061750544), (19493, 0.9729768383561622), (19894, 0.9687074669349927), (19919, 0.9337215225812626), (19990, 1.0), (20227, -0.9801292902611929), (20369, -0.4498864663247545), (20463, 0.9977611429680425), (20698, 0.9991475803192914), (20784, -0.9937575031706798), (20836, -0.9551579394509825), (21321, -0.7204969009326962), (21361, 0.9957914011812251), (21457, 0.9804486689187063), (21752, 0.6966268044252534), (22333, 0.9772068152618986), (22428, -0.7495618415023118), (22474, 0.5086976179010301), (22690, 0.9717211606307333), (22912, 0.9470560280167896), (23162, 0.9512275787901868), (23600, 0.9981448791374976), (24187, 0.9916746033987368), (24591, 0.9678538973422011), (24673, 0.8064266653568893), (25161, 0.3294082673333634), (25978, 0.542281609769851), (26054, 0.911492734908364), (26609, 0.6966268044252585), (26738, 0.9491461633823723), (26964, 0.8196561646748838), (27283, 0.7152083144310324), (27487, 0.9784210375750775), (168, 1.0000000000000884), (286, 0.999999999996921), (310, 1.0000000000000362), (394, 1.0000000000004143), (500, 1.0000000000004345), (559, -1.0000000000194216)])"
      ]
     },
     "execution_count": 53,
     "metadata": {},
     "output_type": "execute_result"
    }
   ],
   "source": [
    "pearsonCorrelationDict.items()"
   ]
  },
  {
   "cell_type": "code",
   "execution_count": 54,
   "id": "c7db7761",
   "metadata": {
    "execution": {
     "iopub.execute_input": "2022-02-16T06:19:45.051846Z",
     "iopub.status.busy": "2022-02-16T06:19:45.048269Z",
     "iopub.status.idle": "2022-02-16T06:19:45.053960Z",
     "shell.execute_reply": "2022-02-16T06:19:45.054477Z",
     "shell.execute_reply.started": "2022-02-16T06:18:32.131190Z"
    },
    "papermill": {
     "duration": 0.084925,
     "end_time": "2022-02-16T06:19:45.054639",
     "exception": false,
     "start_time": "2022-02-16T06:19:44.969714",
     "status": "completed"
    },
    "tags": []
   },
   "outputs": [],
   "source": [
    "pearsonDF = pd.DataFrame.from_dict(pearsonCorrelationDict, orient='index')\n",
    "pearsonDF.columns = ['similarityIndex']\n",
    "pearsonDF['user_id'] = pearsonDF.index\n",
    "pearsonDF.index = range(len(pearsonDF))\n"
   ]
  },
  {
   "cell_type": "code",
   "execution_count": 55,
   "id": "1089d4a4",
   "metadata": {
    "execution": {
     "iopub.execute_input": "2022-02-16T06:19:45.211163Z",
     "iopub.status.busy": "2022-02-16T06:19:45.209181Z",
     "iopub.status.idle": "2022-02-16T06:19:45.222257Z",
     "shell.execute_reply": "2022-02-16T06:19:45.221689Z",
     "shell.execute_reply.started": "2022-02-16T06:18:32.143951Z"
    },
    "papermill": {
     "duration": 0.091777,
     "end_time": "2022-02-16T06:19:45.222408",
     "exception": false,
     "start_time": "2022-02-16T06:19:45.130631",
     "status": "completed"
    },
    "tags": []
   },
   "outputs": [
    {
     "data": {
      "text/html": [
       "<div>\n",
       "<style scoped>\n",
       "    .dataframe tbody tr th:only-of-type {\n",
       "        vertical-align: middle;\n",
       "    }\n",
       "\n",
       "    .dataframe tbody tr th {\n",
       "        vertical-align: top;\n",
       "    }\n",
       "\n",
       "    .dataframe thead th {\n",
       "        text-align: right;\n",
       "    }\n",
       "</style>\n",
       "<table border=\"1\" class=\"dataframe\">\n",
       "  <thead>\n",
       "    <tr style=\"text-align: right;\">\n",
       "      <th></th>\n",
       "      <th>similarityIndex</th>\n",
       "      <th>user_id</th>\n",
       "    </tr>\n",
       "  </thead>\n",
       "  <tbody>\n",
       "    <tr>\n",
       "      <th>98</th>\n",
       "      <td>1.000000</td>\n",
       "      <td>500</td>\n",
       "    </tr>\n",
       "    <tr>\n",
       "      <th>97</th>\n",
       "      <td>1.000000</td>\n",
       "      <td>394</td>\n",
       "    </tr>\n",
       "    <tr>\n",
       "      <th>94</th>\n",
       "      <td>1.000000</td>\n",
       "      <td>168</td>\n",
       "    </tr>\n",
       "    <tr>\n",
       "      <th>96</th>\n",
       "      <td>1.000000</td>\n",
       "      <td>310</td>\n",
       "    </tr>\n",
       "    <tr>\n",
       "      <th>65</th>\n",
       "      <td>1.000000</td>\n",
       "      <td>19990</td>\n",
       "    </tr>\n",
       "    <tr>\n",
       "      <th>95</th>\n",
       "      <td>1.000000</td>\n",
       "      <td>286</td>\n",
       "    </tr>\n",
       "    <tr>\n",
       "      <th>36</th>\n",
       "      <td>0.999995</td>\n",
       "      <td>10395</td>\n",
       "    </tr>\n",
       "    <tr>\n",
       "      <th>57</th>\n",
       "      <td>0.999975</td>\n",
       "      <td>17897</td>\n",
       "    </tr>\n",
       "    <tr>\n",
       "      <th>38</th>\n",
       "      <td>0.999710</td>\n",
       "      <td>11857</td>\n",
       "    </tr>\n",
       "    <tr>\n",
       "      <th>39</th>\n",
       "      <td>0.999690</td>\n",
       "      <td>12443</td>\n",
       "    </tr>\n",
       "    <tr>\n",
       "      <th>0</th>\n",
       "      <td>0.999643</td>\n",
       "      <td>98</td>\n",
       "    </tr>\n",
       "    <tr>\n",
       "      <th>14</th>\n",
       "      <td>0.999546</td>\n",
       "      <td>5244</td>\n",
       "    </tr>\n",
       "    <tr>\n",
       "      <th>2</th>\n",
       "      <td>0.999352</td>\n",
       "      <td>909</td>\n",
       "    </tr>\n",
       "    <tr>\n",
       "      <th>69</th>\n",
       "      <td>0.999148</td>\n",
       "      <td>20698</td>\n",
       "    </tr>\n",
       "    <tr>\n",
       "      <th>22</th>\n",
       "      <td>0.998728</td>\n",
       "      <td>7244</td>\n",
       "    </tr>\n",
       "    <tr>\n",
       "      <th>82</th>\n",
       "      <td>0.998145</td>\n",
       "      <td>23600</td>\n",
       "    </tr>\n",
       "    <tr>\n",
       "      <th>68</th>\n",
       "      <td>0.997761</td>\n",
       "      <td>20463</td>\n",
       "    </tr>\n",
       "    <tr>\n",
       "      <th>47</th>\n",
       "      <td>0.997437</td>\n",
       "      <td>13903</td>\n",
       "    </tr>\n",
       "    <tr>\n",
       "      <th>23</th>\n",
       "      <td>0.997260</td>\n",
       "      <td>7295</td>\n",
       "    </tr>\n",
       "    <tr>\n",
       "      <th>73</th>\n",
       "      <td>0.995791</td>\n",
       "      <td>21361</td>\n",
       "    </tr>\n",
       "    <tr>\n",
       "      <th>10</th>\n",
       "      <td>0.995555</td>\n",
       "      <td>4050</td>\n",
       "    </tr>\n",
       "    <tr>\n",
       "      <th>37</th>\n",
       "      <td>0.995114</td>\n",
       "      <td>11471</td>\n",
       "    </tr>\n",
       "    <tr>\n",
       "      <th>55</th>\n",
       "      <td>0.993333</td>\n",
       "      <td>16007</td>\n",
       "    </tr>\n",
       "    <tr>\n",
       "      <th>34</th>\n",
       "      <td>0.992870</td>\n",
       "      <td>9344</td>\n",
       "    </tr>\n",
       "    <tr>\n",
       "      <th>43</th>\n",
       "      <td>0.992257</td>\n",
       "      <td>13368</td>\n",
       "    </tr>\n",
       "    <tr>\n",
       "      <th>17</th>\n",
       "      <td>0.992106</td>\n",
       "      <td>6451</td>\n",
       "    </tr>\n",
       "    <tr>\n",
       "      <th>6</th>\n",
       "      <td>0.991690</td>\n",
       "      <td>2467</td>\n",
       "    </tr>\n",
       "    <tr>\n",
       "      <th>83</th>\n",
       "      <td>0.991675</td>\n",
       "      <td>24187</td>\n",
       "    </tr>\n",
       "    <tr>\n",
       "      <th>48</th>\n",
       "      <td>0.991055</td>\n",
       "      <td>14000</td>\n",
       "    </tr>\n",
       "    <tr>\n",
       "      <th>28</th>\n",
       "      <td>0.991016</td>\n",
       "      <td>8003</td>\n",
       "    </tr>\n",
       "    <tr>\n",
       "      <th>31</th>\n",
       "      <td>0.987829</td>\n",
       "      <td>8538</td>\n",
       "    </tr>\n",
       "    <tr>\n",
       "      <th>40</th>\n",
       "      <td>0.986651</td>\n",
       "      <td>12494</td>\n",
       "    </tr>\n",
       "    <tr>\n",
       "      <th>7</th>\n",
       "      <td>0.986081</td>\n",
       "      <td>2838</td>\n",
       "    </tr>\n",
       "    <tr>\n",
       "      <th>49</th>\n",
       "      <td>0.984719</td>\n",
       "      <td>14174</td>\n",
       "    </tr>\n",
       "    <tr>\n",
       "      <th>42</th>\n",
       "      <td>0.983298</td>\n",
       "      <td>12931</td>\n",
       "    </tr>\n",
       "    <tr>\n",
       "      <th>74</th>\n",
       "      <td>0.980449</td>\n",
       "      <td>21457</td>\n",
       "    </tr>\n",
       "    <tr>\n",
       "      <th>13</th>\n",
       "      <td>0.980338</td>\n",
       "      <td>5194</td>\n",
       "    </tr>\n",
       "    <tr>\n",
       "      <th>93</th>\n",
       "      <td>0.978421</td>\n",
       "      <td>27487</td>\n",
       "    </tr>\n",
       "    <tr>\n",
       "      <th>76</th>\n",
       "      <td>0.977207</td>\n",
       "      <td>22333</td>\n",
       "    </tr>\n",
       "    <tr>\n",
       "      <th>59</th>\n",
       "      <td>0.975268</td>\n",
       "      <td>18765</td>\n",
       "    </tr>\n",
       "    <tr>\n",
       "      <th>11</th>\n",
       "      <td>0.975206</td>\n",
       "      <td>4229</td>\n",
       "    </tr>\n",
       "    <tr>\n",
       "      <th>32</th>\n",
       "      <td>0.974015</td>\n",
       "      <td>9029</td>\n",
       "    </tr>\n",
       "    <tr>\n",
       "      <th>15</th>\n",
       "      <td>0.973893</td>\n",
       "      <td>5527</td>\n",
       "    </tr>\n",
       "    <tr>\n",
       "      <th>62</th>\n",
       "      <td>0.972977</td>\n",
       "      <td>19493</td>\n",
       "    </tr>\n",
       "    <tr>\n",
       "      <th>79</th>\n",
       "      <td>0.971721</td>\n",
       "      <td>22690</td>\n",
       "    </tr>\n",
       "    <tr>\n",
       "      <th>54</th>\n",
       "      <td>0.969212</td>\n",
       "      <td>15214</td>\n",
       "    </tr>\n",
       "    <tr>\n",
       "      <th>63</th>\n",
       "      <td>0.968707</td>\n",
       "      <td>19894</td>\n",
       "    </tr>\n",
       "    <tr>\n",
       "      <th>84</th>\n",
       "      <td>0.967854</td>\n",
       "      <td>24591</td>\n",
       "    </tr>\n",
       "    <tr>\n",
       "      <th>61</th>\n",
       "      <td>0.967419</td>\n",
       "      <td>19153</td>\n",
       "    </tr>\n",
       "    <tr>\n",
       "      <th>29</th>\n",
       "      <td>0.966848</td>\n",
       "      <td>8102</td>\n",
       "    </tr>\n",
       "  </tbody>\n",
       "</table>\n",
       "</div>"
      ],
      "text/plain": [
       "    similarityIndex  user_id\n",
       "98         1.000000      500\n",
       "97         1.000000      394\n",
       "94         1.000000      168\n",
       "96         1.000000      310\n",
       "65         1.000000    19990\n",
       "95         1.000000      286\n",
       "36         0.999995    10395\n",
       "57         0.999975    17897\n",
       "38         0.999710    11857\n",
       "39         0.999690    12443\n",
       "0          0.999643       98\n",
       "14         0.999546     5244\n",
       "2          0.999352      909\n",
       "69         0.999148    20698\n",
       "22         0.998728     7244\n",
       "82         0.998145    23600\n",
       "68         0.997761    20463\n",
       "47         0.997437    13903\n",
       "23         0.997260     7295\n",
       "73         0.995791    21361\n",
       "10         0.995555     4050\n",
       "37         0.995114    11471\n",
       "55         0.993333    16007\n",
       "34         0.992870     9344\n",
       "43         0.992257    13368\n",
       "17         0.992106     6451\n",
       "6          0.991690     2467\n",
       "83         0.991675    24187\n",
       "48         0.991055    14000\n",
       "28         0.991016     8003\n",
       "31         0.987829     8538\n",
       "40         0.986651    12494\n",
       "7          0.986081     2838\n",
       "49         0.984719    14174\n",
       "42         0.983298    12931\n",
       "74         0.980449    21457\n",
       "13         0.980338     5194\n",
       "93         0.978421    27487\n",
       "76         0.977207    22333\n",
       "59         0.975268    18765\n",
       "11         0.975206     4229\n",
       "32         0.974015     9029\n",
       "15         0.973893     5527\n",
       "62         0.972977    19493\n",
       "79         0.971721    22690\n",
       "54         0.969212    15214\n",
       "63         0.968707    19894\n",
       "84         0.967854    24591\n",
       "61         0.967419    19153\n",
       "29         0.966848     8102"
      ]
     },
     "execution_count": 55,
     "metadata": {},
     "output_type": "execute_result"
    }
   ],
   "source": [
    "topUsers=pearsonDF.sort_values(by='similarityIndex', ascending=False)[0:50]\n",
    "topUsers.head(500)"
   ]
  },
  {
   "cell_type": "code",
   "execution_count": 56,
   "id": "1d6a3d41",
   "metadata": {
    "execution": {
     "iopub.execute_input": "2022-02-16T06:19:45.388034Z",
     "iopub.status.busy": "2022-02-16T06:19:45.387431Z",
     "iopub.status.idle": "2022-02-16T06:19:45.413042Z",
     "shell.execute_reply": "2022-02-16T06:19:45.412554Z",
     "shell.execute_reply.started": "2022-02-16T06:18:32.162347Z"
    },
    "papermill": {
     "duration": 0.114134,
     "end_time": "2022-02-16T06:19:45.413174",
     "exception": false,
     "start_time": "2022-02-16T06:19:45.299040",
     "status": "completed"
    },
    "tags": []
   },
   "outputs": [
    {
     "data": {
      "text/html": [
       "<div>\n",
       "<style scoped>\n",
       "    .dataframe tbody tr th:only-of-type {\n",
       "        vertical-align: middle;\n",
       "    }\n",
       "\n",
       "    .dataframe tbody tr th {\n",
       "        vertical-align: top;\n",
       "    }\n",
       "\n",
       "    .dataframe thead th {\n",
       "        text-align: right;\n",
       "    }\n",
       "</style>\n",
       "<table border=\"1\" class=\"dataframe\">\n",
       "  <thead>\n",
       "    <tr style=\"text-align: right;\">\n",
       "      <th></th>\n",
       "      <th>similarityIndex</th>\n",
       "      <th>user_id</th>\n",
       "      <th>row_id</th>\n",
       "      <th>category_id</th>\n",
       "      <th>video_id</th>\n",
       "      <th>age</th>\n",
       "      <th>gender</th>\n",
       "      <th>profession</th>\n",
       "      <th>followers</th>\n",
       "      <th>views</th>\n",
       "      <th>engagement_score</th>\n",
       "    </tr>\n",
       "  </thead>\n",
       "  <tbody>\n",
       "    <tr>\n",
       "      <th>0</th>\n",
       "      <td>1.0</td>\n",
       "      <td>500</td>\n",
       "      <td>1552</td>\n",
       "      <td>43</td>\n",
       "      <td>149</td>\n",
       "      <td>43</td>\n",
       "      <td>Female</td>\n",
       "      <td>Working Professional</td>\n",
       "      <td>280</td>\n",
       "      <td>617</td>\n",
       "      <td>4.05</td>\n",
       "    </tr>\n",
       "    <tr>\n",
       "      <th>1</th>\n",
       "      <td>1.0</td>\n",
       "      <td>500</td>\n",
       "      <td>50923</td>\n",
       "      <td>43</td>\n",
       "      <td>148</td>\n",
       "      <td>43</td>\n",
       "      <td>Female</td>\n",
       "      <td>Working Professional</td>\n",
       "      <td>280</td>\n",
       "      <td>617</td>\n",
       "      <td>2.40</td>\n",
       "    </tr>\n",
       "    <tr>\n",
       "      <th>2</th>\n",
       "      <td>1.0</td>\n",
       "      <td>394</td>\n",
       "      <td>51472</td>\n",
       "      <td>36</td>\n",
       "      <td>127</td>\n",
       "      <td>29</td>\n",
       "      <td>Female</td>\n",
       "      <td>Working Professional</td>\n",
       "      <td>260</td>\n",
       "      <td>178</td>\n",
       "      <td>1.96</td>\n",
       "    </tr>\n",
       "    <tr>\n",
       "      <th>3</th>\n",
       "      <td>1.0</td>\n",
       "      <td>394</td>\n",
       "      <td>65676</td>\n",
       "      <td>43</td>\n",
       "      <td>149</td>\n",
       "      <td>29</td>\n",
       "      <td>Female</td>\n",
       "      <td>Working Professional</td>\n",
       "      <td>280</td>\n",
       "      <td>617</td>\n",
       "      <td>3.65</td>\n",
       "    </tr>\n",
       "    <tr>\n",
       "      <th>4</th>\n",
       "      <td>1.0</td>\n",
       "      <td>394</td>\n",
       "      <td>69870</td>\n",
       "      <td>43</td>\n",
       "      <td>148</td>\n",
       "      <td>29</td>\n",
       "      <td>Female</td>\n",
       "      <td>Working Professional</td>\n",
       "      <td>280</td>\n",
       "      <td>617</td>\n",
       "      <td>1.84</td>\n",
       "    </tr>\n",
       "  </tbody>\n",
       "</table>\n",
       "</div>"
      ],
      "text/plain": [
       "   similarityIndex  user_id  row_id  category_id  video_id  age  gender  \\\n",
       "0              1.0      500    1552           43       149   43  Female   \n",
       "1              1.0      500   50923           43       148   43  Female   \n",
       "2              1.0      394   51472           36       127   29  Female   \n",
       "3              1.0      394   65676           43       149   29  Female   \n",
       "4              1.0      394   69870           43       148   29  Female   \n",
       "\n",
       "             profession  followers  views  engagement_score  \n",
       "0  Working Professional        280    617              4.05  \n",
       "1  Working Professional        280    617              2.40  \n",
       "2  Working Professional        260    178              1.96  \n",
       "3  Working Professional        280    617              3.65  \n",
       "4  Working Professional        280    617              1.84  "
      ]
     },
     "execution_count": 56,
     "metadata": {},
     "output_type": "execute_result"
    }
   ],
   "source": [
    "topUsersRating=topUsers.merge(train, left_on='user_id', right_on='user_id', how='inner')\n",
    "topUsersRating.head()"
   ]
  },
  {
   "cell_type": "code",
   "execution_count": null,
   "id": "c384328c",
   "metadata": {
    "papermill": {
     "duration": 0.077176,
     "end_time": "2022-02-16T06:19:45.567607",
     "exception": false,
     "start_time": "2022-02-16T06:19:45.490431",
     "status": "completed"
    },
    "tags": []
   },
   "outputs": [],
   "source": []
  },
  {
   "cell_type": "code",
   "execution_count": 57,
   "id": "c22cf3cc",
   "metadata": {
    "execution": {
     "iopub.execute_input": "2022-02-16T06:19:45.725610Z",
     "iopub.status.busy": "2022-02-16T06:19:45.724692Z",
     "iopub.status.idle": "2022-02-16T06:19:45.736779Z",
     "shell.execute_reply": "2022-02-16T06:19:45.737243Z",
     "shell.execute_reply.started": "2022-02-16T06:18:32.197096Z"
    },
    "papermill": {
     "duration": 0.092257,
     "end_time": "2022-02-16T06:19:45.737430",
     "exception": false,
     "start_time": "2022-02-16T06:19:45.645173",
     "status": "completed"
    },
    "tags": []
   },
   "outputs": [
    {
     "data": {
      "text/html": [
       "<div>\n",
       "<style scoped>\n",
       "    .dataframe tbody tr th:only-of-type {\n",
       "        vertical-align: middle;\n",
       "    }\n",
       "\n",
       "    .dataframe tbody tr th {\n",
       "        vertical-align: top;\n",
       "    }\n",
       "\n",
       "    .dataframe thead th {\n",
       "        text-align: right;\n",
       "    }\n",
       "</style>\n",
       "<table border=\"1\" class=\"dataframe\">\n",
       "  <thead>\n",
       "    <tr style=\"text-align: right;\">\n",
       "      <th></th>\n",
       "      <th>row_id</th>\n",
       "      <th>user_id</th>\n",
       "      <th>category_id</th>\n",
       "      <th>video_id</th>\n",
       "      <th>age</th>\n",
       "      <th>gender</th>\n",
       "      <th>profession</th>\n",
       "      <th>followers</th>\n",
       "      <th>views</th>\n",
       "      <th>engagement_score</th>\n",
       "    </tr>\n",
       "  </thead>\n",
       "  <tbody>\n",
       "    <tr>\n",
       "      <th>23403</th>\n",
       "      <td>23404</td>\n",
       "      <td>8280</td>\n",
       "      <td>35</td>\n",
       "      <td>126</td>\n",
       "      <td>31</td>\n",
       "      <td>Male</td>\n",
       "      <td>Other</td>\n",
       "      <td>260</td>\n",
       "      <td>134</td>\n",
       "      <td>3.91</td>\n",
       "    </tr>\n",
       "    <tr>\n",
       "      <th>32235</th>\n",
       "      <td>32236</td>\n",
       "      <td>8280</td>\n",
       "      <td>43</td>\n",
       "      <td>148</td>\n",
       "      <td>31</td>\n",
       "      <td>Male</td>\n",
       "      <td>Other</td>\n",
       "      <td>280</td>\n",
       "      <td>617</td>\n",
       "      <td>4.60</td>\n",
       "    </tr>\n",
       "    <tr>\n",
       "      <th>36911</th>\n",
       "      <td>36912</td>\n",
       "      <td>8280</td>\n",
       "      <td>43</td>\n",
       "      <td>149</td>\n",
       "      <td>31</td>\n",
       "      <td>Male</td>\n",
       "      <td>Other</td>\n",
       "      <td>280</td>\n",
       "      <td>617</td>\n",
       "      <td>4.61</td>\n",
       "    </tr>\n",
       "    <tr>\n",
       "      <th>55669</th>\n",
       "      <td>55670</td>\n",
       "      <td>8280</td>\n",
       "      <td>35</td>\n",
       "      <td>106</td>\n",
       "      <td>31</td>\n",
       "      <td>Male</td>\n",
       "      <td>Other</td>\n",
       "      <td>260</td>\n",
       "      <td>134</td>\n",
       "      <td>4.48</td>\n",
       "    </tr>\n",
       "    <tr>\n",
       "      <th>63641</th>\n",
       "      <td>63642</td>\n",
       "      <td>8280</td>\n",
       "      <td>37</td>\n",
       "      <td>108</td>\n",
       "      <td>31</td>\n",
       "      <td>Male</td>\n",
       "      <td>Other</td>\n",
       "      <td>180</td>\n",
       "      <td>1000</td>\n",
       "      <td>3.97</td>\n",
       "    </tr>\n",
       "  </tbody>\n",
       "</table>\n",
       "</div>"
      ],
      "text/plain": [
       "       row_id  user_id  category_id  video_id  age gender profession  \\\n",
       "23403   23404     8280           35       126   31   Male      Other   \n",
       "32235   32236     8280           43       148   31   Male      Other   \n",
       "36911   36912     8280           43       149   31   Male      Other   \n",
       "55669   55670     8280           35       106   31   Male      Other   \n",
       "63641   63642     8280           37       108   31   Male      Other   \n",
       "\n",
       "       followers  views  engagement_score  \n",
       "23403        260    134              3.91  \n",
       "32235        280    617              4.60  \n",
       "36911        280    617              4.61  \n",
       "55669        260    134              4.48  \n",
       "63641        180   1000              3.97  "
      ]
     },
     "execution_count": 57,
     "metadata": {},
     "output_type": "execute_result"
    }
   ],
   "source": [
    "train[train['user_id']==8280]"
   ]
  },
  {
   "cell_type": "code",
   "execution_count": 58,
   "id": "39540d29",
   "metadata": {
    "execution": {
     "iopub.execute_input": "2022-02-16T06:19:45.897016Z",
     "iopub.status.busy": "2022-02-16T06:19:45.896056Z",
     "iopub.status.idle": "2022-02-16T06:19:45.909537Z",
     "shell.execute_reply": "2022-02-16T06:19:45.909929Z",
     "shell.execute_reply.started": "2022-02-16T06:18:32.214547Z"
    },
    "papermill": {
     "duration": 0.095443,
     "end_time": "2022-02-16T06:19:45.910090",
     "exception": false,
     "start_time": "2022-02-16T06:19:45.814647",
     "status": "completed"
    },
    "tags": []
   },
   "outputs": [
    {
     "data": {
      "text/html": [
       "<div>\n",
       "<style scoped>\n",
       "    .dataframe tbody tr th:only-of-type {\n",
       "        vertical-align: middle;\n",
       "    }\n",
       "\n",
       "    .dataframe tbody tr th {\n",
       "        vertical-align: top;\n",
       "    }\n",
       "\n",
       "    .dataframe thead th {\n",
       "        text-align: right;\n",
       "    }\n",
       "</style>\n",
       "<table border=\"1\" class=\"dataframe\">\n",
       "  <thead>\n",
       "    <tr style=\"text-align: right;\">\n",
       "      <th></th>\n",
       "      <th>similarityIndex</th>\n",
       "      <th>user_id</th>\n",
       "      <th>row_id</th>\n",
       "      <th>category_id</th>\n",
       "      <th>video_id</th>\n",
       "      <th>age</th>\n",
       "      <th>gender</th>\n",
       "      <th>profession</th>\n",
       "      <th>followers</th>\n",
       "      <th>views</th>\n",
       "      <th>engagement_score</th>\n",
       "      <th>weightedRating</th>\n",
       "    </tr>\n",
       "  </thead>\n",
       "  <tbody>\n",
       "    <tr>\n",
       "      <th>0</th>\n",
       "      <td>1.0</td>\n",
       "      <td>500</td>\n",
       "      <td>1552</td>\n",
       "      <td>43</td>\n",
       "      <td>149</td>\n",
       "      <td>43</td>\n",
       "      <td>Female</td>\n",
       "      <td>Working Professional</td>\n",
       "      <td>280</td>\n",
       "      <td>617</td>\n",
       "      <td>4.05</td>\n",
       "      <td>4.05</td>\n",
       "    </tr>\n",
       "    <tr>\n",
       "      <th>1</th>\n",
       "      <td>1.0</td>\n",
       "      <td>500</td>\n",
       "      <td>50923</td>\n",
       "      <td>43</td>\n",
       "      <td>148</td>\n",
       "      <td>43</td>\n",
       "      <td>Female</td>\n",
       "      <td>Working Professional</td>\n",
       "      <td>280</td>\n",
       "      <td>617</td>\n",
       "      <td>2.40</td>\n",
       "      <td>2.40</td>\n",
       "    </tr>\n",
       "    <tr>\n",
       "      <th>2</th>\n",
       "      <td>1.0</td>\n",
       "      <td>394</td>\n",
       "      <td>51472</td>\n",
       "      <td>36</td>\n",
       "      <td>127</td>\n",
       "      <td>29</td>\n",
       "      <td>Female</td>\n",
       "      <td>Working Professional</td>\n",
       "      <td>260</td>\n",
       "      <td>178</td>\n",
       "      <td>1.96</td>\n",
       "      <td>1.96</td>\n",
       "    </tr>\n",
       "    <tr>\n",
       "      <th>3</th>\n",
       "      <td>1.0</td>\n",
       "      <td>394</td>\n",
       "      <td>65676</td>\n",
       "      <td>43</td>\n",
       "      <td>149</td>\n",
       "      <td>29</td>\n",
       "      <td>Female</td>\n",
       "      <td>Working Professional</td>\n",
       "      <td>280</td>\n",
       "      <td>617</td>\n",
       "      <td>3.65</td>\n",
       "      <td>3.65</td>\n",
       "    </tr>\n",
       "    <tr>\n",
       "      <th>4</th>\n",
       "      <td>1.0</td>\n",
       "      <td>394</td>\n",
       "      <td>69870</td>\n",
       "      <td>43</td>\n",
       "      <td>148</td>\n",
       "      <td>29</td>\n",
       "      <td>Female</td>\n",
       "      <td>Working Professional</td>\n",
       "      <td>280</td>\n",
       "      <td>617</td>\n",
       "      <td>1.84</td>\n",
       "      <td>1.84</td>\n",
       "    </tr>\n",
       "  </tbody>\n",
       "</table>\n",
       "</div>"
      ],
      "text/plain": [
       "   similarityIndex  user_id  row_id  category_id  video_id  age  gender  \\\n",
       "0              1.0      500    1552           43       149   43  Female   \n",
       "1              1.0      500   50923           43       148   43  Female   \n",
       "2              1.0      394   51472           36       127   29  Female   \n",
       "3              1.0      394   65676           43       149   29  Female   \n",
       "4              1.0      394   69870           43       148   29  Female   \n",
       "\n",
       "             profession  followers  views  engagement_score  weightedRating  \n",
       "0  Working Professional        280    617              4.05            4.05  \n",
       "1  Working Professional        280    617              2.40            2.40  \n",
       "2  Working Professional        260    178              1.96            1.96  \n",
       "3  Working Professional        280    617              3.65            3.65  \n",
       "4  Working Professional        280    617              1.84            1.84  "
      ]
     },
     "execution_count": 58,
     "metadata": {},
     "output_type": "execute_result"
    }
   ],
   "source": [
    "#Multiplies the similarity by the user's ratings\n",
    "topUsersRating['weightedRating'] = topUsersRating['similarityIndex']*topUsersRating['engagement_score']\n",
    "topUsersRating.head()"
   ]
  },
  {
   "cell_type": "code",
   "execution_count": 59,
   "id": "c2127fb4",
   "metadata": {
    "execution": {
     "iopub.execute_input": "2022-02-16T06:19:46.067965Z",
     "iopub.status.busy": "2022-02-16T06:19:46.067048Z",
     "iopub.status.idle": "2022-02-16T06:19:46.082090Z",
     "shell.execute_reply": "2022-02-16T06:19:46.082561Z",
     "shell.execute_reply.started": "2022-02-16T06:18:32.231606Z"
    },
    "papermill": {
     "duration": 0.095635,
     "end_time": "2022-02-16T06:19:46.082726",
     "exception": false,
     "start_time": "2022-02-16T06:19:45.987091",
     "status": "completed"
    },
    "tags": []
   },
   "outputs": [
    {
     "data": {
      "text/html": [
       "<div>\n",
       "<style scoped>\n",
       "    .dataframe tbody tr th:only-of-type {\n",
       "        vertical-align: middle;\n",
       "    }\n",
       "\n",
       "    .dataframe tbody tr th {\n",
       "        vertical-align: top;\n",
       "    }\n",
       "\n",
       "    .dataframe thead th {\n",
       "        text-align: right;\n",
       "    }\n",
       "</style>\n",
       "<table border=\"1\" class=\"dataframe\">\n",
       "  <thead>\n",
       "    <tr style=\"text-align: right;\">\n",
       "      <th></th>\n",
       "      <th>sum_similarityIndex</th>\n",
       "      <th>sum_weightedRating</th>\n",
       "    </tr>\n",
       "    <tr>\n",
       "      <th>video_id</th>\n",
       "      <th></th>\n",
       "      <th></th>\n",
       "    </tr>\n",
       "  </thead>\n",
       "  <tbody>\n",
       "    <tr>\n",
       "      <th>106</th>\n",
       "      <td>7.843321</td>\n",
       "      <td>32.365969</td>\n",
       "    </tr>\n",
       "    <tr>\n",
       "      <th>107</th>\n",
       "      <td>9.931940</td>\n",
       "      <td>39.883221</td>\n",
       "    </tr>\n",
       "    <tr>\n",
       "      <th>108</th>\n",
       "      <td>21.778595</td>\n",
       "      <td>61.864232</td>\n",
       "    </tr>\n",
       "    <tr>\n",
       "      <th>126</th>\n",
       "      <td>5.875433</td>\n",
       "      <td>18.024184</td>\n",
       "    </tr>\n",
       "    <tr>\n",
       "      <th>127</th>\n",
       "      <td>15.892976</td>\n",
       "      <td>57.828312</td>\n",
       "    </tr>\n",
       "  </tbody>\n",
       "</table>\n",
       "</div>"
      ],
      "text/plain": [
       "          sum_similarityIndex  sum_weightedRating\n",
       "video_id                                         \n",
       "106                  7.843321           32.365969\n",
       "107                  9.931940           39.883221\n",
       "108                 21.778595           61.864232\n",
       "126                  5.875433           18.024184\n",
       "127                 15.892976           57.828312"
      ]
     },
     "execution_count": 59,
     "metadata": {},
     "output_type": "execute_result"
    }
   ],
   "source": [
    "#Applies a sum to the topUsers after grouping it up by userId\n",
    "tempTopUsersRating = topUsersRating.groupby('video_id').sum()[['similarityIndex','weightedRating']]\n",
    "tempTopUsersRating.columns = ['sum_similarityIndex','sum_weightedRating']\n",
    "tempTopUsersRating.head()"
   ]
  },
  {
   "cell_type": "code",
   "execution_count": 60,
   "id": "aa8fd146",
   "metadata": {
    "execution": {
     "iopub.execute_input": "2022-02-16T06:19:46.241278Z",
     "iopub.status.busy": "2022-02-16T06:19:46.240314Z",
     "iopub.status.idle": "2022-02-16T06:19:46.252764Z",
     "shell.execute_reply": "2022-02-16T06:19:46.253158Z",
     "shell.execute_reply.started": "2022-02-16T06:18:32.252388Z"
    },
    "papermill": {
     "duration": 0.093003,
     "end_time": "2022-02-16T06:19:46.253322",
     "exception": false,
     "start_time": "2022-02-16T06:19:46.160319",
     "status": "completed"
    },
    "tags": []
   },
   "outputs": [
    {
     "data": {
      "text/html": [
       "<div>\n",
       "<style scoped>\n",
       "    .dataframe tbody tr th:only-of-type {\n",
       "        vertical-align: middle;\n",
       "    }\n",
       "\n",
       "    .dataframe tbody tr th {\n",
       "        vertical-align: top;\n",
       "    }\n",
       "\n",
       "    .dataframe thead th {\n",
       "        text-align: right;\n",
       "    }\n",
       "</style>\n",
       "<table border=\"1\" class=\"dataframe\">\n",
       "  <thead>\n",
       "    <tr style=\"text-align: right;\">\n",
       "      <th></th>\n",
       "      <th>weighted average recommendation score</th>\n",
       "      <th>video_id</th>\n",
       "      <th>user_id</th>\n",
       "    </tr>\n",
       "    <tr>\n",
       "      <th>video_id</th>\n",
       "      <th></th>\n",
       "      <th></th>\n",
       "      <th></th>\n",
       "    </tr>\n",
       "  </thead>\n",
       "  <tbody>\n",
       "    <tr>\n",
       "      <th>106</th>\n",
       "      <td>4.126564</td>\n",
       "      <td>106</td>\n",
       "      <td>19990</td>\n",
       "    </tr>\n",
       "    <tr>\n",
       "      <th>107</th>\n",
       "      <td>4.015652</td>\n",
       "      <td>107</td>\n",
       "      <td>19990</td>\n",
       "    </tr>\n",
       "    <tr>\n",
       "      <th>108</th>\n",
       "      <td>2.840598</td>\n",
       "      <td>108</td>\n",
       "      <td>19990</td>\n",
       "    </tr>\n",
       "    <tr>\n",
       "      <th>126</th>\n",
       "      <td>3.067720</td>\n",
       "      <td>126</td>\n",
       "      <td>19990</td>\n",
       "    </tr>\n",
       "    <tr>\n",
       "      <th>127</th>\n",
       "      <td>3.638608</td>\n",
       "      <td>127</td>\n",
       "      <td>19990</td>\n",
       "    </tr>\n",
       "  </tbody>\n",
       "</table>\n",
       "</div>"
      ],
      "text/plain": [
       "          weighted average recommendation score  video_id  user_id\n",
       "video_id                                                          \n",
       "106                                    4.126564       106    19990\n",
       "107                                    4.015652       107    19990\n",
       "108                                    2.840598       108    19990\n",
       "126                                    3.067720       126    19990\n",
       "127                                    3.638608       127    19990"
      ]
     },
     "execution_count": 60,
     "metadata": {},
     "output_type": "execute_result"
    }
   ],
   "source": [
    "#Creates an empty dataframe\n",
    "recommendation_df = pd.DataFrame()\n",
    "#Now we take the weighted average\n",
    "recommendation_df['weighted average recommendation score'] = tempTopUsersRating['sum_weightedRating']/tempTopUsersRating['sum_similarityIndex']\n",
    "recommendation_df['video_id'] = tempTopUsersRating.index\n",
    "recommendation_df['user_id'] = 19990\n",
    "recommendation_df.head()"
   ]
  },
  {
   "cell_type": "code",
   "execution_count": 61,
   "id": "01062034",
   "metadata": {
    "execution": {
     "iopub.execute_input": "2022-02-16T06:19:46.412690Z",
     "iopub.status.busy": "2022-02-16T06:19:46.411769Z",
     "iopub.status.idle": "2022-02-16T06:19:46.415978Z",
     "shell.execute_reply": "2022-02-16T06:19:46.416557Z",
     "shell.execute_reply.started": "2022-02-16T06:18:32.267817Z"
    },
    "papermill": {
     "duration": 0.085605,
     "end_time": "2022-02-16T06:19:46.416731",
     "exception": false,
     "start_time": "2022-02-16T06:19:46.331126",
     "status": "completed"
    },
    "tags": []
   },
   "outputs": [],
   "source": [
    "recommendation_df = recommendation_df.sort_values(by='weighted average recommendation score', ascending=False)\n"
   ]
  },
  {
   "cell_type": "code",
   "execution_count": 62,
   "id": "a8540897",
   "metadata": {
    "execution": {
     "iopub.execute_input": "2022-02-16T06:19:46.590183Z",
     "iopub.status.busy": "2022-02-16T06:19:46.589358Z",
     "iopub.status.idle": "2022-02-16T06:19:46.592778Z",
     "shell.execute_reply": "2022-02-16T06:19:46.593210Z",
     "shell.execute_reply.started": "2022-02-16T06:18:32.273297Z"
    },
    "papermill": {
     "duration": 0.098459,
     "end_time": "2022-02-16T06:19:46.593402",
     "exception": false,
     "start_time": "2022-02-16T06:19:46.494943",
     "status": "completed"
    },
    "tags": []
   },
   "outputs": [
    {
     "data": {
      "text/html": [
       "<div>\n",
       "<style scoped>\n",
       "    .dataframe tbody tr th:only-of-type {\n",
       "        vertical-align: middle;\n",
       "    }\n",
       "\n",
       "    .dataframe tbody tr th {\n",
       "        vertical-align: top;\n",
       "    }\n",
       "\n",
       "    .dataframe thead th {\n",
       "        text-align: right;\n",
       "    }\n",
       "</style>\n",
       "<table border=\"1\" class=\"dataframe\">\n",
       "  <thead>\n",
       "    <tr style=\"text-align: right;\">\n",
       "      <th></th>\n",
       "      <th>row_id</th>\n",
       "      <th>user_id</th>\n",
       "      <th>category_id</th>\n",
       "      <th>video_id</th>\n",
       "      <th>age</th>\n",
       "      <th>gender</th>\n",
       "      <th>profession</th>\n",
       "      <th>followers</th>\n",
       "      <th>views</th>\n",
       "      <th>engagement_score</th>\n",
       "    </tr>\n",
       "  </thead>\n",
       "  <tbody>\n",
       "    <tr>\n",
       "      <th>0</th>\n",
       "      <td>1</td>\n",
       "      <td>19990</td>\n",
       "      <td>37</td>\n",
       "      <td>128</td>\n",
       "      <td>24</td>\n",
       "      <td>Male</td>\n",
       "      <td>Student</td>\n",
       "      <td>180</td>\n",
       "      <td>1000</td>\n",
       "      <td>4.33</td>\n",
       "    </tr>\n",
       "    <tr>\n",
       "      <th>1</th>\n",
       "      <td>2</td>\n",
       "      <td>5304</td>\n",
       "      <td>32</td>\n",
       "      <td>132</td>\n",
       "      <td>14</td>\n",
       "      <td>Female</td>\n",
       "      <td>Student</td>\n",
       "      <td>330</td>\n",
       "      <td>714</td>\n",
       "      <td>1.79</td>\n",
       "    </tr>\n",
       "    <tr>\n",
       "      <th>2</th>\n",
       "      <td>3</td>\n",
       "      <td>1840</td>\n",
       "      <td>12</td>\n",
       "      <td>24</td>\n",
       "      <td>19</td>\n",
       "      <td>Male</td>\n",
       "      <td>Student</td>\n",
       "      <td>180</td>\n",
       "      <td>138</td>\n",
       "      <td>4.35</td>\n",
       "    </tr>\n",
       "    <tr>\n",
       "      <th>3</th>\n",
       "      <td>4</td>\n",
       "      <td>12597</td>\n",
       "      <td>23</td>\n",
       "      <td>112</td>\n",
       "      <td>19</td>\n",
       "      <td>Male</td>\n",
       "      <td>Student</td>\n",
       "      <td>220</td>\n",
       "      <td>613</td>\n",
       "      <td>3.77</td>\n",
       "    </tr>\n",
       "    <tr>\n",
       "      <th>4</th>\n",
       "      <td>5</td>\n",
       "      <td>13626</td>\n",
       "      <td>23</td>\n",
       "      <td>112</td>\n",
       "      <td>27</td>\n",
       "      <td>Male</td>\n",
       "      <td>Working Professional</td>\n",
       "      <td>220</td>\n",
       "      <td>613</td>\n",
       "      <td>3.13</td>\n",
       "    </tr>\n",
       "    <tr>\n",
       "      <th>...</th>\n",
       "      <td>...</td>\n",
       "      <td>...</td>\n",
       "      <td>...</td>\n",
       "      <td>...</td>\n",
       "      <td>...</td>\n",
       "      <td>...</td>\n",
       "      <td>...</td>\n",
       "      <td>...</td>\n",
       "      <td>...</td>\n",
       "      <td>...</td>\n",
       "    </tr>\n",
       "    <tr>\n",
       "      <th>89192</th>\n",
       "      <td>89193</td>\n",
       "      <td>23996</td>\n",
       "      <td>15</td>\n",
       "      <td>32</td>\n",
       "      <td>25</td>\n",
       "      <td>Male</td>\n",
       "      <td>Other</td>\n",
       "      <td>340</td>\n",
       "      <td>662</td>\n",
       "      <td>3.91</td>\n",
       "    </tr>\n",
       "    <tr>\n",
       "      <th>89193</th>\n",
       "      <td>89194</td>\n",
       "      <td>20466</td>\n",
       "      <td>20</td>\n",
       "      <td>47</td>\n",
       "      <td>31</td>\n",
       "      <td>Male</td>\n",
       "      <td>Other</td>\n",
       "      <td>240</td>\n",
       "      <td>892</td>\n",
       "      <td>3.56</td>\n",
       "    </tr>\n",
       "    <tr>\n",
       "      <th>89194</th>\n",
       "      <td>89195</td>\n",
       "      <td>13655</td>\n",
       "      <td>16</td>\n",
       "      <td>97</td>\n",
       "      <td>25</td>\n",
       "      <td>Male</td>\n",
       "      <td>Student</td>\n",
       "      <td>270</td>\n",
       "      <td>462</td>\n",
       "      <td>4.23</td>\n",
       "    </tr>\n",
       "    <tr>\n",
       "      <th>89195</th>\n",
       "      <td>89196</td>\n",
       "      <td>24840</td>\n",
       "      <td>9</td>\n",
       "      <td>18</td>\n",
       "      <td>35</td>\n",
       "      <td>Male</td>\n",
       "      <td>Working Professional</td>\n",
       "      <td>230</td>\n",
       "      <td>819</td>\n",
       "      <td>3.77</td>\n",
       "    </tr>\n",
       "    <tr>\n",
       "      <th>89196</th>\n",
       "      <td>89197</td>\n",
       "      <td>27183</td>\n",
       "      <td>25</td>\n",
       "      <td>150</td>\n",
       "      <td>13</td>\n",
       "      <td>Male</td>\n",
       "      <td>Student</td>\n",
       "      <td>240</td>\n",
       "      <td>317</td>\n",
       "      <td>4.31</td>\n",
       "    </tr>\n",
       "  </tbody>\n",
       "</table>\n",
       "<p>89197 rows × 10 columns</p>\n",
       "</div>"
      ],
      "text/plain": [
       "       row_id  user_id  category_id  video_id  age  gender  \\\n",
       "0           1    19990           37       128   24    Male   \n",
       "1           2     5304           32       132   14  Female   \n",
       "2           3     1840           12        24   19    Male   \n",
       "3           4    12597           23       112   19    Male   \n",
       "4           5    13626           23       112   27    Male   \n",
       "...       ...      ...          ...       ...  ...     ...   \n",
       "89192   89193    23996           15        32   25    Male   \n",
       "89193   89194    20466           20        47   31    Male   \n",
       "89194   89195    13655           16        97   25    Male   \n",
       "89195   89196    24840            9        18   35    Male   \n",
       "89196   89197    27183           25       150   13    Male   \n",
       "\n",
       "                 profession  followers  views  engagement_score  \n",
       "0                   Student        180   1000              4.33  \n",
       "1                   Student        330    714              1.79  \n",
       "2                   Student        180    138              4.35  \n",
       "3                   Student        220    613              3.77  \n",
       "4      Working Professional        220    613              3.13  \n",
       "...                     ...        ...    ...               ...  \n",
       "89192                 Other        340    662              3.91  \n",
       "89193                 Other        240    892              3.56  \n",
       "89194               Student        270    462              4.23  \n",
       "89195  Working Professional        230    819              3.77  \n",
       "89196               Student        240    317              4.31  \n",
       "\n",
       "[89197 rows x 10 columns]"
      ]
     },
     "execution_count": 62,
     "metadata": {},
     "output_type": "execute_result"
    }
   ],
   "source": [
    "train"
   ]
  }
 ],
 "metadata": {
  "kernelspec": {
   "display_name": "Python 3",
   "language": "python",
   "name": "python3"
  },
  "language_info": {
   "codemirror_mode": {
    "name": "ipython",
    "version": 3
   },
   "file_extension": ".py",
   "mimetype": "text/x-python",
   "name": "python",
   "nbconvert_exporter": "python",
   "pygments_lexer": "ipython3",
   "version": "3.7.12"
  },
  "papermill": {
   "default_parameters": {},
   "duration": 31.013654,
   "end_time": "2022-02-16T06:19:47.585245",
   "environment_variables": {},
   "exception": null,
   "input_path": "__notebook__.ipynb",
   "output_path": "__notebook__.ipynb",
   "parameters": {},
   "start_time": "2022-02-16T06:19:16.571591",
   "version": "2.3.3"
  }
 },
 "nbformat": 4,
 "nbformat_minor": 5
}
